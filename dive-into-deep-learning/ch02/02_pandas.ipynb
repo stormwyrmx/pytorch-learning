{
 "cells": [
  {
   "metadata": {
    "ExecuteTime": {
     "end_time": "2024-12-08T09:18:22.836546Z",
     "start_time": "2024-12-08T09:18:15.416874Z"
    }
   },
   "cell_type": "code",
   "source": [
    "import pandas as pd\n",
    "import os\n",
    "\n",
    "import torch\n",
    "from pandas import DataFrame"
   ],
   "id": "4a2d30cf78e4f87c",
   "outputs": [],
   "execution_count": 1
  },
  {
   "metadata": {
    "ExecuteTime": {
     "end_time": "2024-12-08T09:18:35.982076Z",
     "start_time": "2024-12-08T09:18:35.954441Z"
    }
   },
   "cell_type": "code",
   "source": [
    "\n",
    "\"\"\"\n",
    "pandas预处理原始数据，并将原始数据转换为张量格式\n",
    "\"\"\"\n",
    "os.makedirs(os.path.join('../..', 'data'), exist_ok=True)\n",
    "data_file = os.path.join('../..', 'data', 'house_tiny.csv')\n",
    "with open(data_file, 'w') as f:\n",
    "    f.write('NumRooms,Alley,Price\\n')  # 列名\n",
    "    f.write('NA,Pave,127500\\n')  # 每行表示一个数据样本\n",
    "    f.write('2,NA,106000\\n')\n",
    "    f.write('4,NA,178100\\n')\n",
    "    f.write('NA,NA,140000\\n')\n",
    "\n",
    "data = pd.read_csv(data_file)\n",
    "print(data)"
   ],
   "id": "96c4fb5c730d8c70",
   "outputs": [
    {
     "name": "stdout",
     "output_type": "stream",
     "text": [
      "   NumRooms Alley   Price\n",
      "0       NaN  Pave  127500\n",
      "1       2.0   NaN  106000\n",
      "2       4.0   NaN  178100\n",
      "3       NaN   NaN  140000\n"
     ]
    }
   ],
   "execution_count": 2
  },
  {
   "metadata": {
    "ExecuteTime": {
     "end_time": "2024-12-08T09:18:54.285504Z",
     "start_time": "2024-12-08T09:18:54.275399Z"
    }
   },
   "cell_type": "code",
   "source": [
    "\n",
    "inputs:DataFrame = data.iloc[:, 0:2]\n",
    "outputs:DataFrame = data.iloc[:, 2]\n",
    "\n",
    "inputs.fillna(inputs.mean(numeric_only=True), inplace=True)\n",
    "print(inputs)"
   ],
   "id": "2a84b1fd5b5daee6",
   "outputs": [
    {
     "name": "stdout",
     "output_type": "stream",
     "text": [
      "   NumRooms Alley\n",
      "0       3.0  Pave\n",
      "1       2.0   NaN\n",
      "2       4.0   NaN\n",
      "3       3.0   NaN\n"
     ]
    }
   ],
   "execution_count": 3
  },
  {
   "metadata": {
    "ExecuteTime": {
     "end_time": "2024-12-08T09:18:57.037523Z",
     "start_time": "2024-12-08T09:18:57.026866Z"
    }
   },
   "cell_type": "code",
   "source": [
    "\n",
    "inputs = pd.get_dummies(inputs, dummy_na=True,dtype=int)\n",
    "# one-hot encoding\n",
    "#  It creates new binary columns (0s and 1s) for each category in the original variable.\n",
    "#  Each category in the original column is represented as a separate column,\n",
    "#  where a value of 1 indicates the presence of that category, and 0 indicates its absence.\n",
    "# convert categorical variables into dummy/indicator variables.\n",
    "# It does not convert numerical values into dummy variables\n",
    "print(inputs)  # col的名字再加上了_后面的值，1表示有，0表示没有"
   ],
   "id": "f74318bcd40dee25",
   "outputs": [
    {
     "name": "stdout",
     "output_type": "stream",
     "text": [
      "   NumRooms  Alley_Pave  Alley_nan\n",
      "0       3.0           1          0\n",
      "1       2.0           0          1\n",
      "2       4.0           0          1\n",
      "3       3.0           0          1\n"
     ]
    }
   ],
   "execution_count": 4
  },
  {
   "metadata": {
    "ExecuteTime": {
     "end_time": "2024-12-08T09:18:59.454730Z",
     "start_time": "2024-12-08T09:18:59.396865Z"
    }
   },
   "cell_type": "code",
   "source": [
    "\n",
    "# print(torch.tensor(inputs.to_numpy()))\n",
    "x,y=torch.tensor(inputs.values),torch.tensor(outputs.values)  # dataframe要转为tensor的话，只能使用values(numpy的二维数组)\n",
    "print(x,y)  # python默认使用float64，深度学习一般用float32"
   ],
   "id": "13ef48a36d484590",
   "outputs": [
    {
     "name": "stdout",
     "output_type": "stream",
     "text": [
      "tensor([[3., 1., 0.],\n",
      "        [2., 0., 1.],\n",
      "        [4., 0., 1.],\n",
      "        [3., 0., 1.]], dtype=torch.float64) tensor([127500, 106000, 178100, 140000])\n"
     ]
    }
   ],
   "execution_count": 5
  },
  {
   "metadata": {
    "ExecuteTime": {
     "end_time": "2024-12-08T09:19:01.582574Z",
     "start_time": "2024-12-08T09:19:01.572422Z"
    }
   },
   "cell_type": "code",
   "source": [
    "\n",
    "print(\"------------练习------------\")\n",
    "# 删除缺失值最多的列\n",
    "count_max=0\n",
    "label=\"\"\n",
    "for key in data.keys():\n",
    "    if count_max<data.loc[:,key].isna().sum():\n",
    "        count_max=data.loc[:,key].isna().sum()\n",
    "        label=key\n",
    "\n",
    "print(data.drop(axis=1,columns=label))\n",
    "print(data)\n",
    "\n"
   ],
   "id": "942c4ece1d1af7cc",
   "outputs": [
    {
     "name": "stdout",
     "output_type": "stream",
     "text": [
      "------------练习------------\n",
      "   NumRooms   Price\n",
      "0       NaN  127500\n",
      "1       2.0  106000\n",
      "2       4.0  178100\n",
      "3       NaN  140000\n",
      "   NumRooms Alley   Price\n",
      "0       NaN  Pave  127500\n",
      "1       2.0   NaN  106000\n",
      "2       4.0   NaN  178100\n",
      "3       NaN   NaN  140000\n"
     ]
    }
   ],
   "execution_count": 6
  }
 ],
 "metadata": {
  "kernelspec": {
   "name": "python3",
   "language": "python",
   "display_name": "Python 3 (ipykernel)"
  }
 },
 "nbformat": 5,
 "nbformat_minor": 9
}
