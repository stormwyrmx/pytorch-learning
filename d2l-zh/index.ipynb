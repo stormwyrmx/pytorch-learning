{
 "cells": [
  {
   "cell_type": "markdown",
   "id": "bc53b743",
   "metadata": {
    "origin_pos": 0
   },
   "source": [
    "《动手学深度学习》\n",
    "========================\n",
    "\n",
    "```eval_rst\n",
    ".. raw:: html\n",
    "   :file: frontpage.html\n",
    "```\n",
    "\n",
    ":begin_tab:toc\n",
    " - [chapter_preface/index](00_chapter_preface/index.ipynb)\n",
    " - [chapter_installation/index](00_chapter_installation/index.ipynb)\n",
    " - [chapter_notation/index](00_chapter_notation/index.ipynb)\n",
    ":end_tab:\n",
    "\n",
    ":begin_tab:toc\n",
    " - [chapter_introduction/index](01_chapter_introduction/index.ipynb)\n",
    " - [chapter_preliminaries/index](02_chapter_preliminaries/index.ipynb)\n",
    " - [chapter_linear-networks/index](02_chapter_linear-networks/index.ipynb)\n",
    " - [chapter_multilayer-perceptrons/index](03_chapter_multilayer-perceptrons/index.ipynb)\n",
    " - [chapter_deep-learning-computation/index](05_chapter_deep-learning-computation/index.ipynb)\n",
    " - [chapter_convolutional-neural-networks/index](06_chapter_convolutional-neural-networks/index.ipynb)\n",
    " - [chapter_convolutional-modern/index](07_chapter_convolutional-modern/index.ipynb)\n",
    " - [chapter_recurrent-neural-networks/index](08_chapter_recurrent-neural-networks/index.ipynb)\n",
    " - [chapter_recurrent-modern/index](09_chapter_recurrent-modern/index.ipynb)\n",
    " - [chapter_attention-mechanisms/index](10_chapter_attention-mechanisms/index.ipynb)\n",
    " - [chapter_optimization/index](11_chapter_optimization/index.ipynb)\n",
    " - [chapter_computational-performance/index](05_chapter_computational-performance/index.ipynb)\n",
    " - [chapter_computer-vision/index](13_chapter_computer-vision/index.ipynb)\n",
    " - [chapter_natural-language-processing-pretraining/index](14_chapter_natural-language-processing-pretraining/index.ipynb)\n",
    " - [chapter_natural-language-processing-applications/index](15_chapter_natural-language-processing-applications/index.ipynb)\n",
    " - [chapter_appendix-tools-for-deep-learning/index](chapter_appendix-tools-for-deep-learning/index.ipynb)\n",
    ":end_tab:\n",
    "\n",
    ":begin_tab:toc\n",
    " - [chapter_references/zreferences](17_chapter_references/zreferences.ipynb)\n",
    ":end_tab:\n"
   ]
  }
 ],
 "metadata": {
  "kernelspec": {
   "display_name": "Python 3 (ipykernel)",
   "language": "python",
   "name": "python3"
  },
  "language_info": {
   "codemirror_mode": {
    "name": "ipython",
    "version": 3
   },
   "file_extension": ".py",
   "mimetype": "text/x-python",
   "name": "python",
   "nbconvert_exporter": "python",
   "pygments_lexer": "ipython3",
   "version": "3.9.19"
  },
  "required_libs": []
 },
 "nbformat": 4,
 "nbformat_minor": 5
}
