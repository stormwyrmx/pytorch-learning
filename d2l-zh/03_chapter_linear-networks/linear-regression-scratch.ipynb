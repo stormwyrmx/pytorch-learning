{
 "cells": [
  {
   "cell_type": "markdown",
   "id": "3b3e0a72",
   "metadata": {
    "origin_pos": 0
   },
   "source": [
    "# 线性回归的从零开始实现\n",
    ":label:`sec_linear_scratch`\n",
    "\n",
    "在了解线性回归的关键思想之后，我们可以开始通过代码来动手实现线性回归了。\n",
    "在这一节中，(**我们将从零开始实现整个方法，\n",
    "包括数据流水线、模型、损失函数和小批量随机梯度下降优化器**)。\n",
    "虽然现代的深度学习框架几乎可以自动化地进行所有这些工作，但从零开始实现可以确保我们真正知道自己在做什么。\n",
    "同时，了解更细致的工作原理将方便我们自定义模型、自定义层或自定义损失函数。\n",
    "在这一节中，我们将只使用张量和自动求导。\n",
    "在之后的章节中，我们会充分利用深度学习框架的优势，介绍更简洁的实现方式。\n"
   ]
  },
  {
   "cell_type": "code",
   "id": "c6f4cd71",
   "metadata": {
    "execution": {
     "iopub.execute_input": "2023-08-18T07:02:01.462670Z",
     "iopub.status.busy": "2023-08-18T07:02:01.461918Z",
     "iopub.status.idle": "2023-08-18T07:02:04.547486Z",
     "shell.execute_reply": "2023-08-18T07:02:04.546281Z"
    },
    "origin_pos": 2,
    "tab": [
     "pytorch"
    ]
   },
   "source": [
    "%matplotlib inline\n",
    "import random\n",
    "import torch\n",
    "from d2l import torch as d2l"
   ],
   "outputs": [],
   "execution_count": null
  },
  {
   "cell_type": "markdown",
   "id": "18283191",
   "metadata": {
    "origin_pos": 5
   },
   "source": [
    "## 生成数据集\n",
    "\n",
    "为了简单起见，我们将[**根据带有噪声的线性模型构造一个人造数据集。**]\n",
    "我们的任务是使用这个有限样本的数据集来恢复这个模型的参数。\n",
    "我们将使用低维数据，这样可以很容易地将其可视化。\n",
    "在下面的代码中，我们生成一个包含1000个样本的数据集，\n",
    "每个样本包含从标准正态分布中采样的2个特征。\n",
    "我们的合成数据集是一个矩阵$\\mathbf{X}\\in \\mathbb{R}^{1000 \\times 2}$。\n",
    "\n",
    "(**我们使用线性模型参数$\\mathbf{w} = [2, -3.4]^\\top$、$b = 4.2$\n",
    "和噪声项$\\epsilon$生成数据集及其标签：\n",
    "\n",
    "$$\\mathbf{y}= \\mathbf{X} \\mathbf{w} + b + \\mathbf\\epsilon.$$\n",
    "**)\n",
    "\n",
    "$\\epsilon$可以视为模型预测和标签时的潜在观测误差。\n",
    "在这里我们认为标准假设成立，即$\\epsilon$服从均值为0的正态分布。\n",
    "为了简化问题，我们将标准差设为0.01。\n",
    "下面的代码生成合成数据集。\n"
   ]
  },
  {
   "cell_type": "code",
   "id": "54efeafe",
   "metadata": {
    "execution": {
     "iopub.execute_input": "2023-08-18T07:02:04.553500Z",
     "iopub.status.busy": "2023-08-18T07:02:04.552544Z",
     "iopub.status.idle": "2023-08-18T07:02:04.560226Z",
     "shell.execute_reply": "2023-08-18T07:02:04.559125Z"
    },
    "origin_pos": 6,
    "tab": [
     "pytorch"
    ],
    "ExecuteTime": {
     "end_time": "2025-05-02T10:32:21.421101300Z",
     "start_time": "2025-04-28T10:34:10.668174Z"
    }
   },
   "source": [
    "def synthetic_data(w, b, num_examples):  #@save\n",
    "    \"\"\"生成y=Xw+b+噪声\"\"\"\n",
    "    X = torch.normal(0, 1, (num_examples, len(w)))\n",
    "    y = torch.matmul(X, w) + b # 在深度学习实践中torch.matmul更常用，因为它更灵活，可以处理批量计算和不同维度的情况。\n",
    "    y += torch.normal(0, 0.01, y.shape)\n",
    "    return X, y.reshape((-1, 1))"
   ],
   "outputs": [],
   "execution_count": 2
  },
  {
   "cell_type": "code",
   "id": "1e60261c",
   "metadata": {
    "execution": {
     "iopub.execute_input": "2023-08-18T07:02:04.564932Z",
     "iopub.status.busy": "2023-08-18T07:02:04.564190Z",
     "iopub.status.idle": "2023-08-18T07:02:04.575309Z",
     "shell.execute_reply": "2023-08-18T07:02:04.574216Z"
    },
    "origin_pos": 8,
    "tab": [
     "pytorch"
    ],
    "ExecuteTime": {
     "end_time": "2025-05-02T10:32:21.423718400Z",
     "start_time": "2025-04-28T10:34:10.698275Z"
    }
   },
   "source": [
    "true_w = torch.tensor([2, -3.4])\n",
    "true_b = 4.2\n",
    "features, labels = synthetic_data(true_w, true_b, 1000)"
   ],
   "outputs": [],
   "execution_count": 3
  },
  {
   "cell_type": "markdown",
   "id": "772256cb",
   "metadata": {
    "origin_pos": 9
   },
   "source": [
    "注意，[**`features`中的每一行都包含一个二维数据样本，\n",
    "`labels`中的每一行都包含一维标签值（一个标量）**]。\n"
   ]
  },
  {
   "cell_type": "code",
   "id": "ec13e4f8",
   "metadata": {
    "execution": {
     "iopub.execute_input": "2023-08-18T07:02:04.580067Z",
     "iopub.status.busy": "2023-08-18T07:02:04.579449Z",
     "iopub.status.idle": "2023-08-18T07:02:04.587391Z",
     "shell.execute_reply": "2023-08-18T07:02:04.586306Z"
    },
    "origin_pos": 10,
    "tab": [
     "pytorch"
    ],
    "ExecuteTime": {
     "end_time": "2025-05-02T10:32:21.425217100Z",
     "start_time": "2025-04-28T10:34:10.771034Z"
    }
   },
   "source": [
    "print('features:', features[0],'\\nlabel:', labels[0])"
   ],
   "outputs": [
    {
     "name": "stdout",
     "output_type": "stream",
     "text": [
      "features: tensor([0.0014, 0.3504]) \n",
      "label: tensor([3.0096])\n"
     ]
    }
   ],
   "execution_count": 4
  },
  {
   "cell_type": "markdown",
   "id": "6b8c624b",
   "metadata": {
    "origin_pos": 11
   },
   "source": [
    "通过生成第二个特征`features[:, 1]`和`labels`的散点图，\n",
    "可以直观观察到两者之间的线性关系。\n"
   ]
  },
  {
   "cell_type": "code",
   "id": "53ef493c",
   "metadata": {
    "execution": {
     "iopub.execute_input": "2023-08-18T07:02:04.592131Z",
     "iopub.status.busy": "2023-08-18T07:02:04.591402Z",
     "iopub.status.idle": "2023-08-18T07:02:04.829190Z",
     "shell.execute_reply": "2023-08-18T07:02:04.827927Z"
    },
    "origin_pos": 12,
    "tab": [
     "pytorch"
    ],
    "ExecuteTime": {
     "end_time": "2025-05-02T10:32:21.425217100Z",
     "start_time": "2025-04-28T10:34:10.831937Z"
    }
   },
   "source": [
    "d2l.set_figsize()\n",
    "d2l.plt.scatter(features[:, 1].detach().numpy(), labels.detach().numpy(), 1);"
   ],
   "outputs": [
    {
     "data": {
      "text/plain": [
       "<Figure size 350x250 with 1 Axes>"
      ],
      "image/svg+xml": "<?xml version=\"1.0\" encoding=\"utf-8\" standalone=\"no\"?>\n<!DOCTYPE svg PUBLIC \"-//W3C//DTD SVG 1.1//EN\"\n  \"http://www.w3.org/Graphics/SVG/1.1/DTD/svg11.dtd\">\n<svg xmlns:xlink=\"http://www.w3.org/1999/xlink\" width=\"237.804688pt\" height=\"169.678125pt\" viewBox=\"0 0 237.804688 169.678125\" xmlns=\"http://www.w3.org/2000/svg\" version=\"1.1\">\n <metadata>\n  <rdf:RDF xmlns:dc=\"http://purl.org/dc/elements/1.1/\" xmlns:cc=\"http://creativecommons.org/ns#\" xmlns:rdf=\"http://www.w3.org/1999/02/22-rdf-syntax-ns#\">\n   <cc:Work>\n    <dc:type rdf:resource=\"http://purl.org/dc/dcmitype/StillImage\"/>\n    <dc:date>2025-04-28T18:34:11.044787</dc:date>\n    <dc:format>image/svg+xml</dc:format>\n    <dc:creator>\n     <cc:Agent>\n      <dc:title>Matplotlib v3.7.2, https://matplotlib.org/</dc:title>\n     </cc:Agent>\n    </dc:creator>\n   </cc:Work>\n  </rdf:RDF>\n </metadata>\n <defs>\n  <style type=\"text/css\">*{stroke-linejoin: round; stroke-linecap: butt}</style>\n </defs>\n <g id=\"figure_1\">\n  <g id=\"patch_1\">\n   <path d=\"M 0 169.678125 \nL 237.804688 169.678125 \nL 237.804688 0 \nL 0 0 \nz\n\" style=\"fill: #ffffff\"/>\n  </g>\n  <g id=\"axes_1\">\n   <g id=\"patch_2\">\n    <path d=\"M 35.304688 145.8 \nL 230.604688 145.8 \nL 230.604688 7.2 \nL 35.304688 7.2 \nz\n\" style=\"fill: #ffffff\"/>\n   </g>\n   <g id=\"PathCollection_1\">\n    <defs>\n     <path id=\"m89f34270b3\" d=\"M 0 0.5 \nC 0.132602 0.5 0.25979 0.447317 0.353553 0.353553 \nC 0.447317 0.25979 0.5 0.132602 0.5 0 \nC 0.5 -0.132602 0.447317 -0.25979 0.353553 -0.353553 \nC 0.25979 -0.447317 0.132602 -0.5 0 -0.5 \nC -0.132602 -0.5 -0.25979 -0.447317 -0.353553 -0.353553 \nC -0.447317 -0.25979 -0.5 -0.132602 -0.5 0 \nC -0.5 0.132602 -0.447317 0.25979 -0.353553 0.353553 \nC -0.25979 0.447317 -0.132602 0.5 0 0.5 \nz\n\" style=\"stroke: #1f77b4\"/>\n    </defs>\n    <g clip-path=\"url(#p39b0d294f3)\">\n     <use xlink:href=\"#m89f34270b3\" x=\"142.079913\" y=\"78.815315\" style=\"fill: #1f77b4; stroke: #1f77b4\"/>\n     <use xlink:href=\"#m89f34270b3\" x=\"88.196461\" y=\"45.39559\" style=\"fill: #1f77b4; stroke: #1f77b4\"/>\n     <use xlink:href=\"#m89f34270b3\" x=\"154.375568\" y=\"82.984846\" style=\"fill: #1f77b4; stroke: #1f77b4\"/>\n     <use xlink:href=\"#m89f34270b3\" x=\"154.719192\" y=\"73.182934\" style=\"fill: #1f77b4; stroke: #1f77b4\"/>\n     <use xlink:href=\"#m89f34270b3\" x=\"101.007769\" y=\"74.518708\" style=\"fill: #1f77b4; stroke: #1f77b4\"/>\n     <use xlink:href=\"#m89f34270b3\" x=\"114.509032\" y=\"63.430455\" style=\"fill: #1f77b4; stroke: #1f77b4\"/>\n     <use xlink:href=\"#m89f34270b3\" x=\"124.958024\" y=\"57.354067\" style=\"fill: #1f77b4; stroke: #1f77b4\"/>\n     <use xlink:href=\"#m89f34270b3\" x=\"129.144905\" y=\"88.271617\" style=\"fill: #1f77b4; stroke: #1f77b4\"/>\n     <use xlink:href=\"#m89f34270b3\" x=\"165.303797\" y=\"89.880604\" style=\"fill: #1f77b4; stroke: #1f77b4\"/>\n     <use xlink:href=\"#m89f34270b3\" x=\"144.380878\" y=\"97.64404\" style=\"fill: #1f77b4; stroke: #1f77b4\"/>\n     <use xlink:href=\"#m89f34270b3\" x=\"123.323716\" y=\"70.655695\" style=\"fill: #1f77b4; stroke: #1f77b4\"/>\n     <use xlink:href=\"#m89f34270b3\" x=\"162.741051\" y=\"85.097939\" style=\"fill: #1f77b4; stroke: #1f77b4\"/>\n     <use xlink:href=\"#m89f34270b3\" x=\"104.266434\" y=\"69.225332\" style=\"fill: #1f77b4; stroke: #1f77b4\"/>\n     <use xlink:href=\"#m89f34270b3\" x=\"181.796671\" y=\"112.104093\" style=\"fill: #1f77b4; stroke: #1f77b4\"/>\n     <use xlink:href=\"#m89f34270b3\" x=\"60.405717\" y=\"28.759243\" style=\"fill: #1f77b4; stroke: #1f77b4\"/>\n     <use xlink:href=\"#m89f34270b3\" x=\"134.113644\" y=\"68.829112\" style=\"fill: #1f77b4; stroke: #1f77b4\"/>\n     <use xlink:href=\"#m89f34270b3\" x=\"166.23425\" y=\"95.029349\" style=\"fill: #1f77b4; stroke: #1f77b4\"/>\n     <use xlink:href=\"#m89f34270b3\" x=\"112.332721\" y=\"54.304632\" style=\"fill: #1f77b4; stroke: #1f77b4\"/>\n     <use xlink:href=\"#m89f34270b3\" x=\"100.925921\" y=\"53.152218\" style=\"fill: #1f77b4; stroke: #1f77b4\"/>\n     <use xlink:href=\"#m89f34270b3\" x=\"132.582276\" y=\"82.608934\" style=\"fill: #1f77b4; stroke: #1f77b4\"/>\n     <use xlink:href=\"#m89f34270b3\" x=\"158.630497\" y=\"83.559591\" style=\"fill: #1f77b4; stroke: #1f77b4\"/>\n     <use xlink:href=\"#m89f34270b3\" x=\"123.666036\" y=\"73.646971\" style=\"fill: #1f77b4; stroke: #1f77b4\"/>\n     <use xlink:href=\"#m89f34270b3\" x=\"161.693383\" y=\"94.766808\" style=\"fill: #1f77b4; stroke: #1f77b4\"/>\n     <use xlink:href=\"#m89f34270b3\" x=\"103.177092\" y=\"53.710112\" style=\"fill: #1f77b4; stroke: #1f77b4\"/>\n     <use xlink:href=\"#m89f34270b3\" x=\"73.067767\" y=\"36.880596\" style=\"fill: #1f77b4; stroke: #1f77b4\"/>\n     <use xlink:href=\"#m89f34270b3\" x=\"154.687868\" y=\"108.358614\" style=\"fill: #1f77b4; stroke: #1f77b4\"/>\n     <use xlink:href=\"#m89f34270b3\" x=\"79.654918\" y=\"46.727161\" style=\"fill: #1f77b4; stroke: #1f77b4\"/>\n     <use xlink:href=\"#m89f34270b3\" x=\"175.148145\" y=\"117.988662\" style=\"fill: #1f77b4; stroke: #1f77b4\"/>\n     <use xlink:href=\"#m89f34270b3\" x=\"181.191372\" y=\"95.318742\" style=\"fill: #1f77b4; stroke: #1f77b4\"/>\n     <use xlink:href=\"#m89f34270b3\" x=\"140.085284\" y=\"69.205823\" style=\"fill: #1f77b4; stroke: #1f77b4\"/>\n     <use xlink:href=\"#m89f34270b3\" x=\"160.52874\" y=\"77.005015\" style=\"fill: #1f77b4; stroke: #1f77b4\"/>\n     <use xlink:href=\"#m89f34270b3\" x=\"96.150282\" y=\"49.444541\" style=\"fill: #1f77b4; stroke: #1f77b4\"/>\n     <use xlink:href=\"#m89f34270b3\" x=\"149.221411\" y=\"89.621201\" style=\"fill: #1f77b4; stroke: #1f77b4\"/>\n     <use xlink:href=\"#m89f34270b3\" x=\"92.495299\" y=\"34.814983\" style=\"fill: #1f77b4; stroke: #1f77b4\"/>\n     <use xlink:href=\"#m89f34270b3\" x=\"158.499472\" y=\"95.879871\" style=\"fill: #1f77b4; stroke: #1f77b4\"/>\n     <use xlink:href=\"#m89f34270b3\" x=\"96.72124\" y=\"61.934761\" style=\"fill: #1f77b4; stroke: #1f77b4\"/>\n     <use xlink:href=\"#m89f34270b3\" x=\"154.732468\" y=\"79.581418\" style=\"fill: #1f77b4; stroke: #1f77b4\"/>\n     <use xlink:href=\"#m89f34270b3\" x=\"150.437115\" y=\"75.416203\" style=\"fill: #1f77b4; stroke: #1f77b4\"/>\n     <use xlink:href=\"#m89f34270b3\" x=\"94.012528\" y=\"41.68933\" style=\"fill: #1f77b4; stroke: #1f77b4\"/>\n     <use xlink:href=\"#m89f34270b3\" x=\"173.901462\" y=\"100.239115\" style=\"fill: #1f77b4; stroke: #1f77b4\"/>\n     <use xlink:href=\"#m89f34270b3\" x=\"102.691695\" y=\"32.180037\" style=\"fill: #1f77b4; stroke: #1f77b4\"/>\n     <use xlink:href=\"#m89f34270b3\" x=\"142.230584\" y=\"102.707857\" style=\"fill: #1f77b4; stroke: #1f77b4\"/>\n     <use xlink:href=\"#m89f34270b3\" x=\"145.660024\" y=\"75.283898\" style=\"fill: #1f77b4; stroke: #1f77b4\"/>\n     <use xlink:href=\"#m89f34270b3\" x=\"81.963861\" y=\"30.777513\" style=\"fill: #1f77b4; stroke: #1f77b4\"/>\n     <use xlink:href=\"#m89f34270b3\" x=\"105.548277\" y=\"77.284483\" style=\"fill: #1f77b4; stroke: #1f77b4\"/>\n     <use xlink:href=\"#m89f34270b3\" x=\"106.470705\" y=\"74.304617\" style=\"fill: #1f77b4; stroke: #1f77b4\"/>\n     <use xlink:href=\"#m89f34270b3\" x=\"150.791646\" y=\"92.189072\" style=\"fill: #1f77b4; stroke: #1f77b4\"/>\n     <use xlink:href=\"#m89f34270b3\" x=\"172.122475\" y=\"87.554679\" style=\"fill: #1f77b4; stroke: #1f77b4\"/>\n     <use xlink:href=\"#m89f34270b3\" x=\"92.797214\" y=\"49.136806\" style=\"fill: #1f77b4; stroke: #1f77b4\"/>\n     <use xlink:href=\"#m89f34270b3\" x=\"132.245006\" y=\"73.466978\" style=\"fill: #1f77b4; stroke: #1f77b4\"/>\n     <use xlink:href=\"#m89f34270b3\" x=\"122.764609\" y=\"65.123713\" style=\"fill: #1f77b4; stroke: #1f77b4\"/>\n     <use xlink:href=\"#m89f34270b3\" x=\"134.697786\" y=\"58.986737\" style=\"fill: #1f77b4; stroke: #1f77b4\"/>\n     <use xlink:href=\"#m89f34270b3\" x=\"111.155913\" y=\"62.531157\" style=\"fill: #1f77b4; stroke: #1f77b4\"/>\n     <use xlink:href=\"#m89f34270b3\" x=\"129.328103\" y=\"67.029817\" style=\"fill: #1f77b4; stroke: #1f77b4\"/>\n     <use xlink:href=\"#m89f34270b3\" x=\"142.876989\" y=\"94.822293\" style=\"fill: #1f77b4; stroke: #1f77b4\"/>\n     <use xlink:href=\"#m89f34270b3\" x=\"109.549708\" y=\"59.556301\" style=\"fill: #1f77b4; stroke: #1f77b4\"/>\n     <use xlink:href=\"#m89f34270b3\" x=\"157.77423\" y=\"88.652327\" style=\"fill: #1f77b4; stroke: #1f77b4\"/>\n     <use xlink:href=\"#m89f34270b3\" x=\"114.644015\" y=\"43.461697\" style=\"fill: #1f77b4; stroke: #1f77b4\"/>\n     <use xlink:href=\"#m89f34270b3\" x=\"67.27613\" y=\"18.378259\" style=\"fill: #1f77b4; stroke: #1f77b4\"/>\n     <use xlink:href=\"#m89f34270b3\" x=\"128.839427\" y=\"59.728255\" style=\"fill: #1f77b4; stroke: #1f77b4\"/>\n     <use xlink:href=\"#m89f34270b3\" x=\"115.905758\" y=\"67.173596\" style=\"fill: #1f77b4; stroke: #1f77b4\"/>\n     <use xlink:href=\"#m89f34270b3\" x=\"144.55436\" y=\"81.159166\" style=\"fill: #1f77b4; stroke: #1f77b4\"/>\n     <use xlink:href=\"#m89f34270b3\" x=\"113.693492\" y=\"80.808007\" style=\"fill: #1f77b4; stroke: #1f77b4\"/>\n     <use xlink:href=\"#m89f34270b3\" x=\"101.758088\" y=\"33.641112\" style=\"fill: #1f77b4; stroke: #1f77b4\"/>\n     <use xlink:href=\"#m89f34270b3\" x=\"131.092399\" y=\"71.768415\" style=\"fill: #1f77b4; stroke: #1f77b4\"/>\n     <use xlink:href=\"#m89f34270b3\" x=\"106.266086\" y=\"61.424832\" style=\"fill: #1f77b4; stroke: #1f77b4\"/>\n     <use xlink:href=\"#m89f34270b3\" x=\"105.686204\" y=\"58.885996\" style=\"fill: #1f77b4; stroke: #1f77b4\"/>\n     <use xlink:href=\"#m89f34270b3\" x=\"113.706158\" y=\"63.994782\" style=\"fill: #1f77b4; stroke: #1f77b4\"/>\n     <use xlink:href=\"#m89f34270b3\" x=\"147.905423\" y=\"93.007083\" style=\"fill: #1f77b4; stroke: #1f77b4\"/>\n     <use xlink:href=\"#m89f34270b3\" x=\"183.485591\" y=\"93.347156\" style=\"fill: #1f77b4; stroke: #1f77b4\"/>\n     <use xlink:href=\"#m89f34270b3\" x=\"110.544249\" y=\"57.454982\" style=\"fill: #1f77b4; stroke: #1f77b4\"/>\n     <use xlink:href=\"#m89f34270b3\" x=\"174.177826\" y=\"87.773394\" style=\"fill: #1f77b4; stroke: #1f77b4\"/>\n     <use xlink:href=\"#m89f34270b3\" x=\"115.90734\" y=\"53.884496\" style=\"fill: #1f77b4; stroke: #1f77b4\"/>\n     <use xlink:href=\"#m89f34270b3\" x=\"144.537014\" y=\"76.503337\" style=\"fill: #1f77b4; stroke: #1f77b4\"/>\n     <use xlink:href=\"#m89f34270b3\" x=\"155.58772\" y=\"82.909386\" style=\"fill: #1f77b4; stroke: #1f77b4\"/>\n     <use xlink:href=\"#m89f34270b3\" x=\"126.02069\" y=\"67.527374\" style=\"fill: #1f77b4; stroke: #1f77b4\"/>\n     <use xlink:href=\"#m89f34270b3\" x=\"102.355249\" y=\"62.923174\" style=\"fill: #1f77b4; stroke: #1f77b4\"/>\n     <use xlink:href=\"#m89f34270b3\" x=\"127.044825\" y=\"64.809137\" style=\"fill: #1f77b4; stroke: #1f77b4\"/>\n     <use xlink:href=\"#m89f34270b3\" x=\"136.538205\" y=\"67.788146\" style=\"fill: #1f77b4; stroke: #1f77b4\"/>\n     <use xlink:href=\"#m89f34270b3\" x=\"192.785849\" y=\"84.735299\" style=\"fill: #1f77b4; stroke: #1f77b4\"/>\n     <use xlink:href=\"#m89f34270b3\" x=\"112.213744\" y=\"56.326472\" style=\"fill: #1f77b4; stroke: #1f77b4\"/>\n     <use xlink:href=\"#m89f34270b3\" x=\"162.529727\" y=\"70.854502\" style=\"fill: #1f77b4; stroke: #1f77b4\"/>\n     <use xlink:href=\"#m89f34270b3\" x=\"124.350788\" y=\"72.24298\" style=\"fill: #1f77b4; stroke: #1f77b4\"/>\n     <use xlink:href=\"#m89f34270b3\" x=\"164.168075\" y=\"94.967932\" style=\"fill: #1f77b4; stroke: #1f77b4\"/>\n     <use xlink:href=\"#m89f34270b3\" x=\"130.216578\" y=\"84.090285\" style=\"fill: #1f77b4; stroke: #1f77b4\"/>\n     <use xlink:href=\"#m89f34270b3\" x=\"155.218153\" y=\"91.032161\" style=\"fill: #1f77b4; stroke: #1f77b4\"/>\n     <use xlink:href=\"#m89f34270b3\" x=\"66.770144\" y=\"38.435974\" style=\"fill: #1f77b4; stroke: #1f77b4\"/>\n     <use xlink:href=\"#m89f34270b3\" x=\"131.109395\" y=\"94.201346\" style=\"fill: #1f77b4; stroke: #1f77b4\"/>\n     <use xlink:href=\"#m89f34270b3\" x=\"183.354404\" y=\"105.618408\" style=\"fill: #1f77b4; stroke: #1f77b4\"/>\n     <use xlink:href=\"#m89f34270b3\" x=\"131.031781\" y=\"81.126159\" style=\"fill: #1f77b4; stroke: #1f77b4\"/>\n     <use xlink:href=\"#m89f34270b3\" x=\"144.074914\" y=\"73.816162\" style=\"fill: #1f77b4; stroke: #1f77b4\"/>\n     <use xlink:href=\"#m89f34270b3\" x=\"143.3477\" y=\"73.38092\" style=\"fill: #1f77b4; stroke: #1f77b4\"/>\n     <use xlink:href=\"#m89f34270b3\" x=\"172.776483\" y=\"95.26069\" style=\"fill: #1f77b4; stroke: #1f77b4\"/>\n     <use xlink:href=\"#m89f34270b3\" x=\"164.602712\" y=\"79.618705\" style=\"fill: #1f77b4; stroke: #1f77b4\"/>\n     <use xlink:href=\"#m89f34270b3\" x=\"183.121485\" y=\"84.155932\" style=\"fill: #1f77b4; stroke: #1f77b4\"/>\n     <use xlink:href=\"#m89f34270b3\" x=\"125.303856\" y=\"64.315604\" style=\"fill: #1f77b4; stroke: #1f77b4\"/>\n     <use xlink:href=\"#m89f34270b3\" x=\"100.582336\" y=\"61.204628\" style=\"fill: #1f77b4; stroke: #1f77b4\"/>\n     <use xlink:href=\"#m89f34270b3\" x=\"52.569105\" y=\"23.375737\" style=\"fill: #1f77b4; stroke: #1f77b4\"/>\n     <use xlink:href=\"#m89f34270b3\" x=\"159.254337\" y=\"92.46444\" style=\"fill: #1f77b4; stroke: #1f77b4\"/>\n     <use xlink:href=\"#m89f34270b3\" x=\"140.483232\" y=\"80.798996\" style=\"fill: #1f77b4; stroke: #1f77b4\"/>\n     <use xlink:href=\"#m89f34270b3\" x=\"95.6786\" y=\"52.224183\" style=\"fill: #1f77b4; stroke: #1f77b4\"/>\n     <use xlink:href=\"#m89f34270b3\" x=\"142.161388\" y=\"69.694183\" style=\"fill: #1f77b4; stroke: #1f77b4\"/>\n     <use xlink:href=\"#m89f34270b3\" x=\"100.201869\" y=\"60.409671\" style=\"fill: #1f77b4; stroke: #1f77b4\"/>\n     <use xlink:href=\"#m89f34270b3\" x=\"166.385301\" y=\"92.145495\" style=\"fill: #1f77b4; stroke: #1f77b4\"/>\n     <use xlink:href=\"#m89f34270b3\" x=\"150.907079\" y=\"78.964211\" style=\"fill: #1f77b4; stroke: #1f77b4\"/>\n     <use xlink:href=\"#m89f34270b3\" x=\"144.380029\" y=\"90.72478\" style=\"fill: #1f77b4; stroke: #1f77b4\"/>\n     <use xlink:href=\"#m89f34270b3\" x=\"98.943287\" y=\"53.415741\" style=\"fill: #1f77b4; stroke: #1f77b4\"/>\n     <use xlink:href=\"#m89f34270b3\" x=\"122.419093\" y=\"61.50181\" style=\"fill: #1f77b4; stroke: #1f77b4\"/>\n     <use xlink:href=\"#m89f34270b3\" x=\"99.771453\" y=\"59.54641\" style=\"fill: #1f77b4; stroke: #1f77b4\"/>\n     <use xlink:href=\"#m89f34270b3\" x=\"113.666774\" y=\"74.281859\" style=\"fill: #1f77b4; stroke: #1f77b4\"/>\n     <use xlink:href=\"#m89f34270b3\" x=\"117.12178\" y=\"64.425717\" style=\"fill: #1f77b4; stroke: #1f77b4\"/>\n     <use xlink:href=\"#m89f34270b3\" x=\"84.745487\" y=\"32.354451\" style=\"fill: #1f77b4; stroke: #1f77b4\"/>\n     <use xlink:href=\"#m89f34270b3\" x=\"123.0558\" y=\"75.509048\" style=\"fill: #1f77b4; stroke: #1f77b4\"/>\n     <use xlink:href=\"#m89f34270b3\" x=\"199.989079\" y=\"116.574516\" style=\"fill: #1f77b4; stroke: #1f77b4\"/>\n     <use xlink:href=\"#m89f34270b3\" x=\"162.643696\" y=\"81.697981\" style=\"fill: #1f77b4; stroke: #1f77b4\"/>\n     <use xlink:href=\"#m89f34270b3\" x=\"162.453873\" y=\"92.536567\" style=\"fill: #1f77b4; stroke: #1f77b4\"/>\n     <use xlink:href=\"#m89f34270b3\" x=\"113.089086\" y=\"58.255081\" style=\"fill: #1f77b4; stroke: #1f77b4\"/>\n     <use xlink:href=\"#m89f34270b3\" x=\"149.136061\" y=\"82.996068\" style=\"fill: #1f77b4; stroke: #1f77b4\"/>\n     <use xlink:href=\"#m89f34270b3\" x=\"146.264613\" y=\"69.63898\" style=\"fill: #1f77b4; stroke: #1f77b4\"/>\n     <use xlink:href=\"#m89f34270b3\" x=\"141.069951\" y=\"94.878273\" style=\"fill: #1f77b4; stroke: #1f77b4\"/>\n     <use xlink:href=\"#m89f34270b3\" x=\"114.2271\" y=\"61.31367\" style=\"fill: #1f77b4; stroke: #1f77b4\"/>\n     <use xlink:href=\"#m89f34270b3\" x=\"173.076471\" y=\"101.901582\" style=\"fill: #1f77b4; stroke: #1f77b4\"/>\n     <use xlink:href=\"#m89f34270b3\" x=\"142.740649\" y=\"92.063001\" style=\"fill: #1f77b4; stroke: #1f77b4\"/>\n     <use xlink:href=\"#m89f34270b3\" x=\"161.2033\" y=\"100.073923\" style=\"fill: #1f77b4; stroke: #1f77b4\"/>\n     <use xlink:href=\"#m89f34270b3\" x=\"134.172507\" y=\"71.139058\" style=\"fill: #1f77b4; stroke: #1f77b4\"/>\n     <use xlink:href=\"#m89f34270b3\" x=\"190.1874\" y=\"111.015344\" style=\"fill: #1f77b4; stroke: #1f77b4\"/>\n     <use xlink:href=\"#m89f34270b3\" x=\"100.347486\" y=\"50.953897\" style=\"fill: #1f77b4; stroke: #1f77b4\"/>\n     <use xlink:href=\"#m89f34270b3\" x=\"110.335242\" y=\"39.183514\" style=\"fill: #1f77b4; stroke: #1f77b4\"/>\n     <use xlink:href=\"#m89f34270b3\" x=\"138.372453\" y=\"60.335451\" style=\"fill: #1f77b4; stroke: #1f77b4\"/>\n     <use xlink:href=\"#m89f34270b3\" x=\"87.790079\" y=\"55.394128\" style=\"fill: #1f77b4; stroke: #1f77b4\"/>\n     <use xlink:href=\"#m89f34270b3\" x=\"140.347484\" y=\"66.74748\" style=\"fill: #1f77b4; stroke: #1f77b4\"/>\n     <use xlink:href=\"#m89f34270b3\" x=\"124.710613\" y=\"82.691878\" style=\"fill: #1f77b4; stroke: #1f77b4\"/>\n     <use xlink:href=\"#m89f34270b3\" x=\"158.630207\" y=\"97.900987\" style=\"fill: #1f77b4; stroke: #1f77b4\"/>\n     <use xlink:href=\"#m89f34270b3\" x=\"136.205243\" y=\"61.826671\" style=\"fill: #1f77b4; stroke: #1f77b4\"/>\n     <use xlink:href=\"#m89f34270b3\" x=\"136.877582\" y=\"74.178\" style=\"fill: #1f77b4; stroke: #1f77b4\"/>\n     <use xlink:href=\"#m89f34270b3\" x=\"98.382595\" y=\"59.67622\" style=\"fill: #1f77b4; stroke: #1f77b4\"/>\n     <use xlink:href=\"#m89f34270b3\" x=\"125.635524\" y=\"59.226736\" style=\"fill: #1f77b4; stroke: #1f77b4\"/>\n     <use xlink:href=\"#m89f34270b3\" x=\"103.687476\" y=\"54.827773\" style=\"fill: #1f77b4; stroke: #1f77b4\"/>\n     <use xlink:href=\"#m89f34270b3\" x=\"131.901862\" y=\"67.955077\" style=\"fill: #1f77b4; stroke: #1f77b4\"/>\n     <use xlink:href=\"#m89f34270b3\" x=\"181.271627\" y=\"83.455009\" style=\"fill: #1f77b4; stroke: #1f77b4\"/>\n     <use xlink:href=\"#m89f34270b3\" x=\"140.385699\" y=\"79.441571\" style=\"fill: #1f77b4; stroke: #1f77b4\"/>\n     <use xlink:href=\"#m89f34270b3\" x=\"133.349766\" y=\"70.77439\" style=\"fill: #1f77b4; stroke: #1f77b4\"/>\n     <use xlink:href=\"#m89f34270b3\" x=\"150.443086\" y=\"88.159154\" style=\"fill: #1f77b4; stroke: #1f77b4\"/>\n     <use xlink:href=\"#m89f34270b3\" x=\"191.566131\" y=\"108.415783\" style=\"fill: #1f77b4; stroke: #1f77b4\"/>\n     <use xlink:href=\"#m89f34270b3\" x=\"110.555312\" y=\"73.088363\" style=\"fill: #1f77b4; stroke: #1f77b4\"/>\n     <use xlink:href=\"#m89f34270b3\" x=\"130.190972\" y=\"66.473677\" style=\"fill: #1f77b4; stroke: #1f77b4\"/>\n     <use xlink:href=\"#m89f34270b3\" x=\"142.834333\" y=\"81.99173\" style=\"fill: #1f77b4; stroke: #1f77b4\"/>\n     <use xlink:href=\"#m89f34270b3\" x=\"123.660614\" y=\"76.948955\" style=\"fill: #1f77b4; stroke: #1f77b4\"/>\n     <use xlink:href=\"#m89f34270b3\" x=\"85.349511\" y=\"53.079499\" style=\"fill: #1f77b4; stroke: #1f77b4\"/>\n     <use xlink:href=\"#m89f34270b3\" x=\"139.124478\" y=\"90.638962\" style=\"fill: #1f77b4; stroke: #1f77b4\"/>\n     <use xlink:href=\"#m89f34270b3\" x=\"203.79858\" y=\"115.956195\" style=\"fill: #1f77b4; stroke: #1f77b4\"/>\n     <use xlink:href=\"#m89f34270b3\" x=\"153.226227\" y=\"79.681746\" style=\"fill: #1f77b4; stroke: #1f77b4\"/>\n     <use xlink:href=\"#m89f34270b3\" x=\"188.885495\" y=\"103.845789\" style=\"fill: #1f77b4; stroke: #1f77b4\"/>\n     <use xlink:href=\"#m89f34270b3\" x=\"168.70119\" y=\"78.035845\" style=\"fill: #1f77b4; stroke: #1f77b4\"/>\n     <use xlink:href=\"#m89f34270b3\" x=\"182.878639\" y=\"96.820971\" style=\"fill: #1f77b4; stroke: #1f77b4\"/>\n     <use xlink:href=\"#m89f34270b3\" x=\"144.012745\" y=\"89.257908\" style=\"fill: #1f77b4; stroke: #1f77b4\"/>\n     <use xlink:href=\"#m89f34270b3\" x=\"123.076126\" y=\"73.26966\" style=\"fill: #1f77b4; stroke: #1f77b4\"/>\n     <use xlink:href=\"#m89f34270b3\" x=\"89.803957\" y=\"50.3367\" style=\"fill: #1f77b4; stroke: #1f77b4\"/>\n     <use xlink:href=\"#m89f34270b3\" x=\"115.1774\" y=\"66.482916\" style=\"fill: #1f77b4; stroke: #1f77b4\"/>\n     <use xlink:href=\"#m89f34270b3\" x=\"186.718953\" y=\"104.124043\" style=\"fill: #1f77b4; stroke: #1f77b4\"/>\n     <use xlink:href=\"#m89f34270b3\" x=\"138.636334\" y=\"59.6857\" style=\"fill: #1f77b4; stroke: #1f77b4\"/>\n     <use xlink:href=\"#m89f34270b3\" x=\"137.978018\" y=\"86.458292\" style=\"fill: #1f77b4; stroke: #1f77b4\"/>\n     <use xlink:href=\"#m89f34270b3\" x=\"182.838325\" y=\"110.210466\" style=\"fill: #1f77b4; stroke: #1f77b4\"/>\n     <use xlink:href=\"#m89f34270b3\" x=\"95.62348\" y=\"48.422045\" style=\"fill: #1f77b4; stroke: #1f77b4\"/>\n     <use xlink:href=\"#m89f34270b3\" x=\"106.407766\" y=\"60.387867\" style=\"fill: #1f77b4; stroke: #1f77b4\"/>\n     <use xlink:href=\"#m89f34270b3\" x=\"108.102856\" y=\"64.503528\" style=\"fill: #1f77b4; stroke: #1f77b4\"/>\n     <use xlink:href=\"#m89f34270b3\" x=\"139.188633\" y=\"76.983149\" style=\"fill: #1f77b4; stroke: #1f77b4\"/>\n     <use xlink:href=\"#m89f34270b3\" x=\"110.160146\" y=\"88.047013\" style=\"fill: #1f77b4; stroke: #1f77b4\"/>\n     <use xlink:href=\"#m89f34270b3\" x=\"126.808061\" y=\"66.389041\" style=\"fill: #1f77b4; stroke: #1f77b4\"/>\n     <use xlink:href=\"#m89f34270b3\" x=\"115.718474\" y=\"57.2836\" style=\"fill: #1f77b4; stroke: #1f77b4\"/>\n     <use xlink:href=\"#m89f34270b3\" x=\"138.211607\" y=\"90.809621\" style=\"fill: #1f77b4; stroke: #1f77b4\"/>\n     <use xlink:href=\"#m89f34270b3\" x=\"149.050637\" y=\"77.801985\" style=\"fill: #1f77b4; stroke: #1f77b4\"/>\n     <use xlink:href=\"#m89f34270b3\" x=\"130.942864\" y=\"56.766719\" style=\"fill: #1f77b4; stroke: #1f77b4\"/>\n     <use xlink:href=\"#m89f34270b3\" x=\"178.342092\" y=\"112.868155\" style=\"fill: #1f77b4; stroke: #1f77b4\"/>\n     <use xlink:href=\"#m89f34270b3\" x=\"114.863687\" y=\"69.532384\" style=\"fill: #1f77b4; stroke: #1f77b4\"/>\n     <use xlink:href=\"#m89f34270b3\" x=\"113.062995\" y=\"71.248867\" style=\"fill: #1f77b4; stroke: #1f77b4\"/>\n     <use xlink:href=\"#m89f34270b3\" x=\"123.454962\" y=\"44.02911\" style=\"fill: #1f77b4; stroke: #1f77b4\"/>\n     <use xlink:href=\"#m89f34270b3\" x=\"128.947539\" y=\"60.939503\" style=\"fill: #1f77b4; stroke: #1f77b4\"/>\n     <use xlink:href=\"#m89f34270b3\" x=\"108.000176\" y=\"67.385122\" style=\"fill: #1f77b4; stroke: #1f77b4\"/>\n     <use xlink:href=\"#m89f34270b3\" x=\"154.118148\" y=\"80.970733\" style=\"fill: #1f77b4; stroke: #1f77b4\"/>\n     <use xlink:href=\"#m89f34270b3\" x=\"91.741859\" y=\"39.044918\" style=\"fill: #1f77b4; stroke: #1f77b4\"/>\n     <use xlink:href=\"#m89f34270b3\" x=\"124.024508\" y=\"75.885602\" style=\"fill: #1f77b4; stroke: #1f77b4\"/>\n     <use xlink:href=\"#m89f34270b3\" x=\"124.095268\" y=\"53.445565\" style=\"fill: #1f77b4; stroke: #1f77b4\"/>\n     <use xlink:href=\"#m89f34270b3\" x=\"129.715712\" y=\"66.755495\" style=\"fill: #1f77b4; stroke: #1f77b4\"/>\n     <use xlink:href=\"#m89f34270b3\" x=\"144.168218\" y=\"80.226635\" style=\"fill: #1f77b4; stroke: #1f77b4\"/>\n     <use xlink:href=\"#m89f34270b3\" x=\"147.24783\" y=\"75.232981\" style=\"fill: #1f77b4; stroke: #1f77b4\"/>\n     <use xlink:href=\"#m89f34270b3\" x=\"104.905596\" y=\"60.045901\" style=\"fill: #1f77b4; stroke: #1f77b4\"/>\n     <use xlink:href=\"#m89f34270b3\" x=\"163.988574\" y=\"108.027958\" style=\"fill: #1f77b4; stroke: #1f77b4\"/>\n     <use xlink:href=\"#m89f34270b3\" x=\"186.368985\" y=\"115.8602\" style=\"fill: #1f77b4; stroke: #1f77b4\"/>\n     <use xlink:href=\"#m89f34270b3\" x=\"139.321336\" y=\"101.938333\" style=\"fill: #1f77b4; stroke: #1f77b4\"/>\n     <use xlink:href=\"#m89f34270b3\" x=\"126.502863\" y=\"82.691987\" style=\"fill: #1f77b4; stroke: #1f77b4\"/>\n     <use xlink:href=\"#m89f34270b3\" x=\"121.152862\" y=\"74.886299\" style=\"fill: #1f77b4; stroke: #1f77b4\"/>\n     <use xlink:href=\"#m89f34270b3\" x=\"140.618276\" y=\"90.198724\" style=\"fill: #1f77b4; stroke: #1f77b4\"/>\n     <use xlink:href=\"#m89f34270b3\" x=\"129.739801\" y=\"65.291135\" style=\"fill: #1f77b4; stroke: #1f77b4\"/>\n     <use xlink:href=\"#m89f34270b3\" x=\"150.135651\" y=\"71.866823\" style=\"fill: #1f77b4; stroke: #1f77b4\"/>\n     <use xlink:href=\"#m89f34270b3\" x=\"85.019167\" y=\"58.614741\" style=\"fill: #1f77b4; stroke: #1f77b4\"/>\n     <use xlink:href=\"#m89f34270b3\" x=\"95.753187\" y=\"36.567188\" style=\"fill: #1f77b4; stroke: #1f77b4\"/>\n     <use xlink:href=\"#m89f34270b3\" x=\"111.369384\" y=\"68.942937\" style=\"fill: #1f77b4; stroke: #1f77b4\"/>\n     <use xlink:href=\"#m89f34270b3\" x=\"116.101751\" y=\"68.097676\" style=\"fill: #1f77b4; stroke: #1f77b4\"/>\n     <use xlink:href=\"#m89f34270b3\" x=\"135.40954\" y=\"79.972117\" style=\"fill: #1f77b4; stroke: #1f77b4\"/>\n     <use xlink:href=\"#m89f34270b3\" x=\"146.586762\" y=\"92.607087\" style=\"fill: #1f77b4; stroke: #1f77b4\"/>\n     <use xlink:href=\"#m89f34270b3\" x=\"149.012505\" y=\"82.362157\" style=\"fill: #1f77b4; stroke: #1f77b4\"/>\n     <use xlink:href=\"#m89f34270b3\" x=\"95.168789\" y=\"51.677009\" style=\"fill: #1f77b4; stroke: #1f77b4\"/>\n     <use xlink:href=\"#m89f34270b3\" x=\"98.29491\" y=\"44.381228\" style=\"fill: #1f77b4; stroke: #1f77b4\"/>\n     <use xlink:href=\"#m89f34270b3\" x=\"123.721148\" y=\"74.387634\" style=\"fill: #1f77b4; stroke: #1f77b4\"/>\n     <use xlink:href=\"#m89f34270b3\" x=\"131.934971\" y=\"71.698051\" style=\"fill: #1f77b4; stroke: #1f77b4\"/>\n     <use xlink:href=\"#m89f34270b3\" x=\"143.335373\" y=\"77.838641\" style=\"fill: #1f77b4; stroke: #1f77b4\"/>\n     <use xlink:href=\"#m89f34270b3\" x=\"89.211492\" y=\"54.55821\" style=\"fill: #1f77b4; stroke: #1f77b4\"/>\n     <use xlink:href=\"#m89f34270b3\" x=\"168.547923\" y=\"96.946368\" style=\"fill: #1f77b4; stroke: #1f77b4\"/>\n     <use xlink:href=\"#m89f34270b3\" x=\"151.203034\" y=\"73.544801\" style=\"fill: #1f77b4; stroke: #1f77b4\"/>\n     <use xlink:href=\"#m89f34270b3\" x=\"121.447511\" y=\"65.34246\" style=\"fill: #1f77b4; stroke: #1f77b4\"/>\n     <use xlink:href=\"#m89f34270b3\" x=\"62.171718\" y=\"31.552468\" style=\"fill: #1f77b4; stroke: #1f77b4\"/>\n     <use xlink:href=\"#m89f34270b3\" x=\"130.936735\" y=\"66.405562\" style=\"fill: #1f77b4; stroke: #1f77b4\"/>\n     <use xlink:href=\"#m89f34270b3\" x=\"115.526186\" y=\"54.505924\" style=\"fill: #1f77b4; stroke: #1f77b4\"/>\n     <use xlink:href=\"#m89f34270b3\" x=\"60.988693\" y=\"38.808767\" style=\"fill: #1f77b4; stroke: #1f77b4\"/>\n     <use xlink:href=\"#m89f34270b3\" x=\"123.531336\" y=\"86.843251\" style=\"fill: #1f77b4; stroke: #1f77b4\"/>\n     <use xlink:href=\"#m89f34270b3\" x=\"86.806858\" y=\"57.6326\" style=\"fill: #1f77b4; stroke: #1f77b4\"/>\n     <use xlink:href=\"#m89f34270b3\" x=\"88.015527\" y=\"43.227529\" style=\"fill: #1f77b4; stroke: #1f77b4\"/>\n     <use xlink:href=\"#m89f34270b3\" x=\"144.948658\" y=\"79.678792\" style=\"fill: #1f77b4; stroke: #1f77b4\"/>\n     <use xlink:href=\"#m89f34270b3\" x=\"99.852111\" y=\"50.77548\" style=\"fill: #1f77b4; stroke: #1f77b4\"/>\n     <use xlink:href=\"#m89f34270b3\" x=\"142.274687\" y=\"81.826517\" style=\"fill: #1f77b4; stroke: #1f77b4\"/>\n     <use xlink:href=\"#m89f34270b3\" x=\"114.043134\" y=\"36.158107\" style=\"fill: #1f77b4; stroke: #1f77b4\"/>\n     <use xlink:href=\"#m89f34270b3\" x=\"158.241123\" y=\"87.773961\" style=\"fill: #1f77b4; stroke: #1f77b4\"/>\n     <use xlink:href=\"#m89f34270b3\" x=\"95.800602\" y=\"61.872987\" style=\"fill: #1f77b4; stroke: #1f77b4\"/>\n     <use xlink:href=\"#m89f34270b3\" x=\"120.670004\" y=\"72.361799\" style=\"fill: #1f77b4; stroke: #1f77b4\"/>\n     <use xlink:href=\"#m89f34270b3\" x=\"144.803605\" y=\"78.388501\" style=\"fill: #1f77b4; stroke: #1f77b4\"/>\n     <use xlink:href=\"#m89f34270b3\" x=\"125.934214\" y=\"89.285483\" style=\"fill: #1f77b4; stroke: #1f77b4\"/>\n     <use xlink:href=\"#m89f34270b3\" x=\"137.131621\" y=\"80.597321\" style=\"fill: #1f77b4; stroke: #1f77b4\"/>\n     <use xlink:href=\"#m89f34270b3\" x=\"83.669434\" y=\"54.845539\" style=\"fill: #1f77b4; stroke: #1f77b4\"/>\n     <use xlink:href=\"#m89f34270b3\" x=\"104.795408\" y=\"72.003885\" style=\"fill: #1f77b4; stroke: #1f77b4\"/>\n     <use xlink:href=\"#m89f34270b3\" x=\"138.813851\" y=\"78.264106\" style=\"fill: #1f77b4; stroke: #1f77b4\"/>\n     <use xlink:href=\"#m89f34270b3\" x=\"103.967083\" y=\"60.246462\" style=\"fill: #1f77b4; stroke: #1f77b4\"/>\n     <use xlink:href=\"#m89f34270b3\" x=\"125.88576\" y=\"76.470895\" style=\"fill: #1f77b4; stroke: #1f77b4\"/>\n     <use xlink:href=\"#m89f34270b3\" x=\"119.726749\" y=\"62.55068\" style=\"fill: #1f77b4; stroke: #1f77b4\"/>\n     <use xlink:href=\"#m89f34270b3\" x=\"134.993838\" y=\"86.988562\" style=\"fill: #1f77b4; stroke: #1f77b4\"/>\n     <use xlink:href=\"#m89f34270b3\" x=\"122.791775\" y=\"55.659798\" style=\"fill: #1f77b4; stroke: #1f77b4\"/>\n     <use xlink:href=\"#m89f34270b3\" x=\"118.371563\" y=\"86.12315\" style=\"fill: #1f77b4; stroke: #1f77b4\"/>\n     <use xlink:href=\"#m89f34270b3\" x=\"136.047828\" y=\"73.11433\" style=\"fill: #1f77b4; stroke: #1f77b4\"/>\n     <use xlink:href=\"#m89f34270b3\" x=\"110.099765\" y=\"50.715908\" style=\"fill: #1f77b4; stroke: #1f77b4\"/>\n     <use xlink:href=\"#m89f34270b3\" x=\"164.58251\" y=\"95.993223\" style=\"fill: #1f77b4; stroke: #1f77b4\"/>\n     <use xlink:href=\"#m89f34270b3\" x=\"78.783386\" y=\"41.366417\" style=\"fill: #1f77b4; stroke: #1f77b4\"/>\n     <use xlink:href=\"#m89f34270b3\" x=\"144.932849\" y=\"83.300454\" style=\"fill: #1f77b4; stroke: #1f77b4\"/>\n     <use xlink:href=\"#m89f34270b3\" x=\"155.387801\" y=\"87.851139\" style=\"fill: #1f77b4; stroke: #1f77b4\"/>\n     <use xlink:href=\"#m89f34270b3\" x=\"135.737891\" y=\"67.794217\" style=\"fill: #1f77b4; stroke: #1f77b4\"/>\n     <use xlink:href=\"#m89f34270b3\" x=\"155.784195\" y=\"113.721659\" style=\"fill: #1f77b4; stroke: #1f77b4\"/>\n     <use xlink:href=\"#m89f34270b3\" x=\"150.775086\" y=\"75.03158\" style=\"fill: #1f77b4; stroke: #1f77b4\"/>\n     <use xlink:href=\"#m89f34270b3\" x=\"129.613433\" y=\"64.938081\" style=\"fill: #1f77b4; stroke: #1f77b4\"/>\n     <use xlink:href=\"#m89f34270b3\" x=\"157.436516\" y=\"95.93338\" style=\"fill: #1f77b4; stroke: #1f77b4\"/>\n     <use xlink:href=\"#m89f34270b3\" x=\"117.091425\" y=\"70.369487\" style=\"fill: #1f77b4; stroke: #1f77b4\"/>\n     <use xlink:href=\"#m89f34270b3\" x=\"115.951742\" y=\"69.618589\" style=\"fill: #1f77b4; stroke: #1f77b4\"/>\n     <use xlink:href=\"#m89f34270b3\" x=\"93.171481\" y=\"52.278071\" style=\"fill: #1f77b4; stroke: #1f77b4\"/>\n     <use xlink:href=\"#m89f34270b3\" x=\"166.565262\" y=\"92.438786\" style=\"fill: #1f77b4; stroke: #1f77b4\"/>\n     <use xlink:href=\"#m89f34270b3\" x=\"139.867117\" y=\"90.697925\" style=\"fill: #1f77b4; stroke: #1f77b4\"/>\n     <use xlink:href=\"#m89f34270b3\" x=\"134.625936\" y=\"89.208702\" style=\"fill: #1f77b4; stroke: #1f77b4\"/>\n     <use xlink:href=\"#m89f34270b3\" x=\"182.006131\" y=\"106.112638\" style=\"fill: #1f77b4; stroke: #1f77b4\"/>\n     <use xlink:href=\"#m89f34270b3\" x=\"167.022119\" y=\"79.831146\" style=\"fill: #1f77b4; stroke: #1f77b4\"/>\n     <use xlink:href=\"#m89f34270b3\" x=\"180.930265\" y=\"103.789395\" style=\"fill: #1f77b4; stroke: #1f77b4\"/>\n     <use xlink:href=\"#m89f34270b3\" x=\"169.796808\" y=\"87.719933\" style=\"fill: #1f77b4; stroke: #1f77b4\"/>\n     <use xlink:href=\"#m89f34270b3\" x=\"109.00754\" y=\"48.663146\" style=\"fill: #1f77b4; stroke: #1f77b4\"/>\n     <use xlink:href=\"#m89f34270b3\" x=\"143.179891\" y=\"94.420867\" style=\"fill: #1f77b4; stroke: #1f77b4\"/>\n     <use xlink:href=\"#m89f34270b3\" x=\"120.77812\" y=\"40.853218\" style=\"fill: #1f77b4; stroke: #1f77b4\"/>\n     <use xlink:href=\"#m89f34270b3\" x=\"104.965007\" y=\"59.2735\" style=\"fill: #1f77b4; stroke: #1f77b4\"/>\n     <use xlink:href=\"#m89f34270b3\" x=\"108.35548\" y=\"48.780469\" style=\"fill: #1f77b4; stroke: #1f77b4\"/>\n     <use xlink:href=\"#m89f34270b3\" x=\"98.95979\" y=\"53.079911\" style=\"fill: #1f77b4; stroke: #1f77b4\"/>\n     <use xlink:href=\"#m89f34270b3\" x=\"147.798179\" y=\"91.702581\" style=\"fill: #1f77b4; stroke: #1f77b4\"/>\n     <use xlink:href=\"#m89f34270b3\" x=\"146.566574\" y=\"65.279577\" style=\"fill: #1f77b4; stroke: #1f77b4\"/>\n     <use xlink:href=\"#m89f34270b3\" x=\"132.80389\" y=\"89.490563\" style=\"fill: #1f77b4; stroke: #1f77b4\"/>\n     <use xlink:href=\"#m89f34270b3\" x=\"82.858761\" y=\"49.356347\" style=\"fill: #1f77b4; stroke: #1f77b4\"/>\n     <use xlink:href=\"#m89f34270b3\" x=\"94.370773\" y=\"38.758915\" style=\"fill: #1f77b4; stroke: #1f77b4\"/>\n     <use xlink:href=\"#m89f34270b3\" x=\"111.603092\" y=\"49.110745\" style=\"fill: #1f77b4; stroke: #1f77b4\"/>\n     <use xlink:href=\"#m89f34270b3\" x=\"97.276125\" y=\"35.105538\" style=\"fill: #1f77b4; stroke: #1f77b4\"/>\n     <use xlink:href=\"#m89f34270b3\" x=\"135.358743\" y=\"65.588313\" style=\"fill: #1f77b4; stroke: #1f77b4\"/>\n     <use xlink:href=\"#m89f34270b3\" x=\"106.40407\" y=\"77.819688\" style=\"fill: #1f77b4; stroke: #1f77b4\"/>\n     <use xlink:href=\"#m89f34270b3\" x=\"140.946791\" y=\"68.612154\" style=\"fill: #1f77b4; stroke: #1f77b4\"/>\n     <use xlink:href=\"#m89f34270b3\" x=\"171.088772\" y=\"93.331491\" style=\"fill: #1f77b4; stroke: #1f77b4\"/>\n     <use xlink:href=\"#m89f34270b3\" x=\"157.238924\" y=\"78.162825\" style=\"fill: #1f77b4; stroke: #1f77b4\"/>\n     <use xlink:href=\"#m89f34270b3\" x=\"138.824197\" y=\"89.439073\" style=\"fill: #1f77b4; stroke: #1f77b4\"/>\n     <use xlink:href=\"#m89f34270b3\" x=\"151.164885\" y=\"86.41406\" style=\"fill: #1f77b4; stroke: #1f77b4\"/>\n     <use xlink:href=\"#m89f34270b3\" x=\"120.975445\" y=\"61.568008\" style=\"fill: #1f77b4; stroke: #1f77b4\"/>\n     <use xlink:href=\"#m89f34270b3\" x=\"129.631963\" y=\"90.950412\" style=\"fill: #1f77b4; stroke: #1f77b4\"/>\n     <use xlink:href=\"#m89f34270b3\" x=\"101.524014\" y=\"43.654368\" style=\"fill: #1f77b4; stroke: #1f77b4\"/>\n     <use xlink:href=\"#m89f34270b3\" x=\"121.341961\" y=\"53.936416\" style=\"fill: #1f77b4; stroke: #1f77b4\"/>\n     <use xlink:href=\"#m89f34270b3\" x=\"157.32533\" y=\"95.163443\" style=\"fill: #1f77b4; stroke: #1f77b4\"/>\n     <use xlink:href=\"#m89f34270b3\" x=\"160.410175\" y=\"108.288132\" style=\"fill: #1f77b4; stroke: #1f77b4\"/>\n     <use xlink:href=\"#m89f34270b3\" x=\"142.541406\" y=\"73.551432\" style=\"fill: #1f77b4; stroke: #1f77b4\"/>\n     <use xlink:href=\"#m89f34270b3\" x=\"167.769727\" y=\"101.195181\" style=\"fill: #1f77b4; stroke: #1f77b4\"/>\n     <use xlink:href=\"#m89f34270b3\" x=\"160.970557\" y=\"97.948738\" style=\"fill: #1f77b4; stroke: #1f77b4\"/>\n     <use xlink:href=\"#m89f34270b3\" x=\"133.223126\" y=\"66.257804\" style=\"fill: #1f77b4; stroke: #1f77b4\"/>\n     <use xlink:href=\"#m89f34270b3\" x=\"180.150649\" y=\"102.315563\" style=\"fill: #1f77b4; stroke: #1f77b4\"/>\n     <use xlink:href=\"#m89f34270b3\" x=\"125.390544\" y=\"55.696311\" style=\"fill: #1f77b4; stroke: #1f77b4\"/>\n     <use xlink:href=\"#m89f34270b3\" x=\"154.694334\" y=\"95.206667\" style=\"fill: #1f77b4; stroke: #1f77b4\"/>\n     <use xlink:href=\"#m89f34270b3\" x=\"117.270386\" y=\"47.611726\" style=\"fill: #1f77b4; stroke: #1f77b4\"/>\n     <use xlink:href=\"#m89f34270b3\" x=\"114.884222\" y=\"77.411912\" style=\"fill: #1f77b4; stroke: #1f77b4\"/>\n     <use xlink:href=\"#m89f34270b3\" x=\"185.349804\" y=\"107.276462\" style=\"fill: #1f77b4; stroke: #1f77b4\"/>\n     <use xlink:href=\"#m89f34270b3\" x=\"163.769472\" y=\"79.860042\" style=\"fill: #1f77b4; stroke: #1f77b4\"/>\n     <use xlink:href=\"#m89f34270b3\" x=\"138.205925\" y=\"84.008132\" style=\"fill: #1f77b4; stroke: #1f77b4\"/>\n     <use xlink:href=\"#m89f34270b3\" x=\"151.638839\" y=\"70.259783\" style=\"fill: #1f77b4; stroke: #1f77b4\"/>\n     <use xlink:href=\"#m89f34270b3\" x=\"86.785239\" y=\"37.057256\" style=\"fill: #1f77b4; stroke: #1f77b4\"/>\n     <use xlink:href=\"#m89f34270b3\" x=\"145.430376\" y=\"70.861396\" style=\"fill: #1f77b4; stroke: #1f77b4\"/>\n     <use xlink:href=\"#m89f34270b3\" x=\"103.97461\" y=\"51.413577\" style=\"fill: #1f77b4; stroke: #1f77b4\"/>\n     <use xlink:href=\"#m89f34270b3\" x=\"162.700944\" y=\"77.658545\" style=\"fill: #1f77b4; stroke: #1f77b4\"/>\n     <use xlink:href=\"#m89f34270b3\" x=\"132.968797\" y=\"75.662142\" style=\"fill: #1f77b4; stroke: #1f77b4\"/>\n     <use xlink:href=\"#m89f34270b3\" x=\"171.858861\" y=\"100.611891\" style=\"fill: #1f77b4; stroke: #1f77b4\"/>\n     <use xlink:href=\"#m89f34270b3\" x=\"130.058572\" y=\"68.611749\" style=\"fill: #1f77b4; stroke: #1f77b4\"/>\n     <use xlink:href=\"#m89f34270b3\" x=\"133.318295\" y=\"85.929466\" style=\"fill: #1f77b4; stroke: #1f77b4\"/>\n     <use xlink:href=\"#m89f34270b3\" x=\"134.825353\" y=\"80.541531\" style=\"fill: #1f77b4; stroke: #1f77b4\"/>\n     <use xlink:href=\"#m89f34270b3\" x=\"88.372861\" y=\"45.366249\" style=\"fill: #1f77b4; stroke: #1f77b4\"/>\n     <use xlink:href=\"#m89f34270b3\" x=\"162.408904\" y=\"80.479252\" style=\"fill: #1f77b4; stroke: #1f77b4\"/>\n     <use xlink:href=\"#m89f34270b3\" x=\"124.22409\" y=\"72.945592\" style=\"fill: #1f77b4; stroke: #1f77b4\"/>\n     <use xlink:href=\"#m89f34270b3\" x=\"144.539109\" y=\"75.154368\" style=\"fill: #1f77b4; stroke: #1f77b4\"/>\n     <use xlink:href=\"#m89f34270b3\" x=\"139.235244\" y=\"87.982229\" style=\"fill: #1f77b4; stroke: #1f77b4\"/>\n     <use xlink:href=\"#m89f34270b3\" x=\"173.861667\" y=\"93.761275\" style=\"fill: #1f77b4; stroke: #1f77b4\"/>\n     <use xlink:href=\"#m89f34270b3\" x=\"168.170421\" y=\"86.914053\" style=\"fill: #1f77b4; stroke: #1f77b4\"/>\n     <use xlink:href=\"#m89f34270b3\" x=\"149.686467\" y=\"77.13106\" style=\"fill: #1f77b4; stroke: #1f77b4\"/>\n     <use xlink:href=\"#m89f34270b3\" x=\"109.42733\" y=\"51.027311\" style=\"fill: #1f77b4; stroke: #1f77b4\"/>\n     <use xlink:href=\"#m89f34270b3\" x=\"115.558167\" y=\"73.881979\" style=\"fill: #1f77b4; stroke: #1f77b4\"/>\n     <use xlink:href=\"#m89f34270b3\" x=\"139.661289\" y=\"80.839138\" style=\"fill: #1f77b4; stroke: #1f77b4\"/>\n     <use xlink:href=\"#m89f34270b3\" x=\"127.420579\" y=\"69.703514\" style=\"fill: #1f77b4; stroke: #1f77b4\"/>\n     <use xlink:href=\"#m89f34270b3\" x=\"126.324659\" y=\"62.063324\" style=\"fill: #1f77b4; stroke: #1f77b4\"/>\n     <use xlink:href=\"#m89f34270b3\" x=\"143.570957\" y=\"67.152343\" style=\"fill: #1f77b4; stroke: #1f77b4\"/>\n     <use xlink:href=\"#m89f34270b3\" x=\"137.319655\" y=\"60.128057\" style=\"fill: #1f77b4; stroke: #1f77b4\"/>\n     <use xlink:href=\"#m89f34270b3\" x=\"161.340179\" y=\"100.764519\" style=\"fill: #1f77b4; stroke: #1f77b4\"/>\n     <use xlink:href=\"#m89f34270b3\" x=\"125.393525\" y=\"74.425911\" style=\"fill: #1f77b4; stroke: #1f77b4\"/>\n     <use xlink:href=\"#m89f34270b3\" x=\"107.137994\" y=\"67.547914\" style=\"fill: #1f77b4; stroke: #1f77b4\"/>\n     <use xlink:href=\"#m89f34270b3\" x=\"151.964501\" y=\"96.229039\" style=\"fill: #1f77b4; stroke: #1f77b4\"/>\n     <use xlink:href=\"#m89f34270b3\" x=\"136.851578\" y=\"97.361705\" style=\"fill: #1f77b4; stroke: #1f77b4\"/>\n     <use xlink:href=\"#m89f34270b3\" x=\"148.750131\" y=\"66.999567\" style=\"fill: #1f77b4; stroke: #1f77b4\"/>\n     <use xlink:href=\"#m89f34270b3\" x=\"93.294371\" y=\"46.842315\" style=\"fill: #1f77b4; stroke: #1f77b4\"/>\n     <use xlink:href=\"#m89f34270b3\" x=\"173.416546\" y=\"89.14846\" style=\"fill: #1f77b4; stroke: #1f77b4\"/>\n     <use xlink:href=\"#m89f34270b3\" x=\"149.156534\" y=\"88.047191\" style=\"fill: #1f77b4; stroke: #1f77b4\"/>\n     <use xlink:href=\"#m89f34270b3\" x=\"150.892345\" y=\"78.054705\" style=\"fill: #1f77b4; stroke: #1f77b4\"/>\n     <use xlink:href=\"#m89f34270b3\" x=\"148.939603\" y=\"83.141782\" style=\"fill: #1f77b4; stroke: #1f77b4\"/>\n     <use xlink:href=\"#m89f34270b3\" x=\"167.040397\" y=\"96.316332\" style=\"fill: #1f77b4; stroke: #1f77b4\"/>\n     <use xlink:href=\"#m89f34270b3\" x=\"146.872088\" y=\"85.087168\" style=\"fill: #1f77b4; stroke: #1f77b4\"/>\n     <use xlink:href=\"#m89f34270b3\" x=\"121.651769\" y=\"64.332479\" style=\"fill: #1f77b4; stroke: #1f77b4\"/>\n     <use xlink:href=\"#m89f34270b3\" x=\"125.444545\" y=\"92.989415\" style=\"fill: #1f77b4; stroke: #1f77b4\"/>\n     <use xlink:href=\"#m89f34270b3\" x=\"186.241613\" y=\"116.032661\" style=\"fill: #1f77b4; stroke: #1f77b4\"/>\n     <use xlink:href=\"#m89f34270b3\" x=\"131.51848\" y=\"41.391066\" style=\"fill: #1f77b4; stroke: #1f77b4\"/>\n     <use xlink:href=\"#m89f34270b3\" x=\"149.605527\" y=\"86.16262\" style=\"fill: #1f77b4; stroke: #1f77b4\"/>\n     <use xlink:href=\"#m89f34270b3\" x=\"138.905656\" y=\"76.908161\" style=\"fill: #1f77b4; stroke: #1f77b4\"/>\n     <use xlink:href=\"#m89f34270b3\" x=\"140.361553\" y=\"66.384047\" style=\"fill: #1f77b4; stroke: #1f77b4\"/>\n     <use xlink:href=\"#m89f34270b3\" x=\"132.000086\" y=\"76.445482\" style=\"fill: #1f77b4; stroke: #1f77b4\"/>\n     <use xlink:href=\"#m89f34270b3\" x=\"137.369565\" y=\"69.506944\" style=\"fill: #1f77b4; stroke: #1f77b4\"/>\n     <use xlink:href=\"#m89f34270b3\" x=\"142.505583\" y=\"77.70018\" style=\"fill: #1f77b4; stroke: #1f77b4\"/>\n     <use xlink:href=\"#m89f34270b3\" x=\"92.564997\" y=\"48.043932\" style=\"fill: #1f77b4; stroke: #1f77b4\"/>\n     <use xlink:href=\"#m89f34270b3\" x=\"128.844234\" y=\"69.688715\" style=\"fill: #1f77b4; stroke: #1f77b4\"/>\n     <use xlink:href=\"#m89f34270b3\" x=\"137.43024\" y=\"62.499064\" style=\"fill: #1f77b4; stroke: #1f77b4\"/>\n     <use xlink:href=\"#m89f34270b3\" x=\"107.988958\" y=\"59.400134\" style=\"fill: #1f77b4; stroke: #1f77b4\"/>\n     <use xlink:href=\"#m89f34270b3\" x=\"119.581928\" y=\"66.838226\" style=\"fill: #1f77b4; stroke: #1f77b4\"/>\n     <use xlink:href=\"#m89f34270b3\" x=\"123.421215\" y=\"59.057253\" style=\"fill: #1f77b4; stroke: #1f77b4\"/>\n     <use xlink:href=\"#m89f34270b3\" x=\"135.534409\" y=\"85.617131\" style=\"fill: #1f77b4; stroke: #1f77b4\"/>\n     <use xlink:href=\"#m89f34270b3\" x=\"138.942764\" y=\"76.560096\" style=\"fill: #1f77b4; stroke: #1f77b4\"/>\n     <use xlink:href=\"#m89f34270b3\" x=\"120.544867\" y=\"68.371553\" style=\"fill: #1f77b4; stroke: #1f77b4\"/>\n     <use xlink:href=\"#m89f34270b3\" x=\"149.338728\" y=\"84.747657\" style=\"fill: #1f77b4; stroke: #1f77b4\"/>\n     <use xlink:href=\"#m89f34270b3\" x=\"133.91004\" y=\"75.81329\" style=\"fill: #1f77b4; stroke: #1f77b4\"/>\n     <use xlink:href=\"#m89f34270b3\" x=\"71.668477\" y=\"32.940269\" style=\"fill: #1f77b4; stroke: #1f77b4\"/>\n     <use xlink:href=\"#m89f34270b3\" x=\"98.694848\" y=\"50.928215\" style=\"fill: #1f77b4; stroke: #1f77b4\"/>\n     <use xlink:href=\"#m89f34270b3\" x=\"170.408517\" y=\"111.565619\" style=\"fill: #1f77b4; stroke: #1f77b4\"/>\n     <use xlink:href=\"#m89f34270b3\" x=\"89.140828\" y=\"33.769064\" style=\"fill: #1f77b4; stroke: #1f77b4\"/>\n     <use xlink:href=\"#m89f34270b3\" x=\"145.976269\" y=\"93.528846\" style=\"fill: #1f77b4; stroke: #1f77b4\"/>\n     <use xlink:href=\"#m89f34270b3\" x=\"140.943215\" y=\"82.260069\" style=\"fill: #1f77b4; stroke: #1f77b4\"/>\n     <use xlink:href=\"#m89f34270b3\" x=\"138.510694\" y=\"95.682231\" style=\"fill: #1f77b4; stroke: #1f77b4\"/>\n     <use xlink:href=\"#m89f34270b3\" x=\"135.069231\" y=\"85.906122\" style=\"fill: #1f77b4; stroke: #1f77b4\"/>\n     <use xlink:href=\"#m89f34270b3\" x=\"127.309418\" y=\"77.886887\" style=\"fill: #1f77b4; stroke: #1f77b4\"/>\n     <use xlink:href=\"#m89f34270b3\" x=\"156.871919\" y=\"72.433463\" style=\"fill: #1f77b4; stroke: #1f77b4\"/>\n     <use xlink:href=\"#m89f34270b3\" x=\"119.833562\" y=\"65.521495\" style=\"fill: #1f77b4; stroke: #1f77b4\"/>\n     <use xlink:href=\"#m89f34270b3\" x=\"133.430736\" y=\"69.156237\" style=\"fill: #1f77b4; stroke: #1f77b4\"/>\n     <use xlink:href=\"#m89f34270b3\" x=\"86.84066\" y=\"35.133112\" style=\"fill: #1f77b4; stroke: #1f77b4\"/>\n     <use xlink:href=\"#m89f34270b3\" x=\"82.659156\" y=\"34.562649\" style=\"fill: #1f77b4; stroke: #1f77b4\"/>\n     <use xlink:href=\"#m89f34270b3\" x=\"140.078778\" y=\"84.906617\" style=\"fill: #1f77b4; stroke: #1f77b4\"/>\n     <use xlink:href=\"#m89f34270b3\" x=\"106.806532\" y=\"56.838881\" style=\"fill: #1f77b4; stroke: #1f77b4\"/>\n     <use xlink:href=\"#m89f34270b3\" x=\"90.938013\" y=\"32.988201\" style=\"fill: #1f77b4; stroke: #1f77b4\"/>\n     <use xlink:href=\"#m89f34270b3\" x=\"120.279694\" y=\"71.948702\" style=\"fill: #1f77b4; stroke: #1f77b4\"/>\n     <use xlink:href=\"#m89f34270b3\" x=\"85.039014\" y=\"40.707727\" style=\"fill: #1f77b4; stroke: #1f77b4\"/>\n     <use xlink:href=\"#m89f34270b3\" x=\"143.143508\" y=\"66.64435\" style=\"fill: #1f77b4; stroke: #1f77b4\"/>\n     <use xlink:href=\"#m89f34270b3\" x=\"164.537212\" y=\"87.825592\" style=\"fill: #1f77b4; stroke: #1f77b4\"/>\n     <use xlink:href=\"#m89f34270b3\" x=\"171.587501\" y=\"97.738007\" style=\"fill: #1f77b4; stroke: #1f77b4\"/>\n     <use xlink:href=\"#m89f34270b3\" x=\"118.795956\" y=\"71.348949\" style=\"fill: #1f77b4; stroke: #1f77b4\"/>\n     <use xlink:href=\"#m89f34270b3\" x=\"171.62605\" y=\"99.779446\" style=\"fill: #1f77b4; stroke: #1f77b4\"/>\n     <use xlink:href=\"#m89f34270b3\" x=\"135.334668\" y=\"86.343773\" style=\"fill: #1f77b4; stroke: #1f77b4\"/>\n     <use xlink:href=\"#m89f34270b3\" x=\"120.891937\" y=\"47.697794\" style=\"fill: #1f77b4; stroke: #1f77b4\"/>\n     <use xlink:href=\"#m89f34270b3\" x=\"139.724531\" y=\"71.017935\" style=\"fill: #1f77b4; stroke: #1f77b4\"/>\n     <use xlink:href=\"#m89f34270b3\" x=\"161.473816\" y=\"97.24448\" style=\"fill: #1f77b4; stroke: #1f77b4\"/>\n     <use xlink:href=\"#m89f34270b3\" x=\"169.773861\" y=\"93.301827\" style=\"fill: #1f77b4; stroke: #1f77b4\"/>\n     <use xlink:href=\"#m89f34270b3\" x=\"147.6746\" y=\"73.776803\" style=\"fill: #1f77b4; stroke: #1f77b4\"/>\n     <use xlink:href=\"#m89f34270b3\" x=\"76.690032\" y=\"49.248212\" style=\"fill: #1f77b4; stroke: #1f77b4\"/>\n     <use xlink:href=\"#m89f34270b3\" x=\"81.610997\" y=\"42.957346\" style=\"fill: #1f77b4; stroke: #1f77b4\"/>\n     <use xlink:href=\"#m89f34270b3\" x=\"108.061338\" y=\"54.460714\" style=\"fill: #1f77b4; stroke: #1f77b4\"/>\n     <use xlink:href=\"#m89f34270b3\" x=\"93.786991\" y=\"43.886444\" style=\"fill: #1f77b4; stroke: #1f77b4\"/>\n     <use xlink:href=\"#m89f34270b3\" x=\"131.07581\" y=\"77.746008\" style=\"fill: #1f77b4; stroke: #1f77b4\"/>\n     <use xlink:href=\"#m89f34270b3\" x=\"105.185526\" y=\"56.173648\" style=\"fill: #1f77b4; stroke: #1f77b4\"/>\n     <use xlink:href=\"#m89f34270b3\" x=\"123.235154\" y=\"53.160314\" style=\"fill: #1f77b4; stroke: #1f77b4\"/>\n     <use xlink:href=\"#m89f34270b3\" x=\"141.12938\" y=\"82.547463\" style=\"fill: #1f77b4; stroke: #1f77b4\"/>\n     <use xlink:href=\"#m89f34270b3\" x=\"151.958257\" y=\"77.870392\" style=\"fill: #1f77b4; stroke: #1f77b4\"/>\n     <use xlink:href=\"#m89f34270b3\" x=\"126.552157\" y=\"56.566723\" style=\"fill: #1f77b4; stroke: #1f77b4\"/>\n     <use xlink:href=\"#m89f34270b3\" x=\"159.524187\" y=\"90.874577\" style=\"fill: #1f77b4; stroke: #1f77b4\"/>\n     <use xlink:href=\"#m89f34270b3\" x=\"126.483537\" y=\"71.490602\" style=\"fill: #1f77b4; stroke: #1f77b4\"/>\n     <use xlink:href=\"#m89f34270b3\" x=\"118.719131\" y=\"67.898625\" style=\"fill: #1f77b4; stroke: #1f77b4\"/>\n     <use xlink:href=\"#m89f34270b3\" x=\"83.745813\" y=\"55.638066\" style=\"fill: #1f77b4; stroke: #1f77b4\"/>\n     <use xlink:href=\"#m89f34270b3\" x=\"157.999398\" y=\"97.387077\" style=\"fill: #1f77b4; stroke: #1f77b4\"/>\n     <use xlink:href=\"#m89f34270b3\" x=\"129.57431\" y=\"62.236688\" style=\"fill: #1f77b4; stroke: #1f77b4\"/>\n     <use xlink:href=\"#m89f34270b3\" x=\"129.88597\" y=\"57.276323\" style=\"fill: #1f77b4; stroke: #1f77b4\"/>\n     <use xlink:href=\"#m89f34270b3\" x=\"90.922797\" y=\"45.852502\" style=\"fill: #1f77b4; stroke: #1f77b4\"/>\n     <use xlink:href=\"#m89f34270b3\" x=\"159.325298\" y=\"98.846689\" style=\"fill: #1f77b4; stroke: #1f77b4\"/>\n     <use xlink:href=\"#m89f34270b3\" x=\"168.944951\" y=\"87.589123\" style=\"fill: #1f77b4; stroke: #1f77b4\"/>\n     <use xlink:href=\"#m89f34270b3\" x=\"132.026999\" y=\"76.243725\" style=\"fill: #1f77b4; stroke: #1f77b4\"/>\n     <use xlink:href=\"#m89f34270b3\" x=\"102.036884\" y=\"49.536096\" style=\"fill: #1f77b4; stroke: #1f77b4\"/>\n     <use xlink:href=\"#m89f34270b3\" x=\"164.522532\" y=\"80.354217\" style=\"fill: #1f77b4; stroke: #1f77b4\"/>\n     <use xlink:href=\"#m89f34270b3\" x=\"127.046581\" y=\"67.55608\" style=\"fill: #1f77b4; stroke: #1f77b4\"/>\n     <use xlink:href=\"#m89f34270b3\" x=\"165.454018\" y=\"86.703087\" style=\"fill: #1f77b4; stroke: #1f77b4\"/>\n     <use xlink:href=\"#m89f34270b3\" x=\"97.887082\" y=\"51.488235\" style=\"fill: #1f77b4; stroke: #1f77b4\"/>\n     <use xlink:href=\"#m89f34270b3\" x=\"71.329696\" y=\"34.369164\" style=\"fill: #1f77b4; stroke: #1f77b4\"/>\n     <use xlink:href=\"#m89f34270b3\" x=\"124.386133\" y=\"76.755036\" style=\"fill: #1f77b4; stroke: #1f77b4\"/>\n     <use xlink:href=\"#m89f34270b3\" x=\"141.074345\" y=\"92.80304\" style=\"fill: #1f77b4; stroke: #1f77b4\"/>\n     <use xlink:href=\"#m89f34270b3\" x=\"132.559046\" y=\"66.67506\" style=\"fill: #1f77b4; stroke: #1f77b4\"/>\n     <use xlink:href=\"#m89f34270b3\" x=\"113.491436\" y=\"68.68803\" style=\"fill: #1f77b4; stroke: #1f77b4\"/>\n     <use xlink:href=\"#m89f34270b3\" x=\"116.906219\" y=\"70.316305\" style=\"fill: #1f77b4; stroke: #1f77b4\"/>\n     <use xlink:href=\"#m89f34270b3\" x=\"75.548845\" y=\"60.269136\" style=\"fill: #1f77b4; stroke: #1f77b4\"/>\n     <use xlink:href=\"#m89f34270b3\" x=\"156.035314\" y=\"107.783009\" style=\"fill: #1f77b4; stroke: #1f77b4\"/>\n     <use xlink:href=\"#m89f34270b3\" x=\"148.064323\" y=\"93.003183\" style=\"fill: #1f77b4; stroke: #1f77b4\"/>\n     <use xlink:href=\"#m89f34270b3\" x=\"146.28944\" y=\"82.536531\" style=\"fill: #1f77b4; stroke: #1f77b4\"/>\n     <use xlink:href=\"#m89f34270b3\" x=\"123.186927\" y=\"62.823889\" style=\"fill: #1f77b4; stroke: #1f77b4\"/>\n     <use xlink:href=\"#m89f34270b3\" x=\"124.300778\" y=\"78.399265\" style=\"fill: #1f77b4; stroke: #1f77b4\"/>\n     <use xlink:href=\"#m89f34270b3\" x=\"132.347042\" y=\"50.833481\" style=\"fill: #1f77b4; stroke: #1f77b4\"/>\n     <use xlink:href=\"#m89f34270b3\" x=\"144.889511\" y=\"80.134138\" style=\"fill: #1f77b4; stroke: #1f77b4\"/>\n     <use xlink:href=\"#m89f34270b3\" x=\"129.296257\" y=\"80.481772\" style=\"fill: #1f77b4; stroke: #1f77b4\"/>\n     <use xlink:href=\"#m89f34270b3\" x=\"121.185046\" y=\"60.14453\" style=\"fill: #1f77b4; stroke: #1f77b4\"/>\n     <use xlink:href=\"#m89f34270b3\" x=\"125.635635\" y=\"59.613113\" style=\"fill: #1f77b4; stroke: #1f77b4\"/>\n     <use xlink:href=\"#m89f34270b3\" x=\"139.951649\" y=\"85.049004\" style=\"fill: #1f77b4; stroke: #1f77b4\"/>\n     <use xlink:href=\"#m89f34270b3\" x=\"147.917222\" y=\"81.530946\" style=\"fill: #1f77b4; stroke: #1f77b4\"/>\n     <use xlink:href=\"#m89f34270b3\" x=\"90.310871\" y=\"53.275397\" style=\"fill: #1f77b4; stroke: #1f77b4\"/>\n     <use xlink:href=\"#m89f34270b3\" x=\"140.39733\" y=\"86.918262\" style=\"fill: #1f77b4; stroke: #1f77b4\"/>\n     <use xlink:href=\"#m89f34270b3\" x=\"158.271705\" y=\"98.849416\" style=\"fill: #1f77b4; stroke: #1f77b4\"/>\n     <use xlink:href=\"#m89f34270b3\" x=\"137.919282\" y=\"83.724152\" style=\"fill: #1f77b4; stroke: #1f77b4\"/>\n     <use xlink:href=\"#m89f34270b3\" x=\"124.620741\" y=\"56.704795\" style=\"fill: #1f77b4; stroke: #1f77b4\"/>\n     <use xlink:href=\"#m89f34270b3\" x=\"136.039744\" y=\"74.63846\" style=\"fill: #1f77b4; stroke: #1f77b4\"/>\n     <use xlink:href=\"#m89f34270b3\" x=\"193.346246\" y=\"99.844058\" style=\"fill: #1f77b4; stroke: #1f77b4\"/>\n     <use xlink:href=\"#m89f34270b3\" x=\"140.040297\" y=\"84.135348\" style=\"fill: #1f77b4; stroke: #1f77b4\"/>\n     <use xlink:href=\"#m89f34270b3\" x=\"192.599081\" y=\"103.416054\" style=\"fill: #1f77b4; stroke: #1f77b4\"/>\n     <use xlink:href=\"#m89f34270b3\" x=\"158.395438\" y=\"93.414387\" style=\"fill: #1f77b4; stroke: #1f77b4\"/>\n     <use xlink:href=\"#m89f34270b3\" x=\"171.632904\" y=\"108.749164\" style=\"fill: #1f77b4; stroke: #1f77b4\"/>\n     <use xlink:href=\"#m89f34270b3\" x=\"97.822787\" y=\"48.468004\" style=\"fill: #1f77b4; stroke: #1f77b4\"/>\n     <use xlink:href=\"#m89f34270b3\" x=\"83.495713\" y=\"44.480061\" style=\"fill: #1f77b4; stroke: #1f77b4\"/>\n     <use xlink:href=\"#m89f34270b3\" x=\"169.271257\" y=\"101.588085\" style=\"fill: #1f77b4; stroke: #1f77b4\"/>\n     <use xlink:href=\"#m89f34270b3\" x=\"119.599336\" y=\"73.523696\" style=\"fill: #1f77b4; stroke: #1f77b4\"/>\n     <use xlink:href=\"#m89f34270b3\" x=\"157.967805\" y=\"89.175226\" style=\"fill: #1f77b4; stroke: #1f77b4\"/>\n     <use xlink:href=\"#m89f34270b3\" x=\"153.692485\" y=\"93.992017\" style=\"fill: #1f77b4; stroke: #1f77b4\"/>\n     <use xlink:href=\"#m89f34270b3\" x=\"133.643093\" y=\"72.617441\" style=\"fill: #1f77b4; stroke: #1f77b4\"/>\n     <use xlink:href=\"#m89f34270b3\" x=\"128.380604\" y=\"78.643703\" style=\"fill: #1f77b4; stroke: #1f77b4\"/>\n     <use xlink:href=\"#m89f34270b3\" x=\"105.310208\" y=\"29.237854\" style=\"fill: #1f77b4; stroke: #1f77b4\"/>\n     <use xlink:href=\"#m89f34270b3\" x=\"84.395634\" y=\"49.012813\" style=\"fill: #1f77b4; stroke: #1f77b4\"/>\n     <use xlink:href=\"#m89f34270b3\" x=\"146.04186\" y=\"83.474332\" style=\"fill: #1f77b4; stroke: #1f77b4\"/>\n     <use xlink:href=\"#m89f34270b3\" x=\"116.875927\" y=\"54.210669\" style=\"fill: #1f77b4; stroke: #1f77b4\"/>\n     <use xlink:href=\"#m89f34270b3\" x=\"136.338535\" y=\"69.102811\" style=\"fill: #1f77b4; stroke: #1f77b4\"/>\n     <use xlink:href=\"#m89f34270b3\" x=\"114.795153\" y=\"72.788452\" style=\"fill: #1f77b4; stroke: #1f77b4\"/>\n     <use xlink:href=\"#m89f34270b3\" x=\"86.348717\" y=\"56.178178\" style=\"fill: #1f77b4; stroke: #1f77b4\"/>\n     <use xlink:href=\"#m89f34270b3\" x=\"166.64878\" y=\"115.864988\" style=\"fill: #1f77b4; stroke: #1f77b4\"/>\n     <use xlink:href=\"#m89f34270b3\" x=\"66.424676\" y=\"27.379347\" style=\"fill: #1f77b4; stroke: #1f77b4\"/>\n     <use xlink:href=\"#m89f34270b3\" x=\"148.750441\" y=\"83.805535\" style=\"fill: #1f77b4; stroke: #1f77b4\"/>\n     <use xlink:href=\"#m89f34270b3\" x=\"126.630745\" y=\"79.095933\" style=\"fill: #1f77b4; stroke: #1f77b4\"/>\n     <use xlink:href=\"#m89f34270b3\" x=\"138.570627\" y=\"64.614448\" style=\"fill: #1f77b4; stroke: #1f77b4\"/>\n     <use xlink:href=\"#m89f34270b3\" x=\"96.668394\" y=\"74.099972\" style=\"fill: #1f77b4; stroke: #1f77b4\"/>\n     <use xlink:href=\"#m89f34270b3\" x=\"135.970966\" y=\"62.317335\" style=\"fill: #1f77b4; stroke: #1f77b4\"/>\n     <use xlink:href=\"#m89f34270b3\" x=\"130.455678\" y=\"65.03393\" style=\"fill: #1f77b4; stroke: #1f77b4\"/>\n     <use xlink:href=\"#m89f34270b3\" x=\"153.229072\" y=\"77.998505\" style=\"fill: #1f77b4; stroke: #1f77b4\"/>\n     <use xlink:href=\"#m89f34270b3\" x=\"124.902073\" y=\"66.165299\" style=\"fill: #1f77b4; stroke: #1f77b4\"/>\n     <use xlink:href=\"#m89f34270b3\" x=\"170.85092\" y=\"87.18753\" style=\"fill: #1f77b4; stroke: #1f77b4\"/>\n     <use xlink:href=\"#m89f34270b3\" x=\"109.767776\" y=\"61.637854\" style=\"fill: #1f77b4; stroke: #1f77b4\"/>\n     <use xlink:href=\"#m89f34270b3\" x=\"96.34308\" y=\"56.212447\" style=\"fill: #1f77b4; stroke: #1f77b4\"/>\n     <use xlink:href=\"#m89f34270b3\" x=\"150.054288\" y=\"76.007078\" style=\"fill: #1f77b4; stroke: #1f77b4\"/>\n     <use xlink:href=\"#m89f34270b3\" x=\"160.837459\" y=\"92.491123\" style=\"fill: #1f77b4; stroke: #1f77b4\"/>\n     <use xlink:href=\"#m89f34270b3\" x=\"139.411633\" y=\"70.362365\" style=\"fill: #1f77b4; stroke: #1f77b4\"/>\n     <use xlink:href=\"#m89f34270b3\" x=\"169.872236\" y=\"91.712466\" style=\"fill: #1f77b4; stroke: #1f77b4\"/>\n     <use xlink:href=\"#m89f34270b3\" x=\"107.267122\" y=\"54.552666\" style=\"fill: #1f77b4; stroke: #1f77b4\"/>\n     <use xlink:href=\"#m89f34270b3\" x=\"130.581239\" y=\"73.512602\" style=\"fill: #1f77b4; stroke: #1f77b4\"/>\n     <use xlink:href=\"#m89f34270b3\" x=\"104.459643\" y=\"53.000886\" style=\"fill: #1f77b4; stroke: #1f77b4\"/>\n     <use xlink:href=\"#m89f34270b3\" x=\"163.965129\" y=\"98.139833\" style=\"fill: #1f77b4; stroke: #1f77b4\"/>\n     <use xlink:href=\"#m89f34270b3\" x=\"111.588962\" y=\"61.877057\" style=\"fill: #1f77b4; stroke: #1f77b4\"/>\n     <use xlink:href=\"#m89f34270b3\" x=\"99.073038\" y=\"45.314386\" style=\"fill: #1f77b4; stroke: #1f77b4\"/>\n     <use xlink:href=\"#m89f34270b3\" x=\"134.2824\" y=\"82.594972\" style=\"fill: #1f77b4; stroke: #1f77b4\"/>\n     <use xlink:href=\"#m89f34270b3\" x=\"161.161286\" y=\"105.196774\" style=\"fill: #1f77b4; stroke: #1f77b4\"/>\n     <use xlink:href=\"#m89f34270b3\" x=\"138.365692\" y=\"92.317317\" style=\"fill: #1f77b4; stroke: #1f77b4\"/>\n     <use xlink:href=\"#m89f34270b3\" x=\"169.972528\" y=\"98.402723\" style=\"fill: #1f77b4; stroke: #1f77b4\"/>\n     <use xlink:href=\"#m89f34270b3\" x=\"162.47287\" y=\"91.22026\" style=\"fill: #1f77b4; stroke: #1f77b4\"/>\n     <use xlink:href=\"#m89f34270b3\" x=\"123.538537\" y=\"54.00953\" style=\"fill: #1f77b4; stroke: #1f77b4\"/>\n     <use xlink:href=\"#m89f34270b3\" x=\"60.383289\" y=\"31.088915\" style=\"fill: #1f77b4; stroke: #1f77b4\"/>\n     <use xlink:href=\"#m89f34270b3\" x=\"159.086381\" y=\"95.02271\" style=\"fill: #1f77b4; stroke: #1f77b4\"/>\n     <use xlink:href=\"#m89f34270b3\" x=\"139.330497\" y=\"94.763905\" style=\"fill: #1f77b4; stroke: #1f77b4\"/>\n     <use xlink:href=\"#m89f34270b3\" x=\"170.186599\" y=\"99.61277\" style=\"fill: #1f77b4; stroke: #1f77b4\"/>\n     <use xlink:href=\"#m89f34270b3\" x=\"97.076517\" y=\"44.46912\" style=\"fill: #1f77b4; stroke: #1f77b4\"/>\n     <use xlink:href=\"#m89f34270b3\" x=\"168.147426\" y=\"83.272994\" style=\"fill: #1f77b4; stroke: #1f77b4\"/>\n     <use xlink:href=\"#m89f34270b3\" x=\"144.475735\" y=\"83.321177\" style=\"fill: #1f77b4; stroke: #1f77b4\"/>\n     <use xlink:href=\"#m89f34270b3\" x=\"120.294371\" y=\"69.380832\" style=\"fill: #1f77b4; stroke: #1f77b4\"/>\n     <use xlink:href=\"#m89f34270b3\" x=\"136.098496\" y=\"87.90678\" style=\"fill: #1f77b4; stroke: #1f77b4\"/>\n     <use xlink:href=\"#m89f34270b3\" x=\"94.850221\" y=\"40.963087\" style=\"fill: #1f77b4; stroke: #1f77b4\"/>\n     <use xlink:href=\"#m89f34270b3\" x=\"186.516855\" y=\"104.318797\" style=\"fill: #1f77b4; stroke: #1f77b4\"/>\n     <use xlink:href=\"#m89f34270b3\" x=\"181.545562\" y=\"111.685237\" style=\"fill: #1f77b4; stroke: #1f77b4\"/>\n     <use xlink:href=\"#m89f34270b3\" x=\"120.641458\" y=\"62.697581\" style=\"fill: #1f77b4; stroke: #1f77b4\"/>\n     <use xlink:href=\"#m89f34270b3\" x=\"126.846387\" y=\"70.188407\" style=\"fill: #1f77b4; stroke: #1f77b4\"/>\n     <use xlink:href=\"#m89f34270b3\" x=\"87.943783\" y=\"46.728243\" style=\"fill: #1f77b4; stroke: #1f77b4\"/>\n     <use xlink:href=\"#m89f34270b3\" x=\"133.310802\" y=\"59.615143\" style=\"fill: #1f77b4; stroke: #1f77b4\"/>\n     <use xlink:href=\"#m89f34270b3\" x=\"147.604696\" y=\"87.102469\" style=\"fill: #1f77b4; stroke: #1f77b4\"/>\n     <use xlink:href=\"#m89f34270b3\" x=\"120.101404\" y=\"59.196709\" style=\"fill: #1f77b4; stroke: #1f77b4\"/>\n     <use xlink:href=\"#m89f34270b3\" x=\"98.652681\" y=\"61.748122\" style=\"fill: #1f77b4; stroke: #1f77b4\"/>\n     <use xlink:href=\"#m89f34270b3\" x=\"90.262555\" y=\"61.79136\" style=\"fill: #1f77b4; stroke: #1f77b4\"/>\n     <use xlink:href=\"#m89f34270b3\" x=\"163.485506\" y=\"97.586353\" style=\"fill: #1f77b4; stroke: #1f77b4\"/>\n     <use xlink:href=\"#m89f34270b3\" x=\"108.687669\" y=\"67.597287\" style=\"fill: #1f77b4; stroke: #1f77b4\"/>\n     <use xlink:href=\"#m89f34270b3\" x=\"133.047348\" y=\"69.161643\" style=\"fill: #1f77b4; stroke: #1f77b4\"/>\n     <use xlink:href=\"#m89f34270b3\" x=\"131.588107\" y=\"75.95368\" style=\"fill: #1f77b4; stroke: #1f77b4\"/>\n     <use xlink:href=\"#m89f34270b3\" x=\"115.241342\" y=\"55.577007\" style=\"fill: #1f77b4; stroke: #1f77b4\"/>\n     <use xlink:href=\"#m89f34270b3\" x=\"152.502396\" y=\"72.01737\" style=\"fill: #1f77b4; stroke: #1f77b4\"/>\n     <use xlink:href=\"#m89f34270b3\" x=\"127.886388\" y=\"73.167457\" style=\"fill: #1f77b4; stroke: #1f77b4\"/>\n     <use xlink:href=\"#m89f34270b3\" x=\"154.050215\" y=\"76.348612\" style=\"fill: #1f77b4; stroke: #1f77b4\"/>\n     <use xlink:href=\"#m89f34270b3\" x=\"111.050312\" y=\"67.461377\" style=\"fill: #1f77b4; stroke: #1f77b4\"/>\n     <use xlink:href=\"#m89f34270b3\" x=\"100.150009\" y=\"50.558912\" style=\"fill: #1f77b4; stroke: #1f77b4\"/>\n     <use xlink:href=\"#m89f34270b3\" x=\"136.622174\" y=\"65.770876\" style=\"fill: #1f77b4; stroke: #1f77b4\"/>\n     <use xlink:href=\"#m89f34270b3\" x=\"180.786955\" y=\"92.442978\" style=\"fill: #1f77b4; stroke: #1f77b4\"/>\n     <use xlink:href=\"#m89f34270b3\" x=\"124.930359\" y=\"69.619333\" style=\"fill: #1f77b4; stroke: #1f77b4\"/>\n     <use xlink:href=\"#m89f34270b3\" x=\"150.170602\" y=\"66.6509\" style=\"fill: #1f77b4; stroke: #1f77b4\"/>\n     <use xlink:href=\"#m89f34270b3\" x=\"200.710299\" y=\"139.5\" style=\"fill: #1f77b4; stroke: #1f77b4\"/>\n     <use xlink:href=\"#m89f34270b3\" x=\"139.430721\" y=\"77.052574\" style=\"fill: #1f77b4; stroke: #1f77b4\"/>\n     <use xlink:href=\"#m89f34270b3\" x=\"104.338924\" y=\"80.235698\" style=\"fill: #1f77b4; stroke: #1f77b4\"/>\n     <use xlink:href=\"#m89f34270b3\" x=\"150.292213\" y=\"66.404121\" style=\"fill: #1f77b4; stroke: #1f77b4\"/>\n     <use xlink:href=\"#m89f34270b3\" x=\"92.90453\" y=\"59.052161\" style=\"fill: #1f77b4; stroke: #1f77b4\"/>\n     <use xlink:href=\"#m89f34270b3\" x=\"139.572871\" y=\"87.271298\" style=\"fill: #1f77b4; stroke: #1f77b4\"/>\n     <use xlink:href=\"#m89f34270b3\" x=\"160.889316\" y=\"92.789422\" style=\"fill: #1f77b4; stroke: #1f77b4\"/>\n     <use xlink:href=\"#m89f34270b3\" x=\"139.738881\" y=\"76.405988\" style=\"fill: #1f77b4; stroke: #1f77b4\"/>\n     <use xlink:href=\"#m89f34270b3\" x=\"157.042195\" y=\"98.124973\" style=\"fill: #1f77b4; stroke: #1f77b4\"/>\n     <use xlink:href=\"#m89f34270b3\" x=\"95.799833\" y=\"68.405684\" style=\"fill: #1f77b4; stroke: #1f77b4\"/>\n     <use xlink:href=\"#m89f34270b3\" x=\"188.471423\" y=\"112.00943\" style=\"fill: #1f77b4; stroke: #1f77b4\"/>\n     <use xlink:href=\"#m89f34270b3\" x=\"112.404297\" y=\"59.964314\" style=\"fill: #1f77b4; stroke: #1f77b4\"/>\n     <use xlink:href=\"#m89f34270b3\" x=\"113.871144\" y=\"56.738827\" style=\"fill: #1f77b4; stroke: #1f77b4\"/>\n     <use xlink:href=\"#m89f34270b3\" x=\"133.474341\" y=\"62.521454\" style=\"fill: #1f77b4; stroke: #1f77b4\"/>\n     <use xlink:href=\"#m89f34270b3\" x=\"147.43371\" y=\"80.965727\" style=\"fill: #1f77b4; stroke: #1f77b4\"/>\n     <use xlink:href=\"#m89f34270b3\" x=\"185.008045\" y=\"115.268371\" style=\"fill: #1f77b4; stroke: #1f77b4\"/>\n     <use xlink:href=\"#m89f34270b3\" x=\"127.646047\" y=\"66.082951\" style=\"fill: #1f77b4; stroke: #1f77b4\"/>\n     <use xlink:href=\"#m89f34270b3\" x=\"102.24754\" y=\"53.082151\" style=\"fill: #1f77b4; stroke: #1f77b4\"/>\n     <use xlink:href=\"#m89f34270b3\" x=\"131.116907\" y=\"79.405281\" style=\"fill: #1f77b4; stroke: #1f77b4\"/>\n     <use xlink:href=\"#m89f34270b3\" x=\"155.02127\" y=\"88.912586\" style=\"fill: #1f77b4; stroke: #1f77b4\"/>\n     <use xlink:href=\"#m89f34270b3\" x=\"104.161736\" y=\"64.603996\" style=\"fill: #1f77b4; stroke: #1f77b4\"/>\n     <use xlink:href=\"#m89f34270b3\" x=\"124.434926\" y=\"68.704226\" style=\"fill: #1f77b4; stroke: #1f77b4\"/>\n     <use xlink:href=\"#m89f34270b3\" x=\"147.916097\" y=\"88.43879\" style=\"fill: #1f77b4; stroke: #1f77b4\"/>\n     <use xlink:href=\"#m89f34270b3\" x=\"118.195554\" y=\"70.15827\" style=\"fill: #1f77b4; stroke: #1f77b4\"/>\n     <use xlink:href=\"#m89f34270b3\" x=\"98.66421\" y=\"36.12113\" style=\"fill: #1f77b4; stroke: #1f77b4\"/>\n     <use xlink:href=\"#m89f34270b3\" x=\"158.437328\" y=\"92.279549\" style=\"fill: #1f77b4; stroke: #1f77b4\"/>\n     <use xlink:href=\"#m89f34270b3\" x=\"186.622673\" y=\"96.161434\" style=\"fill: #1f77b4; stroke: #1f77b4\"/>\n     <use xlink:href=\"#m89f34270b3\" x=\"135.633246\" y=\"79.07441\" style=\"fill: #1f77b4; stroke: #1f77b4\"/>\n     <use xlink:href=\"#m89f34270b3\" x=\"179.539652\" y=\"103.138352\" style=\"fill: #1f77b4; stroke: #1f77b4\"/>\n     <use xlink:href=\"#m89f34270b3\" x=\"182.617752\" y=\"90.556919\" style=\"fill: #1f77b4; stroke: #1f77b4\"/>\n     <use xlink:href=\"#m89f34270b3\" x=\"108.890611\" y=\"49.406204\" style=\"fill: #1f77b4; stroke: #1f77b4\"/>\n     <use xlink:href=\"#m89f34270b3\" x=\"74.24012\" y=\"45.211642\" style=\"fill: #1f77b4; stroke: #1f77b4\"/>\n     <use xlink:href=\"#m89f34270b3\" x=\"149.015261\" y=\"76.698806\" style=\"fill: #1f77b4; stroke: #1f77b4\"/>\n     <use xlink:href=\"#m89f34270b3\" x=\"147.731616\" y=\"94.119205\" style=\"fill: #1f77b4; stroke: #1f77b4\"/>\n     <use xlink:href=\"#m89f34270b3\" x=\"126.966865\" y=\"69.405253\" style=\"fill: #1f77b4; stroke: #1f77b4\"/>\n     <use xlink:href=\"#m89f34270b3\" x=\"106.64915\" y=\"68.058238\" style=\"fill: #1f77b4; stroke: #1f77b4\"/>\n     <use xlink:href=\"#m89f34270b3\" x=\"114.309769\" y=\"62.888363\" style=\"fill: #1f77b4; stroke: #1f77b4\"/>\n     <use xlink:href=\"#m89f34270b3\" x=\"134.481331\" y=\"73.004282\" style=\"fill: #1f77b4; stroke: #1f77b4\"/>\n     <use xlink:href=\"#m89f34270b3\" x=\"155.024677\" y=\"67.264457\" style=\"fill: #1f77b4; stroke: #1f77b4\"/>\n     <use xlink:href=\"#m89f34270b3\" x=\"108.794759\" y=\"68.8427\" style=\"fill: #1f77b4; stroke: #1f77b4\"/>\n     <use xlink:href=\"#m89f34270b3\" x=\"144.341644\" y=\"77.577203\" style=\"fill: #1f77b4; stroke: #1f77b4\"/>\n     <use xlink:href=\"#m89f34270b3\" x=\"92.3694\" y=\"40.994563\" style=\"fill: #1f77b4; stroke: #1f77b4\"/>\n     <use xlink:href=\"#m89f34270b3\" x=\"144.139857\" y=\"93.181104\" style=\"fill: #1f77b4; stroke: #1f77b4\"/>\n     <use xlink:href=\"#m89f34270b3\" x=\"124.314518\" y=\"59.260376\" style=\"fill: #1f77b4; stroke: #1f77b4\"/>\n     <use xlink:href=\"#m89f34270b3\" x=\"148.655134\" y=\"78.668535\" style=\"fill: #1f77b4; stroke: #1f77b4\"/>\n     <use xlink:href=\"#m89f34270b3\" x=\"127.75385\" y=\"84.141776\" style=\"fill: #1f77b4; stroke: #1f77b4\"/>\n     <use xlink:href=\"#m89f34270b3\" x=\"172.175338\" y=\"98.141481\" style=\"fill: #1f77b4; stroke: #1f77b4\"/>\n     <use xlink:href=\"#m89f34270b3\" x=\"177.952118\" y=\"87.161504\" style=\"fill: #1f77b4; stroke: #1f77b4\"/>\n     <use xlink:href=\"#m89f34270b3\" x=\"101.797067\" y=\"42.206273\" style=\"fill: #1f77b4; stroke: #1f77b4\"/>\n     <use xlink:href=\"#m89f34270b3\" x=\"173.596128\" y=\"88.095912\" style=\"fill: #1f77b4; stroke: #1f77b4\"/>\n     <use xlink:href=\"#m89f34270b3\" x=\"129.275265\" y=\"59.124028\" style=\"fill: #1f77b4; stroke: #1f77b4\"/>\n     <use xlink:href=\"#m89f34270b3\" x=\"189.787472\" y=\"107.111785\" style=\"fill: #1f77b4; stroke: #1f77b4\"/>\n     <use xlink:href=\"#m89f34270b3\" x=\"145.188014\" y=\"87.250977\" style=\"fill: #1f77b4; stroke: #1f77b4\"/>\n     <use xlink:href=\"#m89f34270b3\" x=\"221.727415\" y=\"127.967258\" style=\"fill: #1f77b4; stroke: #1f77b4\"/>\n     <use xlink:href=\"#m89f34270b3\" x=\"60.778853\" y=\"13.5\" style=\"fill: #1f77b4; stroke: #1f77b4\"/>\n     <use xlink:href=\"#m89f34270b3\" x=\"162.427433\" y=\"90.036793\" style=\"fill: #1f77b4; stroke: #1f77b4\"/>\n     <use xlink:href=\"#m89f34270b3\" x=\"82.476366\" y=\"50.931356\" style=\"fill: #1f77b4; stroke: #1f77b4\"/>\n     <use xlink:href=\"#m89f34270b3\" x=\"173.172874\" y=\"90.945508\" style=\"fill: #1f77b4; stroke: #1f77b4\"/>\n     <use xlink:href=\"#m89f34270b3\" x=\"123.70087\" y=\"51.608288\" style=\"fill: #1f77b4; stroke: #1f77b4\"/>\n     <use xlink:href=\"#m89f34270b3\" x=\"183.025851\" y=\"111.39779\" style=\"fill: #1f77b4; stroke: #1f77b4\"/>\n     <use xlink:href=\"#m89f34270b3\" x=\"146.1042\" y=\"88.158545\" style=\"fill: #1f77b4; stroke: #1f77b4\"/>\n     <use xlink:href=\"#m89f34270b3\" x=\"136.320881\" y=\"69.569302\" style=\"fill: #1f77b4; stroke: #1f77b4\"/>\n     <use xlink:href=\"#m89f34270b3\" x=\"111.657165\" y=\"56.331406\" style=\"fill: #1f77b4; stroke: #1f77b4\"/>\n     <use xlink:href=\"#m89f34270b3\" x=\"87.348567\" y=\"37.743846\" style=\"fill: #1f77b4; stroke: #1f77b4\"/>\n     <use xlink:href=\"#m89f34270b3\" x=\"112.631752\" y=\"65.765519\" style=\"fill: #1f77b4; stroke: #1f77b4\"/>\n     <use xlink:href=\"#m89f34270b3\" x=\"171.389611\" y=\"83.916633\" style=\"fill: #1f77b4; stroke: #1f77b4\"/>\n     <use xlink:href=\"#m89f34270b3\" x=\"141.62793\" y=\"78.780112\" style=\"fill: #1f77b4; stroke: #1f77b4\"/>\n     <use xlink:href=\"#m89f34270b3\" x=\"163.55723\" y=\"83.570689\" style=\"fill: #1f77b4; stroke: #1f77b4\"/>\n     <use xlink:href=\"#m89f34270b3\" x=\"95.274596\" y=\"66.390932\" style=\"fill: #1f77b4; stroke: #1f77b4\"/>\n     <use xlink:href=\"#m89f34270b3\" x=\"133.688333\" y=\"64.55738\" style=\"fill: #1f77b4; stroke: #1f77b4\"/>\n     <use xlink:href=\"#m89f34270b3\" x=\"148.745523\" y=\"74.936986\" style=\"fill: #1f77b4; stroke: #1f77b4\"/>\n     <use xlink:href=\"#m89f34270b3\" x=\"149.78974\" y=\"83.176865\" style=\"fill: #1f77b4; stroke: #1f77b4\"/>\n     <use xlink:href=\"#m89f34270b3\" x=\"114.705553\" y=\"59.761203\" style=\"fill: #1f77b4; stroke: #1f77b4\"/>\n     <use xlink:href=\"#m89f34270b3\" x=\"67.513657\" y=\"25.963551\" style=\"fill: #1f77b4; stroke: #1f77b4\"/>\n     <use xlink:href=\"#m89f34270b3\" x=\"120.528261\" y=\"70.797944\" style=\"fill: #1f77b4; stroke: #1f77b4\"/>\n     <use xlink:href=\"#m89f34270b3\" x=\"133.40652\" y=\"68.357407\" style=\"fill: #1f77b4; stroke: #1f77b4\"/>\n     <use xlink:href=\"#m89f34270b3\" x=\"82.865259\" y=\"47.883374\" style=\"fill: #1f77b4; stroke: #1f77b4\"/>\n     <use xlink:href=\"#m89f34270b3\" x=\"112.254707\" y=\"48.182007\" style=\"fill: #1f77b4; stroke: #1f77b4\"/>\n     <use xlink:href=\"#m89f34270b3\" x=\"117.745125\" y=\"60.934284\" style=\"fill: #1f77b4; stroke: #1f77b4\"/>\n     <use xlink:href=\"#m89f34270b3\" x=\"137.815757\" y=\"77.157853\" style=\"fill: #1f77b4; stroke: #1f77b4\"/>\n     <use xlink:href=\"#m89f34270b3\" x=\"166.573776\" y=\"97.942005\" style=\"fill: #1f77b4; stroke: #1f77b4\"/>\n     <use xlink:href=\"#m89f34270b3\" x=\"135.701344\" y=\"66.904965\" style=\"fill: #1f77b4; stroke: #1f77b4\"/>\n     <use xlink:href=\"#m89f34270b3\" x=\"110.633443\" y=\"69.452792\" style=\"fill: #1f77b4; stroke: #1f77b4\"/>\n     <use xlink:href=\"#m89f34270b3\" x=\"114.22058\" y=\"70.174788\" style=\"fill: #1f77b4; stroke: #1f77b4\"/>\n     <use xlink:href=\"#m89f34270b3\" x=\"207.140419\" y=\"113.030683\" style=\"fill: #1f77b4; stroke: #1f77b4\"/>\n     <use xlink:href=\"#m89f34270b3\" x=\"128.536459\" y=\"68.251943\" style=\"fill: #1f77b4; stroke: #1f77b4\"/>\n     <use xlink:href=\"#m89f34270b3\" x=\"114.088107\" y=\"65.004827\" style=\"fill: #1f77b4; stroke: #1f77b4\"/>\n     <use xlink:href=\"#m89f34270b3\" x=\"130.949699\" y=\"52.213372\" style=\"fill: #1f77b4; stroke: #1f77b4\"/>\n     <use xlink:href=\"#m89f34270b3\" x=\"136.567832\" y=\"64.823912\" style=\"fill: #1f77b4; stroke: #1f77b4\"/>\n     <use xlink:href=\"#m89f34270b3\" x=\"143.457212\" y=\"96.246238\" style=\"fill: #1f77b4; stroke: #1f77b4\"/>\n     <use xlink:href=\"#m89f34270b3\" x=\"156.139316\" y=\"93.752691\" style=\"fill: #1f77b4; stroke: #1f77b4\"/>\n     <use xlink:href=\"#m89f34270b3\" x=\"108.619219\" y=\"53.553552\" style=\"fill: #1f77b4; stroke: #1f77b4\"/>\n     <use xlink:href=\"#m89f34270b3\" x=\"80.740525\" y=\"55.135184\" style=\"fill: #1f77b4; stroke: #1f77b4\"/>\n     <use xlink:href=\"#m89f34270b3\" x=\"144.216323\" y=\"83.244399\" style=\"fill: #1f77b4; stroke: #1f77b4\"/>\n     <use xlink:href=\"#m89f34270b3\" x=\"142.028394\" y=\"65.072904\" style=\"fill: #1f77b4; stroke: #1f77b4\"/>\n     <use xlink:href=\"#m89f34270b3\" x=\"131.884164\" y=\"73.013966\" style=\"fill: #1f77b4; stroke: #1f77b4\"/>\n     <use xlink:href=\"#m89f34270b3\" x=\"146.093064\" y=\"100.291915\" style=\"fill: #1f77b4; stroke: #1f77b4\"/>\n     <use xlink:href=\"#m89f34270b3\" x=\"121.649357\" y=\"90.005914\" style=\"fill: #1f77b4; stroke: #1f77b4\"/>\n     <use xlink:href=\"#m89f34270b3\" x=\"155.388619\" y=\"90.040986\" style=\"fill: #1f77b4; stroke: #1f77b4\"/>\n     <use xlink:href=\"#m89f34270b3\" x=\"133.504957\" y=\"72.988008\" style=\"fill: #1f77b4; stroke: #1f77b4\"/>\n     <use xlink:href=\"#m89f34270b3\" x=\"138.203628\" y=\"69.41123\" style=\"fill: #1f77b4; stroke: #1f77b4\"/>\n     <use xlink:href=\"#m89f34270b3\" x=\"110.044642\" y=\"58.683804\" style=\"fill: #1f77b4; stroke: #1f77b4\"/>\n     <use xlink:href=\"#m89f34270b3\" x=\"178.816139\" y=\"112.485936\" style=\"fill: #1f77b4; stroke: #1f77b4\"/>\n     <use xlink:href=\"#m89f34270b3\" x=\"137.347085\" y=\"57.667396\" style=\"fill: #1f77b4; stroke: #1f77b4\"/>\n     <use xlink:href=\"#m89f34270b3\" x=\"190.345464\" y=\"119.216649\" style=\"fill: #1f77b4; stroke: #1f77b4\"/>\n     <use xlink:href=\"#m89f34270b3\" x=\"103.94686\" y=\"62.362402\" style=\"fill: #1f77b4; stroke: #1f77b4\"/>\n     <use xlink:href=\"#m89f34270b3\" x=\"143.355338\" y=\"70.945805\" style=\"fill: #1f77b4; stroke: #1f77b4\"/>\n     <use xlink:href=\"#m89f34270b3\" x=\"141.003755\" y=\"79.433759\" style=\"fill: #1f77b4; stroke: #1f77b4\"/>\n     <use xlink:href=\"#m89f34270b3\" x=\"200.402552\" y=\"104.111968\" style=\"fill: #1f77b4; stroke: #1f77b4\"/>\n     <use xlink:href=\"#m89f34270b3\" x=\"191.704653\" y=\"106.048085\" style=\"fill: #1f77b4; stroke: #1f77b4\"/>\n     <use xlink:href=\"#m89f34270b3\" x=\"115.624291\" y=\"66.134101\" style=\"fill: #1f77b4; stroke: #1f77b4\"/>\n     <use xlink:href=\"#m89f34270b3\" x=\"126.26305\" y=\"72.311225\" style=\"fill: #1f77b4; stroke: #1f77b4\"/>\n     <use xlink:href=\"#m89f34270b3\" x=\"127.806263\" y=\"92.926723\" style=\"fill: #1f77b4; stroke: #1f77b4\"/>\n     <use xlink:href=\"#m89f34270b3\" x=\"59.599188\" y=\"33.965609\" style=\"fill: #1f77b4; stroke: #1f77b4\"/>\n     <use xlink:href=\"#m89f34270b3\" x=\"137.830046\" y=\"90.061159\" style=\"fill: #1f77b4; stroke: #1f77b4\"/>\n     <use xlink:href=\"#m89f34270b3\" x=\"170.43865\" y=\"79.669541\" style=\"fill: #1f77b4; stroke: #1f77b4\"/>\n     <use xlink:href=\"#m89f34270b3\" x=\"130.390684\" y=\"76.759567\" style=\"fill: #1f77b4; stroke: #1f77b4\"/>\n     <use xlink:href=\"#m89f34270b3\" x=\"167.97498\" y=\"110.796607\" style=\"fill: #1f77b4; stroke: #1f77b4\"/>\n     <use xlink:href=\"#m89f34270b3\" x=\"142.408944\" y=\"88.094611\" style=\"fill: #1f77b4; stroke: #1f77b4\"/>\n     <use xlink:href=\"#m89f34270b3\" x=\"80.544556\" y=\"31.404622\" style=\"fill: #1f77b4; stroke: #1f77b4\"/>\n     <use xlink:href=\"#m89f34270b3\" x=\"145.849129\" y=\"72.018522\" style=\"fill: #1f77b4; stroke: #1f77b4\"/>\n     <use xlink:href=\"#m89f34270b3\" x=\"165.843954\" y=\"87.292808\" style=\"fill: #1f77b4; stroke: #1f77b4\"/>\n     <use xlink:href=\"#m89f34270b3\" x=\"133.968101\" y=\"71.227668\" style=\"fill: #1f77b4; stroke: #1f77b4\"/>\n     <use xlink:href=\"#m89f34270b3\" x=\"163.277268\" y=\"90.437974\" style=\"fill: #1f77b4; stroke: #1f77b4\"/>\n     <use xlink:href=\"#m89f34270b3\" x=\"125.081202\" y=\"63.095357\" style=\"fill: #1f77b4; stroke: #1f77b4\"/>\n     <use xlink:href=\"#m89f34270b3\" x=\"118.114051\" y=\"61.655632\" style=\"fill: #1f77b4; stroke: #1f77b4\"/>\n     <use xlink:href=\"#m89f34270b3\" x=\"103.683678\" y=\"62.684132\" style=\"fill: #1f77b4; stroke: #1f77b4\"/>\n     <use xlink:href=\"#m89f34270b3\" x=\"135.237678\" y=\"72.86333\" style=\"fill: #1f77b4; stroke: #1f77b4\"/>\n     <use xlink:href=\"#m89f34270b3\" x=\"166.620216\" y=\"113.156014\" style=\"fill: #1f77b4; stroke: #1f77b4\"/>\n     <use xlink:href=\"#m89f34270b3\" x=\"165.948139\" y=\"87.826117\" style=\"fill: #1f77b4; stroke: #1f77b4\"/>\n     <use xlink:href=\"#m89f34270b3\" x=\"123.506805\" y=\"63.759855\" style=\"fill: #1f77b4; stroke: #1f77b4\"/>\n     <use xlink:href=\"#m89f34270b3\" x=\"155.45037\" y=\"72.550394\" style=\"fill: #1f77b4; stroke: #1f77b4\"/>\n     <use xlink:href=\"#m89f34270b3\" x=\"138.891414\" y=\"77.991043\" style=\"fill: #1f77b4; stroke: #1f77b4\"/>\n     <use xlink:href=\"#m89f34270b3\" x=\"106.123022\" y=\"47.475069\" style=\"fill: #1f77b4; stroke: #1f77b4\"/>\n     <use xlink:href=\"#m89f34270b3\" x=\"130.7928\" y=\"68.074615\" style=\"fill: #1f77b4; stroke: #1f77b4\"/>\n     <use xlink:href=\"#m89f34270b3\" x=\"126.834531\" y=\"44.101197\" style=\"fill: #1f77b4; stroke: #1f77b4\"/>\n     <use xlink:href=\"#m89f34270b3\" x=\"134.326096\" y=\"65.49857\" style=\"fill: #1f77b4; stroke: #1f77b4\"/>\n     <use xlink:href=\"#m89f34270b3\" x=\"151.043484\" y=\"78.6812\" style=\"fill: #1f77b4; stroke: #1f77b4\"/>\n     <use xlink:href=\"#m89f34270b3\" x=\"126.11908\" y=\"68.708602\" style=\"fill: #1f77b4; stroke: #1f77b4\"/>\n     <use xlink:href=\"#m89f34270b3\" x=\"119.601395\" y=\"64.477556\" style=\"fill: #1f77b4; stroke: #1f77b4\"/>\n     <use xlink:href=\"#m89f34270b3\" x=\"182.885212\" y=\"104.202659\" style=\"fill: #1f77b4; stroke: #1f77b4\"/>\n     <use xlink:href=\"#m89f34270b3\" x=\"114.602451\" y=\"63.621888\" style=\"fill: #1f77b4; stroke: #1f77b4\"/>\n     <use xlink:href=\"#m89f34270b3\" x=\"137.352087\" y=\"79.270393\" style=\"fill: #1f77b4; stroke: #1f77b4\"/>\n     <use xlink:href=\"#m89f34270b3\" x=\"127.543845\" y=\"62.459566\" style=\"fill: #1f77b4; stroke: #1f77b4\"/>\n     <use xlink:href=\"#m89f34270b3\" x=\"121.205032\" y=\"78.536815\" style=\"fill: #1f77b4; stroke: #1f77b4\"/>\n     <use xlink:href=\"#m89f34270b3\" x=\"114.059034\" y=\"64.577128\" style=\"fill: #1f77b4; stroke: #1f77b4\"/>\n     <use xlink:href=\"#m89f34270b3\" x=\"194.67766\" y=\"115.989885\" style=\"fill: #1f77b4; stroke: #1f77b4\"/>\n     <use xlink:href=\"#m89f34270b3\" x=\"119.073098\" y=\"60.301442\" style=\"fill: #1f77b4; stroke: #1f77b4\"/>\n     <use xlink:href=\"#m89f34270b3\" x=\"119.738831\" y=\"77.799108\" style=\"fill: #1f77b4; stroke: #1f77b4\"/>\n     <use xlink:href=\"#m89f34270b3\" x=\"86.866876\" y=\"29.185833\" style=\"fill: #1f77b4; stroke: #1f77b4\"/>\n     <use xlink:href=\"#m89f34270b3\" x=\"70.358252\" y=\"49.396863\" style=\"fill: #1f77b4; stroke: #1f77b4\"/>\n     <use xlink:href=\"#m89f34270b3\" x=\"122.422475\" y=\"62.155621\" style=\"fill: #1f77b4; stroke: #1f77b4\"/>\n     <use xlink:href=\"#m89f34270b3\" x=\"96.19271\" y=\"56.682217\" style=\"fill: #1f77b4; stroke: #1f77b4\"/>\n     <use xlink:href=\"#m89f34270b3\" x=\"126.539923\" y=\"66.898388\" style=\"fill: #1f77b4; stroke: #1f77b4\"/>\n     <use xlink:href=\"#m89f34270b3\" x=\"130.885196\" y=\"73.458333\" style=\"fill: #1f77b4; stroke: #1f77b4\"/>\n     <use xlink:href=\"#m89f34270b3\" x=\"110.270057\" y=\"47.251674\" style=\"fill: #1f77b4; stroke: #1f77b4\"/>\n     <use xlink:href=\"#m89f34270b3\" x=\"152.589835\" y=\"87.161391\" style=\"fill: #1f77b4; stroke: #1f77b4\"/>\n     <use xlink:href=\"#m89f34270b3\" x=\"114.980235\" y=\"61.014889\" style=\"fill: #1f77b4; stroke: #1f77b4\"/>\n     <use xlink:href=\"#m89f34270b3\" x=\"98.183058\" y=\"40.857858\" style=\"fill: #1f77b4; stroke: #1f77b4\"/>\n     <use xlink:href=\"#m89f34270b3\" x=\"153.935868\" y=\"90.664114\" style=\"fill: #1f77b4; stroke: #1f77b4\"/>\n     <use xlink:href=\"#m89f34270b3\" x=\"114.043241\" y=\"68.721141\" style=\"fill: #1f77b4; stroke: #1f77b4\"/>\n     <use xlink:href=\"#m89f34270b3\" x=\"125.452252\" y=\"61.856765\" style=\"fill: #1f77b4; stroke: #1f77b4\"/>\n     <use xlink:href=\"#m89f34270b3\" x=\"102.074925\" y=\"59.729244\" style=\"fill: #1f77b4; stroke: #1f77b4\"/>\n     <use xlink:href=\"#m89f34270b3\" x=\"145.130514\" y=\"96.076004\" style=\"fill: #1f77b4; stroke: #1f77b4\"/>\n     <use xlink:href=\"#m89f34270b3\" x=\"148.920858\" y=\"73.503843\" style=\"fill: #1f77b4; stroke: #1f77b4\"/>\n     <use xlink:href=\"#m89f34270b3\" x=\"139.123295\" y=\"77.506647\" style=\"fill: #1f77b4; stroke: #1f77b4\"/>\n     <use xlink:href=\"#m89f34270b3\" x=\"171.870238\" y=\"103.621953\" style=\"fill: #1f77b4; stroke: #1f77b4\"/>\n     <use xlink:href=\"#m89f34270b3\" x=\"150.473219\" y=\"80.40852\" style=\"fill: #1f77b4; stroke: #1f77b4\"/>\n     <use xlink:href=\"#m89f34270b3\" x=\"95.170188\" y=\"31.542825\" style=\"fill: #1f77b4; stroke: #1f77b4\"/>\n     <use xlink:href=\"#m89f34270b3\" x=\"127.036141\" y=\"55.991106\" style=\"fill: #1f77b4; stroke: #1f77b4\"/>\n     <use xlink:href=\"#m89f34270b3\" x=\"165.067812\" y=\"83.700169\" style=\"fill: #1f77b4; stroke: #1f77b4\"/>\n     <use xlink:href=\"#m89f34270b3\" x=\"189.640697\" y=\"105.411199\" style=\"fill: #1f77b4; stroke: #1f77b4\"/>\n     <use xlink:href=\"#m89f34270b3\" x=\"167.614885\" y=\"97.151583\" style=\"fill: #1f77b4; stroke: #1f77b4\"/>\n     <use xlink:href=\"#m89f34270b3\" x=\"136.031358\" y=\"76.349463\" style=\"fill: #1f77b4; stroke: #1f77b4\"/>\n     <use xlink:href=\"#m89f34270b3\" x=\"66.72341\" y=\"22.469626\" style=\"fill: #1f77b4; stroke: #1f77b4\"/>\n     <use xlink:href=\"#m89f34270b3\" x=\"140.752701\" y=\"86.981397\" style=\"fill: #1f77b4; stroke: #1f77b4\"/>\n     <use xlink:href=\"#m89f34270b3\" x=\"145.450351\" y=\"73.140446\" style=\"fill: #1f77b4; stroke: #1f77b4\"/>\n     <use xlink:href=\"#m89f34270b3\" x=\"105.557851\" y=\"68.005147\" style=\"fill: #1f77b4; stroke: #1f77b4\"/>\n     <use xlink:href=\"#m89f34270b3\" x=\"121.755976\" y=\"80.49628\" style=\"fill: #1f77b4; stroke: #1f77b4\"/>\n     <use xlink:href=\"#m89f34270b3\" x=\"115.198966\" y=\"69.069114\" style=\"fill: #1f77b4; stroke: #1f77b4\"/>\n     <use xlink:href=\"#m89f34270b3\" x=\"92.540789\" y=\"49.457473\" style=\"fill: #1f77b4; stroke: #1f77b4\"/>\n     <use xlink:href=\"#m89f34270b3\" x=\"129.4298\" y=\"70.279567\" style=\"fill: #1f77b4; stroke: #1f77b4\"/>\n     <use xlink:href=\"#m89f34270b3\" x=\"123.198293\" y=\"62.791554\" style=\"fill: #1f77b4; stroke: #1f77b4\"/>\n     <use xlink:href=\"#m89f34270b3\" x=\"125.810292\" y=\"44.643554\" style=\"fill: #1f77b4; stroke: #1f77b4\"/>\n     <use xlink:href=\"#m89f34270b3\" x=\"132.035415\" y=\"69.922091\" style=\"fill: #1f77b4; stroke: #1f77b4\"/>\n     <use xlink:href=\"#m89f34270b3\" x=\"125.107471\" y=\"63.438949\" style=\"fill: #1f77b4; stroke: #1f77b4\"/>\n     <use xlink:href=\"#m89f34270b3\" x=\"142.910594\" y=\"80.822261\" style=\"fill: #1f77b4; stroke: #1f77b4\"/>\n     <use xlink:href=\"#m89f34270b3\" x=\"107.604\" y=\"78.908938\" style=\"fill: #1f77b4; stroke: #1f77b4\"/>\n     <use xlink:href=\"#m89f34270b3\" x=\"167.077655\" y=\"96.166016\" style=\"fill: #1f77b4; stroke: #1f77b4\"/>\n     <use xlink:href=\"#m89f34270b3\" x=\"108.630166\" y=\"66.400896\" style=\"fill: #1f77b4; stroke: #1f77b4\"/>\n     <use xlink:href=\"#m89f34270b3\" x=\"168.243144\" y=\"113.285434\" style=\"fill: #1f77b4; stroke: #1f77b4\"/>\n     <use xlink:href=\"#m89f34270b3\" x=\"111.192086\" y=\"65.486909\" style=\"fill: #1f77b4; stroke: #1f77b4\"/>\n     <use xlink:href=\"#m89f34270b3\" x=\"133.892372\" y=\"78.641385\" style=\"fill: #1f77b4; stroke: #1f77b4\"/>\n     <use xlink:href=\"#m89f34270b3\" x=\"122.579489\" y=\"50.320291\" style=\"fill: #1f77b4; stroke: #1f77b4\"/>\n     <use xlink:href=\"#m89f34270b3\" x=\"140.509528\" y=\"67.258908\" style=\"fill: #1f77b4; stroke: #1f77b4\"/>\n     <use xlink:href=\"#m89f34270b3\" x=\"71.863762\" y=\"24.808415\" style=\"fill: #1f77b4; stroke: #1f77b4\"/>\n     <use xlink:href=\"#m89f34270b3\" x=\"134.907782\" y=\"92.996781\" style=\"fill: #1f77b4; stroke: #1f77b4\"/>\n     <use xlink:href=\"#m89f34270b3\" x=\"93.954955\" y=\"40.391078\" style=\"fill: #1f77b4; stroke: #1f77b4\"/>\n     <use xlink:href=\"#m89f34270b3\" x=\"154.918207\" y=\"59.093433\" style=\"fill: #1f77b4; stroke: #1f77b4\"/>\n     <use xlink:href=\"#m89f34270b3\" x=\"130.886133\" y=\"88.028148\" style=\"fill: #1f77b4; stroke: #1f77b4\"/>\n     <use xlink:href=\"#m89f34270b3\" x=\"155.301494\" y=\"77.929568\" style=\"fill: #1f77b4; stroke: #1f77b4\"/>\n     <use xlink:href=\"#m89f34270b3\" x=\"119.331813\" y=\"77.289388\" style=\"fill: #1f77b4; stroke: #1f77b4\"/>\n     <use xlink:href=\"#m89f34270b3\" x=\"193.662625\" y=\"95.463673\" style=\"fill: #1f77b4; stroke: #1f77b4\"/>\n     <use xlink:href=\"#m89f34270b3\" x=\"121.215268\" y=\"62.060188\" style=\"fill: #1f77b4; stroke: #1f77b4\"/>\n     <use xlink:href=\"#m89f34270b3\" x=\"100.227208\" y=\"37.608778\" style=\"fill: #1f77b4; stroke: #1f77b4\"/>\n     <use xlink:href=\"#m89f34270b3\" x=\"116.090723\" y=\"62.090055\" style=\"fill: #1f77b4; stroke: #1f77b4\"/>\n     <use xlink:href=\"#m89f34270b3\" x=\"157.476154\" y=\"79.140754\" style=\"fill: #1f77b4; stroke: #1f77b4\"/>\n     <use xlink:href=\"#m89f34270b3\" x=\"139.222163\" y=\"88.888952\" style=\"fill: #1f77b4; stroke: #1f77b4\"/>\n     <use xlink:href=\"#m89f34270b3\" x=\"156.417468\" y=\"87.902505\" style=\"fill: #1f77b4; stroke: #1f77b4\"/>\n     <use xlink:href=\"#m89f34270b3\" x=\"120.252916\" y=\"72.420136\" style=\"fill: #1f77b4; stroke: #1f77b4\"/>\n     <use xlink:href=\"#m89f34270b3\" x=\"105.521647\" y=\"58.00737\" style=\"fill: #1f77b4; stroke: #1f77b4\"/>\n     <use xlink:href=\"#m89f34270b3\" x=\"102.915372\" y=\"43.954399\" style=\"fill: #1f77b4; stroke: #1f77b4\"/>\n     <use xlink:href=\"#m89f34270b3\" x=\"149.421748\" y=\"80.764102\" style=\"fill: #1f77b4; stroke: #1f77b4\"/>\n     <use xlink:href=\"#m89f34270b3\" x=\"147.97175\" y=\"51.606765\" style=\"fill: #1f77b4; stroke: #1f77b4\"/>\n     <use xlink:href=\"#m89f34270b3\" x=\"163.991668\" y=\"97.796565\" style=\"fill: #1f77b4; stroke: #1f77b4\"/>\n     <use xlink:href=\"#m89f34270b3\" x=\"150.339735\" y=\"71.731342\" style=\"fill: #1f77b4; stroke: #1f77b4\"/>\n     <use xlink:href=\"#m89f34270b3\" x=\"139.235354\" y=\"70.332732\" style=\"fill: #1f77b4; stroke: #1f77b4\"/>\n     <use xlink:href=\"#m89f34270b3\" x=\"136.853221\" y=\"76.859195\" style=\"fill: #1f77b4; stroke: #1f77b4\"/>\n     <use xlink:href=\"#m89f34270b3\" x=\"106.56518\" y=\"49.219331\" style=\"fill: #1f77b4; stroke: #1f77b4\"/>\n     <use xlink:href=\"#m89f34270b3\" x=\"102.049931\" y=\"53.449347\" style=\"fill: #1f77b4; stroke: #1f77b4\"/>\n     <use xlink:href=\"#m89f34270b3\" x=\"153.38562\" y=\"94.961658\" style=\"fill: #1f77b4; stroke: #1f77b4\"/>\n     <use xlink:href=\"#m89f34270b3\" x=\"160.744855\" y=\"88.088869\" style=\"fill: #1f77b4; stroke: #1f77b4\"/>\n     <use xlink:href=\"#m89f34270b3\" x=\"111.023961\" y=\"53.455777\" style=\"fill: #1f77b4; stroke: #1f77b4\"/>\n     <use xlink:href=\"#m89f34270b3\" x=\"98.099425\" y=\"48.105788\" style=\"fill: #1f77b4; stroke: #1f77b4\"/>\n     <use xlink:href=\"#m89f34270b3\" x=\"142.012052\" y=\"72.178101\" style=\"fill: #1f77b4; stroke: #1f77b4\"/>\n     <use xlink:href=\"#m89f34270b3\" x=\"77.602\" y=\"46.68688\" style=\"fill: #1f77b4; stroke: #1f77b4\"/>\n     <use xlink:href=\"#m89f34270b3\" x=\"145.465709\" y=\"94.399161\" style=\"fill: #1f77b4; stroke: #1f77b4\"/>\n     <use xlink:href=\"#m89f34270b3\" x=\"123.659956\" y=\"72.036725\" style=\"fill: #1f77b4; stroke: #1f77b4\"/>\n     <use xlink:href=\"#m89f34270b3\" x=\"189.482978\" y=\"103.257586\" style=\"fill: #1f77b4; stroke: #1f77b4\"/>\n     <use xlink:href=\"#m89f34270b3\" x=\"169.263834\" y=\"97.919168\" style=\"fill: #1f77b4; stroke: #1f77b4\"/>\n     <use xlink:href=\"#m89f34270b3\" x=\"157.204017\" y=\"110.082024\" style=\"fill: #1f77b4; stroke: #1f77b4\"/>\n     <use xlink:href=\"#m89f34270b3\" x=\"117.265249\" y=\"50.476957\" style=\"fill: #1f77b4; stroke: #1f77b4\"/>\n     <use xlink:href=\"#m89f34270b3\" x=\"125.363538\" y=\"61.331249\" style=\"fill: #1f77b4; stroke: #1f77b4\"/>\n     <use xlink:href=\"#m89f34270b3\" x=\"131.902198\" y=\"79.57316\" style=\"fill: #1f77b4; stroke: #1f77b4\"/>\n     <use xlink:href=\"#m89f34270b3\" x=\"151.408358\" y=\"85.023166\" style=\"fill: #1f77b4; stroke: #1f77b4\"/>\n     <use xlink:href=\"#m89f34270b3\" x=\"98.742294\" y=\"32.369955\" style=\"fill: #1f77b4; stroke: #1f77b4\"/>\n     <use xlink:href=\"#m89f34270b3\" x=\"100.216671\" y=\"65.524822\" style=\"fill: #1f77b4; stroke: #1f77b4\"/>\n     <use xlink:href=\"#m89f34270b3\" x=\"107.896147\" y=\"48.044957\" style=\"fill: #1f77b4; stroke: #1f77b4\"/>\n     <use xlink:href=\"#m89f34270b3\" x=\"168.564128\" y=\"87.883154\" style=\"fill: #1f77b4; stroke: #1f77b4\"/>\n     <use xlink:href=\"#m89f34270b3\" x=\"108.476359\" y=\"48.171224\" style=\"fill: #1f77b4; stroke: #1f77b4\"/>\n     <use xlink:href=\"#m89f34270b3\" x=\"166.597757\" y=\"100.178114\" style=\"fill: #1f77b4; stroke: #1f77b4\"/>\n     <use xlink:href=\"#m89f34270b3\" x=\"120.266453\" y=\"67.613296\" style=\"fill: #1f77b4; stroke: #1f77b4\"/>\n     <use xlink:href=\"#m89f34270b3\" x=\"152.467519\" y=\"89.246127\" style=\"fill: #1f77b4; stroke: #1f77b4\"/>\n     <use xlink:href=\"#m89f34270b3\" x=\"147.660604\" y=\"70.57538\" style=\"fill: #1f77b4; stroke: #1f77b4\"/>\n     <use xlink:href=\"#m89f34270b3\" x=\"102.528634\" y=\"50.498345\" style=\"fill: #1f77b4; stroke: #1f77b4\"/>\n     <use xlink:href=\"#m89f34270b3\" x=\"142.68597\" y=\"80.742138\" style=\"fill: #1f77b4; stroke: #1f77b4\"/>\n     <use xlink:href=\"#m89f34270b3\" x=\"133.390371\" y=\"77.109591\" style=\"fill: #1f77b4; stroke: #1f77b4\"/>\n     <use xlink:href=\"#m89f34270b3\" x=\"155.668487\" y=\"81.216733\" style=\"fill: #1f77b4; stroke: #1f77b4\"/>\n     <use xlink:href=\"#m89f34270b3\" x=\"151.8948\" y=\"77.915393\" style=\"fill: #1f77b4; stroke: #1f77b4\"/>\n     <use xlink:href=\"#m89f34270b3\" x=\"138.014446\" y=\"87.180046\" style=\"fill: #1f77b4; stroke: #1f77b4\"/>\n     <use xlink:href=\"#m89f34270b3\" x=\"150.360036\" y=\"83.138368\" style=\"fill: #1f77b4; stroke: #1f77b4\"/>\n     <use xlink:href=\"#m89f34270b3\" x=\"143.342014\" y=\"92.743678\" style=\"fill: #1f77b4; stroke: #1f77b4\"/>\n     <use xlink:href=\"#m89f34270b3\" x=\"121.228366\" y=\"77.98676\" style=\"fill: #1f77b4; stroke: #1f77b4\"/>\n     <use xlink:href=\"#m89f34270b3\" x=\"190.563042\" y=\"111.42043\" style=\"fill: #1f77b4; stroke: #1f77b4\"/>\n     <use xlink:href=\"#m89f34270b3\" x=\"106.877507\" y=\"54.149333\" style=\"fill: #1f77b4; stroke: #1f77b4\"/>\n     <use xlink:href=\"#m89f34270b3\" x=\"148.745142\" y=\"85.236188\" style=\"fill: #1f77b4; stroke: #1f77b4\"/>\n     <use xlink:href=\"#m89f34270b3\" x=\"125.823027\" y=\"75.623816\" style=\"fill: #1f77b4; stroke: #1f77b4\"/>\n     <use xlink:href=\"#m89f34270b3\" x=\"122.260921\" y=\"48.944729\" style=\"fill: #1f77b4; stroke: #1f77b4\"/>\n     <use xlink:href=\"#m89f34270b3\" x=\"166.843526\" y=\"88.231905\" style=\"fill: #1f77b4; stroke: #1f77b4\"/>\n     <use xlink:href=\"#m89f34270b3\" x=\"106.422026\" y=\"80.999341\" style=\"fill: #1f77b4; stroke: #1f77b4\"/>\n     <use xlink:href=\"#m89f34270b3\" x=\"147.561836\" y=\"73.899362\" style=\"fill: #1f77b4; stroke: #1f77b4\"/>\n     <use xlink:href=\"#m89f34270b3\" x=\"144.976603\" y=\"86.594868\" style=\"fill: #1f77b4; stroke: #1f77b4\"/>\n     <use xlink:href=\"#m89f34270b3\" x=\"176.605373\" y=\"90.234406\" style=\"fill: #1f77b4; stroke: #1f77b4\"/>\n     <use xlink:href=\"#m89f34270b3\" x=\"84.324933\" y=\"46.630253\" style=\"fill: #1f77b4; stroke: #1f77b4\"/>\n     <use xlink:href=\"#m89f34270b3\" x=\"114.153841\" y=\"74.425192\" style=\"fill: #1f77b4; stroke: #1f77b4\"/>\n     <use xlink:href=\"#m89f34270b3\" x=\"95.26469\" y=\"48.346999\" style=\"fill: #1f77b4; stroke: #1f77b4\"/>\n     <use xlink:href=\"#m89f34270b3\" x=\"140.863836\" y=\"70.341666\" style=\"fill: #1f77b4; stroke: #1f77b4\"/>\n     <use xlink:href=\"#m89f34270b3\" x=\"173.717781\" y=\"103.281793\" style=\"fill: #1f77b4; stroke: #1f77b4\"/>\n     <use xlink:href=\"#m89f34270b3\" x=\"92.806792\" y=\"68.154394\" style=\"fill: #1f77b4; stroke: #1f77b4\"/>\n     <use xlink:href=\"#m89f34270b3\" x=\"127.47314\" y=\"80.201673\" style=\"fill: #1f77b4; stroke: #1f77b4\"/>\n     <use xlink:href=\"#m89f34270b3\" x=\"98.6204\" y=\"48.018848\" style=\"fill: #1f77b4; stroke: #1f77b4\"/>\n     <use xlink:href=\"#m89f34270b3\" x=\"162.226974\" y=\"100.937289\" style=\"fill: #1f77b4; stroke: #1f77b4\"/>\n     <use xlink:href=\"#m89f34270b3\" x=\"131.837161\" y=\"72.555727\" style=\"fill: #1f77b4; stroke: #1f77b4\"/>\n     <use xlink:href=\"#m89f34270b3\" x=\"121.421539\" y=\"66.764578\" style=\"fill: #1f77b4; stroke: #1f77b4\"/>\n     <use xlink:href=\"#m89f34270b3\" x=\"175.038022\" y=\"101.713011\" style=\"fill: #1f77b4; stroke: #1f77b4\"/>\n     <use xlink:href=\"#m89f34270b3\" x=\"87.940527\" y=\"38.135829\" style=\"fill: #1f77b4; stroke: #1f77b4\"/>\n     <use xlink:href=\"#m89f34270b3\" x=\"185.894447\" y=\"85.091131\" style=\"fill: #1f77b4; stroke: #1f77b4\"/>\n     <use xlink:href=\"#m89f34270b3\" x=\"128.274399\" y=\"44.823465\" style=\"fill: #1f77b4; stroke: #1f77b4\"/>\n     <use xlink:href=\"#m89f34270b3\" x=\"134.158232\" y=\"64.988933\" style=\"fill: #1f77b4; stroke: #1f77b4\"/>\n     <use xlink:href=\"#m89f34270b3\" x=\"148.253109\" y=\"71.402547\" style=\"fill: #1f77b4; stroke: #1f77b4\"/>\n     <use xlink:href=\"#m89f34270b3\" x=\"111.576654\" y=\"72.713085\" style=\"fill: #1f77b4; stroke: #1f77b4\"/>\n     <use xlink:href=\"#m89f34270b3\" x=\"127.70826\" y=\"57.156615\" style=\"fill: #1f77b4; stroke: #1f77b4\"/>\n     <use xlink:href=\"#m89f34270b3\" x=\"165.896503\" y=\"86.766332\" style=\"fill: #1f77b4; stroke: #1f77b4\"/>\n     <use xlink:href=\"#m89f34270b3\" x=\"140.757534\" y=\"65.714953\" style=\"fill: #1f77b4; stroke: #1f77b4\"/>\n     <use xlink:href=\"#m89f34270b3\" x=\"127.438541\" y=\"75.183255\" style=\"fill: #1f77b4; stroke: #1f77b4\"/>\n     <use xlink:href=\"#m89f34270b3\" x=\"158.262889\" y=\"88.930827\" style=\"fill: #1f77b4; stroke: #1f77b4\"/>\n     <use xlink:href=\"#m89f34270b3\" x=\"131.764993\" y=\"65.499403\" style=\"fill: #1f77b4; stroke: #1f77b4\"/>\n     <use xlink:href=\"#m89f34270b3\" x=\"116.228026\" y=\"68.104262\" style=\"fill: #1f77b4; stroke: #1f77b4\"/>\n     <use xlink:href=\"#m89f34270b3\" x=\"118.178096\" y=\"53.121379\" style=\"fill: #1f77b4; stroke: #1f77b4\"/>\n     <use xlink:href=\"#m89f34270b3\" x=\"117.994567\" y=\"74.056541\" style=\"fill: #1f77b4; stroke: #1f77b4\"/>\n     <use xlink:href=\"#m89f34270b3\" x=\"150.68063\" y=\"87.269175\" style=\"fill: #1f77b4; stroke: #1f77b4\"/>\n     <use xlink:href=\"#m89f34270b3\" x=\"190.027865\" y=\"119.002573\" style=\"fill: #1f77b4; stroke: #1f77b4\"/>\n     <use xlink:href=\"#m89f34270b3\" x=\"120.309029\" y=\"74.795349\" style=\"fill: #1f77b4; stroke: #1f77b4\"/>\n     <use xlink:href=\"#m89f34270b3\" x=\"164.453735\" y=\"96.272456\" style=\"fill: #1f77b4; stroke: #1f77b4\"/>\n     <use xlink:href=\"#m89f34270b3\" x=\"175.52104\" y=\"87.252555\" style=\"fill: #1f77b4; stroke: #1f77b4\"/>\n     <use xlink:href=\"#m89f34270b3\" x=\"168.21502\" y=\"116.791545\" style=\"fill: #1f77b4; stroke: #1f77b4\"/>\n     <use xlink:href=\"#m89f34270b3\" x=\"158.999423\" y=\"98.001172\" style=\"fill: #1f77b4; stroke: #1f77b4\"/>\n     <use xlink:href=\"#m89f34270b3\" x=\"101.859352\" y=\"63.325015\" style=\"fill: #1f77b4; stroke: #1f77b4\"/>\n     <use xlink:href=\"#m89f34270b3\" x=\"164.327985\" y=\"86.405402\" style=\"fill: #1f77b4; stroke: #1f77b4\"/>\n     <use xlink:href=\"#m89f34270b3\" x=\"183.573751\" y=\"103.426415\" style=\"fill: #1f77b4; stroke: #1f77b4\"/>\n     <use xlink:href=\"#m89f34270b3\" x=\"92.556659\" y=\"48.926688\" style=\"fill: #1f77b4; stroke: #1f77b4\"/>\n     <use xlink:href=\"#m89f34270b3\" x=\"176.336538\" y=\"107.981334\" style=\"fill: #1f77b4; stroke: #1f77b4\"/>\n     <use xlink:href=\"#m89f34270b3\" x=\"120.172854\" y=\"60.578826\" style=\"fill: #1f77b4; stroke: #1f77b4\"/>\n     <use xlink:href=\"#m89f34270b3\" x=\"159.686208\" y=\"76.702629\" style=\"fill: #1f77b4; stroke: #1f77b4\"/>\n     <use xlink:href=\"#m89f34270b3\" x=\"76.244498\" y=\"52.114156\" style=\"fill: #1f77b4; stroke: #1f77b4\"/>\n     <use xlink:href=\"#m89f34270b3\" x=\"169.15479\" y=\"85.451486\" style=\"fill: #1f77b4; stroke: #1f77b4\"/>\n     <use xlink:href=\"#m89f34270b3\" x=\"180.390992\" y=\"106.074594\" style=\"fill: #1f77b4; stroke: #1f77b4\"/>\n     <use xlink:href=\"#m89f34270b3\" x=\"191.849504\" y=\"136.216591\" style=\"fill: #1f77b4; stroke: #1f77b4\"/>\n     <use xlink:href=\"#m89f34270b3\" x=\"107.380398\" y=\"50.060034\" style=\"fill: #1f77b4; stroke: #1f77b4\"/>\n     <use xlink:href=\"#m89f34270b3\" x=\"178.188296\" y=\"96.759212\" style=\"fill: #1f77b4; stroke: #1f77b4\"/>\n     <use xlink:href=\"#m89f34270b3\" x=\"165.515487\" y=\"93.902375\" style=\"fill: #1f77b4; stroke: #1f77b4\"/>\n     <use xlink:href=\"#m89f34270b3\" x=\"151.747172\" y=\"95.441649\" style=\"fill: #1f77b4; stroke: #1f77b4\"/>\n     <use xlink:href=\"#m89f34270b3\" x=\"132.515864\" y=\"50.24074\" style=\"fill: #1f77b4; stroke: #1f77b4\"/>\n     <use xlink:href=\"#m89f34270b3\" x=\"75.426134\" y=\"33.348454\" style=\"fill: #1f77b4; stroke: #1f77b4\"/>\n     <use xlink:href=\"#m89f34270b3\" x=\"164.043403\" y=\"86.1738\" style=\"fill: #1f77b4; stroke: #1f77b4\"/>\n     <use xlink:href=\"#m89f34270b3\" x=\"56.709194\" y=\"44.782677\" style=\"fill: #1f77b4; stroke: #1f77b4\"/>\n     <use xlink:href=\"#m89f34270b3\" x=\"166.068312\" y=\"80.679417\" style=\"fill: #1f77b4; stroke: #1f77b4\"/>\n     <use xlink:href=\"#m89f34270b3\" x=\"132.769833\" y=\"57.120452\" style=\"fill: #1f77b4; stroke: #1f77b4\"/>\n     <use xlink:href=\"#m89f34270b3\" x=\"111.191667\" y=\"62.278678\" style=\"fill: #1f77b4; stroke: #1f77b4\"/>\n     <use xlink:href=\"#m89f34270b3\" x=\"128.634719\" y=\"49.831879\" style=\"fill: #1f77b4; stroke: #1f77b4\"/>\n     <use xlink:href=\"#m89f34270b3\" x=\"123.067836\" y=\"56.402365\" style=\"fill: #1f77b4; stroke: #1f77b4\"/>\n     <use xlink:href=\"#m89f34270b3\" x=\"152.266858\" y=\"74.177858\" style=\"fill: #1f77b4; stroke: #1f77b4\"/>\n     <use xlink:href=\"#m89f34270b3\" x=\"140.561413\" y=\"91.822901\" style=\"fill: #1f77b4; stroke: #1f77b4\"/>\n     <use xlink:href=\"#m89f34270b3\" x=\"137.519366\" y=\"65.390815\" style=\"fill: #1f77b4; stroke: #1f77b4\"/>\n     <use xlink:href=\"#m89f34270b3\" x=\"107.407836\" y=\"58.146306\" style=\"fill: #1f77b4; stroke: #1f77b4\"/>\n     <use xlink:href=\"#m89f34270b3\" x=\"174.535901\" y=\"91.826961\" style=\"fill: #1f77b4; stroke: #1f77b4\"/>\n     <use xlink:href=\"#m89f34270b3\" x=\"107.644822\" y=\"50.951891\" style=\"fill: #1f77b4; stroke: #1f77b4\"/>\n     <use xlink:href=\"#m89f34270b3\" x=\"129.32969\" y=\"84.856448\" style=\"fill: #1f77b4; stroke: #1f77b4\"/>\n     <use xlink:href=\"#m89f34270b3\" x=\"123.640661\" y=\"64.624519\" style=\"fill: #1f77b4; stroke: #1f77b4\"/>\n     <use xlink:href=\"#m89f34270b3\" x=\"154.415504\" y=\"82.019487\" style=\"fill: #1f77b4; stroke: #1f77b4\"/>\n     <use xlink:href=\"#m89f34270b3\" x=\"163.621538\" y=\"95.644121\" style=\"fill: #1f77b4; stroke: #1f77b4\"/>\n     <use xlink:href=\"#m89f34270b3\" x=\"121.197353\" y=\"75.425444\" style=\"fill: #1f77b4; stroke: #1f77b4\"/>\n     <use xlink:href=\"#m89f34270b3\" x=\"149.184372\" y=\"76.108711\" style=\"fill: #1f77b4; stroke: #1f77b4\"/>\n     <use xlink:href=\"#m89f34270b3\" x=\"207.358214\" y=\"113.383071\" style=\"fill: #1f77b4; stroke: #1f77b4\"/>\n     <use xlink:href=\"#m89f34270b3\" x=\"180.196865\" y=\"100.80925\" style=\"fill: #1f77b4; stroke: #1f77b4\"/>\n     <use xlink:href=\"#m89f34270b3\" x=\"151.553119\" y=\"88.877712\" style=\"fill: #1f77b4; stroke: #1f77b4\"/>\n     <use xlink:href=\"#m89f34270b3\" x=\"121.949727\" y=\"72.19517\" style=\"fill: #1f77b4; stroke: #1f77b4\"/>\n     <use xlink:href=\"#m89f34270b3\" x=\"138.024896\" y=\"83.36236\" style=\"fill: #1f77b4; stroke: #1f77b4\"/>\n     <use xlink:href=\"#m89f34270b3\" x=\"144.868845\" y=\"85.938196\" style=\"fill: #1f77b4; stroke: #1f77b4\"/>\n     <use xlink:href=\"#m89f34270b3\" x=\"93.16539\" y=\"38.391188\" style=\"fill: #1f77b4; stroke: #1f77b4\"/>\n     <use xlink:href=\"#m89f34270b3\" x=\"148.705822\" y=\"96.112445\" style=\"fill: #1f77b4; stroke: #1f77b4\"/>\n     <use xlink:href=\"#m89f34270b3\" x=\"98.706015\" y=\"52.541613\" style=\"fill: #1f77b4; stroke: #1f77b4\"/>\n     <use xlink:href=\"#m89f34270b3\" x=\"155.488045\" y=\"89.312124\" style=\"fill: #1f77b4; stroke: #1f77b4\"/>\n     <use xlink:href=\"#m89f34270b3\" x=\"118.103007\" y=\"76.587343\" style=\"fill: #1f77b4; stroke: #1f77b4\"/>\n     <use xlink:href=\"#m89f34270b3\" x=\"92.152974\" y=\"31.250063\" style=\"fill: #1f77b4; stroke: #1f77b4\"/>\n     <use xlink:href=\"#m89f34270b3\" x=\"126.153813\" y=\"79.596243\" style=\"fill: #1f77b4; stroke: #1f77b4\"/>\n     <use xlink:href=\"#m89f34270b3\" x=\"117.936505\" y=\"62.97045\" style=\"fill: #1f77b4; stroke: #1f77b4\"/>\n     <use xlink:href=\"#m89f34270b3\" x=\"139.222002\" y=\"82.419874\" style=\"fill: #1f77b4; stroke: #1f77b4\"/>\n     <use xlink:href=\"#m89f34270b3\" x=\"137.118221\" y=\"89.175512\" style=\"fill: #1f77b4; stroke: #1f77b4\"/>\n     <use xlink:href=\"#m89f34270b3\" x=\"96.38334\" y=\"40.455418\" style=\"fill: #1f77b4; stroke: #1f77b4\"/>\n     <use xlink:href=\"#m89f34270b3\" x=\"149.49343\" y=\"88.27765\" style=\"fill: #1f77b4; stroke: #1f77b4\"/>\n     <use xlink:href=\"#m89f34270b3\" x=\"124.464685\" y=\"52.400412\" style=\"fill: #1f77b4; stroke: #1f77b4\"/>\n     <use xlink:href=\"#m89f34270b3\" x=\"114.463085\" y=\"60.748862\" style=\"fill: #1f77b4; stroke: #1f77b4\"/>\n     <use xlink:href=\"#m89f34270b3\" x=\"116.405327\" y=\"69.765513\" style=\"fill: #1f77b4; stroke: #1f77b4\"/>\n     <use xlink:href=\"#m89f34270b3\" x=\"112.973626\" y=\"63.920689\" style=\"fill: #1f77b4; stroke: #1f77b4\"/>\n     <use xlink:href=\"#m89f34270b3\" x=\"118.926978\" y=\"82.958828\" style=\"fill: #1f77b4; stroke: #1f77b4\"/>\n     <use xlink:href=\"#m89f34270b3\" x=\"146.970222\" y=\"62.851884\" style=\"fill: #1f77b4; stroke: #1f77b4\"/>\n     <use xlink:href=\"#m89f34270b3\" x=\"152.349283\" y=\"66.111664\" style=\"fill: #1f77b4; stroke: #1f77b4\"/>\n     <use xlink:href=\"#m89f34270b3\" x=\"114.497992\" y=\"66.512498\" style=\"fill: #1f77b4; stroke: #1f77b4\"/>\n     <use xlink:href=\"#m89f34270b3\" x=\"151.676119\" y=\"76.350977\" style=\"fill: #1f77b4; stroke: #1f77b4\"/>\n     <use xlink:href=\"#m89f34270b3\" x=\"149.424555\" y=\"66.633946\" style=\"fill: #1f77b4; stroke: #1f77b4\"/>\n     <use xlink:href=\"#m89f34270b3\" x=\"124.571854\" y=\"47.789143\" style=\"fill: #1f77b4; stroke: #1f77b4\"/>\n     <use xlink:href=\"#m89f34270b3\" x=\"144.771152\" y=\"85.328062\" style=\"fill: #1f77b4; stroke: #1f77b4\"/>\n     <use xlink:href=\"#m89f34270b3\" x=\"126.155591\" y=\"63.005622\" style=\"fill: #1f77b4; stroke: #1f77b4\"/>\n     <use xlink:href=\"#m89f34270b3\" x=\"112.609591\" y=\"61.203404\" style=\"fill: #1f77b4; stroke: #1f77b4\"/>\n     <use xlink:href=\"#m89f34270b3\" x=\"111.618699\" y=\"67.214155\" style=\"fill: #1f77b4; stroke: #1f77b4\"/>\n     <use xlink:href=\"#m89f34270b3\" x=\"171.353535\" y=\"108.435363\" style=\"fill: #1f77b4; stroke: #1f77b4\"/>\n     <use xlink:href=\"#m89f34270b3\" x=\"107.930571\" y=\"62.155903\" style=\"fill: #1f77b4; stroke: #1f77b4\"/>\n     <use xlink:href=\"#m89f34270b3\" x=\"201.622596\" y=\"118.165308\" style=\"fill: #1f77b4; stroke: #1f77b4\"/>\n     <use xlink:href=\"#m89f34270b3\" x=\"141.148895\" y=\"77.362265\" style=\"fill: #1f77b4; stroke: #1f77b4\"/>\n     <use xlink:href=\"#m89f34270b3\" x=\"148.33657\" y=\"82.407398\" style=\"fill: #1f77b4; stroke: #1f77b4\"/>\n     <use xlink:href=\"#m89f34270b3\" x=\"117.948145\" y=\"66.88239\" style=\"fill: #1f77b4; stroke: #1f77b4\"/>\n     <use xlink:href=\"#m89f34270b3\" x=\"151.179746\" y=\"84.356458\" style=\"fill: #1f77b4; stroke: #1f77b4\"/>\n     <use xlink:href=\"#m89f34270b3\" x=\"84.957671\" y=\"46.767226\" style=\"fill: #1f77b4; stroke: #1f77b4\"/>\n     <use xlink:href=\"#m89f34270b3\" x=\"134.636192\" y=\"91.130081\" style=\"fill: #1f77b4; stroke: #1f77b4\"/>\n     <use xlink:href=\"#m89f34270b3\" x=\"86.595256\" y=\"58.216679\" style=\"fill: #1f77b4; stroke: #1f77b4\"/>\n     <use xlink:href=\"#m89f34270b3\" x=\"119.744227\" y=\"70.822085\" style=\"fill: #1f77b4; stroke: #1f77b4\"/>\n     <use xlink:href=\"#m89f34270b3\" x=\"169.585214\" y=\"92.863988\" style=\"fill: #1f77b4; stroke: #1f77b4\"/>\n     <use xlink:href=\"#m89f34270b3\" x=\"154.882555\" y=\"100.764194\" style=\"fill: #1f77b4; stroke: #1f77b4\"/>\n     <use xlink:href=\"#m89f34270b3\" x=\"161.727504\" y=\"88.560255\" style=\"fill: #1f77b4; stroke: #1f77b4\"/>\n     <use xlink:href=\"#m89f34270b3\" x=\"163.133999\" y=\"85.675102\" style=\"fill: #1f77b4; stroke: #1f77b4\"/>\n     <use xlink:href=\"#m89f34270b3\" x=\"128.741722\" y=\"81.254698\" style=\"fill: #1f77b4; stroke: #1f77b4\"/>\n     <use xlink:href=\"#m89f34270b3\" x=\"157.9467\" y=\"90.886909\" style=\"fill: #1f77b4; stroke: #1f77b4\"/>\n     <use xlink:href=\"#m89f34270b3\" x=\"92.482963\" y=\"59.026747\" style=\"fill: #1f77b4; stroke: #1f77b4\"/>\n     <use xlink:href=\"#m89f34270b3\" x=\"82.109336\" y=\"46.520983\" style=\"fill: #1f77b4; stroke: #1f77b4\"/>\n     <use xlink:href=\"#m89f34270b3\" x=\"153.269348\" y=\"73.724514\" style=\"fill: #1f77b4; stroke: #1f77b4\"/>\n     <use xlink:href=\"#m89f34270b3\" x=\"165.409818\" y=\"101.743264\" style=\"fill: #1f77b4; stroke: #1f77b4\"/>\n     <use xlink:href=\"#m89f34270b3\" x=\"103.866278\" y=\"22.615491\" style=\"fill: #1f77b4; stroke: #1f77b4\"/>\n     <use xlink:href=\"#m89f34270b3\" x=\"122.685916\" y=\"59.767473\" style=\"fill: #1f77b4; stroke: #1f77b4\"/>\n     <use xlink:href=\"#m89f34270b3\" x=\"94.588127\" y=\"39.53683\" style=\"fill: #1f77b4; stroke: #1f77b4\"/>\n     <use xlink:href=\"#m89f34270b3\" x=\"157.905534\" y=\"110.583682\" style=\"fill: #1f77b4; stroke: #1f77b4\"/>\n     <use xlink:href=\"#m89f34270b3\" x=\"73.79646\" y=\"30.036758\" style=\"fill: #1f77b4; stroke: #1f77b4\"/>\n     <use xlink:href=\"#m89f34270b3\" x=\"94.983481\" y=\"60.98496\" style=\"fill: #1f77b4; stroke: #1f77b4\"/>\n     <use xlink:href=\"#m89f34270b3\" x=\"93.031326\" y=\"59.643983\" style=\"fill: #1f77b4; stroke: #1f77b4\"/>\n     <use xlink:href=\"#m89f34270b3\" x=\"133.524764\" y=\"72.87435\" style=\"fill: #1f77b4; stroke: #1f77b4\"/>\n     <use xlink:href=\"#m89f34270b3\" x=\"165.72142\" y=\"102.933022\" style=\"fill: #1f77b4; stroke: #1f77b4\"/>\n     <use xlink:href=\"#m89f34270b3\" x=\"104.070211\" y=\"45.300113\" style=\"fill: #1f77b4; stroke: #1f77b4\"/>\n     <use xlink:href=\"#m89f34270b3\" x=\"152.638085\" y=\"97.992405\" style=\"fill: #1f77b4; stroke: #1f77b4\"/>\n     <use xlink:href=\"#m89f34270b3\" x=\"92.953564\" y=\"51.134283\" style=\"fill: #1f77b4; stroke: #1f77b4\"/>\n     <use xlink:href=\"#m89f34270b3\" x=\"184.322359\" y=\"94.326129\" style=\"fill: #1f77b4; stroke: #1f77b4\"/>\n     <use xlink:href=\"#m89f34270b3\" x=\"167.806253\" y=\"116.595717\" style=\"fill: #1f77b4; stroke: #1f77b4\"/>\n     <use xlink:href=\"#m89f34270b3\" x=\"186.332886\" y=\"97.49101\" style=\"fill: #1f77b4; stroke: #1f77b4\"/>\n     <use xlink:href=\"#m89f34270b3\" x=\"97.959975\" y=\"47.174526\" style=\"fill: #1f77b4; stroke: #1f77b4\"/>\n     <use xlink:href=\"#m89f34270b3\" x=\"151.480412\" y=\"83.844056\" style=\"fill: #1f77b4; stroke: #1f77b4\"/>\n     <use xlink:href=\"#m89f34270b3\" x=\"144.633443\" y=\"66.546277\" style=\"fill: #1f77b4; stroke: #1f77b4\"/>\n     <use xlink:href=\"#m89f34270b3\" x=\"108.682606\" y=\"44.44745\" style=\"fill: #1f77b4; stroke: #1f77b4\"/>\n     <use xlink:href=\"#m89f34270b3\" x=\"131.702932\" y=\"76.53911\" style=\"fill: #1f77b4; stroke: #1f77b4\"/>\n     <use xlink:href=\"#m89f34270b3\" x=\"123.570129\" y=\"79.787103\" style=\"fill: #1f77b4; stroke: #1f77b4\"/>\n     <use xlink:href=\"#m89f34270b3\" x=\"129.391466\" y=\"81.713506\" style=\"fill: #1f77b4; stroke: #1f77b4\"/>\n     <use xlink:href=\"#m89f34270b3\" x=\"149.669141\" y=\"65.92342\" style=\"fill: #1f77b4; stroke: #1f77b4\"/>\n     <use xlink:href=\"#m89f34270b3\" x=\"117.566895\" y=\"57.001778\" style=\"fill: #1f77b4; stroke: #1f77b4\"/>\n     <use xlink:href=\"#m89f34270b3\" x=\"121.245167\" y=\"76.779148\" style=\"fill: #1f77b4; stroke: #1f77b4\"/>\n     <use xlink:href=\"#m89f34270b3\" x=\"112.79836\" y=\"61.980153\" style=\"fill: #1f77b4; stroke: #1f77b4\"/>\n     <use xlink:href=\"#m89f34270b3\" x=\"116.862228\" y=\"73.850038\" style=\"fill: #1f77b4; stroke: #1f77b4\"/>\n     <use xlink:href=\"#m89f34270b3\" x=\"171.943649\" y=\"116.18824\" style=\"fill: #1f77b4; stroke: #1f77b4\"/>\n     <use xlink:href=\"#m89f34270b3\" x=\"111.469667\" y=\"54.143286\" style=\"fill: #1f77b4; stroke: #1f77b4\"/>\n     <use xlink:href=\"#m89f34270b3\" x=\"181.397478\" y=\"113.666097\" style=\"fill: #1f77b4; stroke: #1f77b4\"/>\n     <use xlink:href=\"#m89f34270b3\" x=\"97.898313\" y=\"51.413151\" style=\"fill: #1f77b4; stroke: #1f77b4\"/>\n     <use xlink:href=\"#m89f34270b3\" x=\"103.860064\" y=\"60.340947\" style=\"fill: #1f77b4; stroke: #1f77b4\"/>\n     <use xlink:href=\"#m89f34270b3\" x=\"132.476464\" y=\"80.260198\" style=\"fill: #1f77b4; stroke: #1f77b4\"/>\n     <use xlink:href=\"#m89f34270b3\" x=\"124.231401\" y=\"65.457212\" style=\"fill: #1f77b4; stroke: #1f77b4\"/>\n     <use xlink:href=\"#m89f34270b3\" x=\"135.074893\" y=\"81.501813\" style=\"fill: #1f77b4; stroke: #1f77b4\"/>\n     <use xlink:href=\"#m89f34270b3\" x=\"132.098752\" y=\"65.232727\" style=\"fill: #1f77b4; stroke: #1f77b4\"/>\n     <use xlink:href=\"#m89f34270b3\" x=\"135.798468\" y=\"92.370365\" style=\"fill: #1f77b4; stroke: #1f77b4\"/>\n     <use xlink:href=\"#m89f34270b3\" x=\"141.689677\" y=\"73.658517\" style=\"fill: #1f77b4; stroke: #1f77b4\"/>\n     <use xlink:href=\"#m89f34270b3\" x=\"71.783087\" y=\"36.510906\" style=\"fill: #1f77b4; stroke: #1f77b4\"/>\n     <use xlink:href=\"#m89f34270b3\" x=\"135.136271\" y=\"65.587365\" style=\"fill: #1f77b4; stroke: #1f77b4\"/>\n     <use xlink:href=\"#m89f34270b3\" x=\"95.910926\" y=\"36.621325\" style=\"fill: #1f77b4; stroke: #1f77b4\"/>\n     <use xlink:href=\"#m89f34270b3\" x=\"126.278468\" y=\"73.316963\" style=\"fill: #1f77b4; stroke: #1f77b4\"/>\n     <use xlink:href=\"#m89f34270b3\" x=\"174.289549\" y=\"100.16414\" style=\"fill: #1f77b4; stroke: #1f77b4\"/>\n     <use xlink:href=\"#m89f34270b3\" x=\"137.158308\" y=\"67.536514\" style=\"fill: #1f77b4; stroke: #1f77b4\"/>\n     <use xlink:href=\"#m89f34270b3\" x=\"136.800202\" y=\"57.848425\" style=\"fill: #1f77b4; stroke: #1f77b4\"/>\n     <use xlink:href=\"#m89f34270b3\" x=\"136.156876\" y=\"64.018827\" style=\"fill: #1f77b4; stroke: #1f77b4\"/>\n     <use xlink:href=\"#m89f34270b3\" x=\"137.542488\" y=\"78.627223\" style=\"fill: #1f77b4; stroke: #1f77b4\"/>\n     <use xlink:href=\"#m89f34270b3\" x=\"118.079667\" y=\"63.693171\" style=\"fill: #1f77b4; stroke: #1f77b4\"/>\n     <use xlink:href=\"#m89f34270b3\" x=\"95.868531\" y=\"48.768849\" style=\"fill: #1f77b4; stroke: #1f77b4\"/>\n     <use xlink:href=\"#m89f34270b3\" x=\"123.167518\" y=\"80.952686\" style=\"fill: #1f77b4; stroke: #1f77b4\"/>\n     <use xlink:href=\"#m89f34270b3\" x=\"113.11589\" y=\"45.37559\" style=\"fill: #1f77b4; stroke: #1f77b4\"/>\n     <use xlink:href=\"#m89f34270b3\" x=\"157.974376\" y=\"74.596067\" style=\"fill: #1f77b4; stroke: #1f77b4\"/>\n     <use xlink:href=\"#m89f34270b3\" x=\"154.064865\" y=\"81.730428\" style=\"fill: #1f77b4; stroke: #1f77b4\"/>\n     <use xlink:href=\"#m89f34270b3\" x=\"109.714247\" y=\"61.586563\" style=\"fill: #1f77b4; stroke: #1f77b4\"/>\n     <use xlink:href=\"#m89f34270b3\" x=\"148.901556\" y=\"66.265288\" style=\"fill: #1f77b4; stroke: #1f77b4\"/>\n     <use xlink:href=\"#m89f34270b3\" x=\"177.416849\" y=\"97.60343\" style=\"fill: #1f77b4; stroke: #1f77b4\"/>\n     <use xlink:href=\"#m89f34270b3\" x=\"129.461278\" y=\"64.705552\" style=\"fill: #1f77b4; stroke: #1f77b4\"/>\n     <use xlink:href=\"#m89f34270b3\" x=\"137.680305\" y=\"56.877579\" style=\"fill: #1f77b4; stroke: #1f77b4\"/>\n     <use xlink:href=\"#m89f34270b3\" x=\"122.198102\" y=\"78.549228\" style=\"fill: #1f77b4; stroke: #1f77b4\"/>\n     <use xlink:href=\"#m89f34270b3\" x=\"138.476159\" y=\"77.396746\" style=\"fill: #1f77b4; stroke: #1f77b4\"/>\n     <use xlink:href=\"#m89f34270b3\" x=\"150.035928\" y=\"82.591382\" style=\"fill: #1f77b4; stroke: #1f77b4\"/>\n     <use xlink:href=\"#m89f34270b3\" x=\"113.613545\" y=\"62.498312\" style=\"fill: #1f77b4; stroke: #1f77b4\"/>\n     <use xlink:href=\"#m89f34270b3\" x=\"125.760387\" y=\"53.962558\" style=\"fill: #1f77b4; stroke: #1f77b4\"/>\n     <use xlink:href=\"#m89f34270b3\" x=\"121.588125\" y=\"43.57067\" style=\"fill: #1f77b4; stroke: #1f77b4\"/>\n     <use xlink:href=\"#m89f34270b3\" x=\"95.660501\" y=\"51.021919\" style=\"fill: #1f77b4; stroke: #1f77b4\"/>\n     <use xlink:href=\"#m89f34270b3\" x=\"135.614126\" y=\"86.852715\" style=\"fill: #1f77b4; stroke: #1f77b4\"/>\n     <use xlink:href=\"#m89f34270b3\" x=\"178.671769\" y=\"99.257107\" style=\"fill: #1f77b4; stroke: #1f77b4\"/>\n     <use xlink:href=\"#m89f34270b3\" x=\"99.784632\" y=\"50.594185\" style=\"fill: #1f77b4; stroke: #1f77b4\"/>\n     <use xlink:href=\"#m89f34270b3\" x=\"101.271305\" y=\"50.324677\" style=\"fill: #1f77b4; stroke: #1f77b4\"/>\n     <use xlink:href=\"#m89f34270b3\" x=\"86.356191\" y=\"47.171088\" style=\"fill: #1f77b4; stroke: #1f77b4\"/>\n     <use xlink:href=\"#m89f34270b3\" x=\"140.183675\" y=\"81.954464\" style=\"fill: #1f77b4; stroke: #1f77b4\"/>\n     <use xlink:href=\"#m89f34270b3\" x=\"130.37241\" y=\"73.744609\" style=\"fill: #1f77b4; stroke: #1f77b4\"/>\n     <use xlink:href=\"#m89f34270b3\" x=\"135.691297\" y=\"60.726536\" style=\"fill: #1f77b4; stroke: #1f77b4\"/>\n     <use xlink:href=\"#m89f34270b3\" x=\"195.728079\" y=\"130.984657\" style=\"fill: #1f77b4; stroke: #1f77b4\"/>\n     <use xlink:href=\"#m89f34270b3\" x=\"136.2131\" y=\"44.480549\" style=\"fill: #1f77b4; stroke: #1f77b4\"/>\n     <use xlink:href=\"#m89f34270b3\" x=\"127.016277\" y=\"67.49101\" style=\"fill: #1f77b4; stroke: #1f77b4\"/>\n     <use xlink:href=\"#m89f34270b3\" x=\"179.175827\" y=\"97.207974\" style=\"fill: #1f77b4; stroke: #1f77b4\"/>\n     <use xlink:href=\"#m89f34270b3\" x=\"44.18196\" y=\"18.104155\" style=\"fill: #1f77b4; stroke: #1f77b4\"/>\n     <use xlink:href=\"#m89f34270b3\" x=\"148.836852\" y=\"76.175053\" style=\"fill: #1f77b4; stroke: #1f77b4\"/>\n     <use xlink:href=\"#m89f34270b3\" x=\"77.783147\" y=\"36.523833\" style=\"fill: #1f77b4; stroke: #1f77b4\"/>\n     <use xlink:href=\"#m89f34270b3\" x=\"112.934938\" y=\"65.079969\" style=\"fill: #1f77b4; stroke: #1f77b4\"/>\n     <use xlink:href=\"#m89f34270b3\" x=\"123.005151\" y=\"68.789003\" style=\"fill: #1f77b4; stroke: #1f77b4\"/>\n     <use xlink:href=\"#m89f34270b3\" x=\"165.248074\" y=\"98.946311\" style=\"fill: #1f77b4; stroke: #1f77b4\"/>\n     <use xlink:href=\"#m89f34270b3\" x=\"142.558612\" y=\"65.758097\" style=\"fill: #1f77b4; stroke: #1f77b4\"/>\n     <use xlink:href=\"#m89f34270b3\" x=\"142.954186\" y=\"78.76665\" style=\"fill: #1f77b4; stroke: #1f77b4\"/>\n     <use xlink:href=\"#m89f34270b3\" x=\"88.584354\" y=\"53.484864\" style=\"fill: #1f77b4; stroke: #1f77b4\"/>\n     <use xlink:href=\"#m89f34270b3\" x=\"138.510902\" y=\"80.149969\" style=\"fill: #1f77b4; stroke: #1f77b4\"/>\n     <use xlink:href=\"#m89f34270b3\" x=\"169.755963\" y=\"96.624957\" style=\"fill: #1f77b4; stroke: #1f77b4\"/>\n     <use xlink:href=\"#m89f34270b3\" x=\"173.073056\" y=\"95.945998\" style=\"fill: #1f77b4; stroke: #1f77b4\"/>\n     <use xlink:href=\"#m89f34270b3\" x=\"161.001111\" y=\"88.703348\" style=\"fill: #1f77b4; stroke: #1f77b4\"/>\n     <use xlink:href=\"#m89f34270b3\" x=\"124.518266\" y=\"64.735743\" style=\"fill: #1f77b4; stroke: #1f77b4\"/>\n     <use xlink:href=\"#m89f34270b3\" x=\"107.505241\" y=\"67.327526\" style=\"fill: #1f77b4; stroke: #1f77b4\"/>\n     <use xlink:href=\"#m89f34270b3\" x=\"148.236964\" y=\"86.707193\" style=\"fill: #1f77b4; stroke: #1f77b4\"/>\n     <use xlink:href=\"#m89f34270b3\" x=\"108.782976\" y=\"42.15916\" style=\"fill: #1f77b4; stroke: #1f77b4\"/>\n    </g>\n   </g>\n   <g id=\"matplotlib.axis_1\">\n    <g id=\"xtick_1\">\n     <g id=\"line2d_1\">\n      <defs>\n       <path id=\"m6cd94a579c\" d=\"M 0 0 \nL 0 3.5 \n\" style=\"stroke: #000000; stroke-width: 0.8\"/>\n      </defs>\n      <g>\n       <use xlink:href=\"#m6cd94a579c\" x=\"75.279562\" y=\"145.8\" style=\"stroke: #000000; stroke-width: 0.8\"/>\n      </g>\n     </g>\n     <g id=\"text_1\">\n      <!-- −2 -->\n      <g transform=\"translate(67.908468 160.398438) scale(0.1 -0.1)\">\n       <defs>\n        <path id=\"DejaVuSans-2212\" d=\"M 678 2272 \nL 4684 2272 \nL 4684 1741 \nL 678 1741 \nL 678 2272 \nz\n\" transform=\"scale(0.015625)\"/>\n        <path id=\"DejaVuSans-32\" d=\"M 1228 531 \nL 3431 531 \nL 3431 0 \nL 469 0 \nL 469 531 \nQ 828 903 1448 1529 \nQ 2069 2156 2228 2338 \nQ 2531 2678 2651 2914 \nQ 2772 3150 2772 3378 \nQ 2772 3750 2511 3984 \nQ 2250 4219 1831 4219 \nQ 1534 4219 1204 4116 \nQ 875 4013 500 3803 \nL 500 4441 \nQ 881 4594 1212 4672 \nQ 1544 4750 1819 4750 \nQ 2544 4750 2975 4387 \nQ 3406 4025 3406 3419 \nQ 3406 3131 3298 2873 \nQ 3191 2616 2906 2266 \nQ 2828 2175 2409 1742 \nQ 1991 1309 1228 531 \nz\n\" transform=\"scale(0.015625)\"/>\n       </defs>\n       <use xlink:href=\"#DejaVuSans-2212\"/>\n       <use xlink:href=\"#DejaVuSans-32\" x=\"83.789062\"/>\n      </g>\n     </g>\n    </g>\n    <g id=\"xtick_2\">\n     <g id=\"line2d_2\">\n      <g>\n       <use xlink:href=\"#m6cd94a579c\" x=\"132.120962\" y=\"145.8\" style=\"stroke: #000000; stroke-width: 0.8\"/>\n      </g>\n     </g>\n     <g id=\"text_2\">\n      <!-- 0 -->\n      <g transform=\"translate(128.939712 160.398438) scale(0.1 -0.1)\">\n       <defs>\n        <path id=\"DejaVuSans-30\" d=\"M 2034 4250 \nQ 1547 4250 1301 3770 \nQ 1056 3291 1056 2328 \nQ 1056 1369 1301 889 \nQ 1547 409 2034 409 \nQ 2525 409 2770 889 \nQ 3016 1369 3016 2328 \nQ 3016 3291 2770 3770 \nQ 2525 4250 2034 4250 \nz\nM 2034 4750 \nQ 2819 4750 3233 4129 \nQ 3647 3509 3647 2328 \nQ 3647 1150 3233 529 \nQ 2819 -91 2034 -91 \nQ 1250 -91 836 529 \nQ 422 1150 422 2328 \nQ 422 3509 836 4129 \nQ 1250 4750 2034 4750 \nz\n\" transform=\"scale(0.015625)\"/>\n       </defs>\n       <use xlink:href=\"#DejaVuSans-30\"/>\n      </g>\n     </g>\n    </g>\n    <g id=\"xtick_3\">\n     <g id=\"line2d_3\">\n      <g>\n       <use xlink:href=\"#m6cd94a579c\" x=\"188.962362\" y=\"145.8\" style=\"stroke: #000000; stroke-width: 0.8\"/>\n      </g>\n     </g>\n     <g id=\"text_3\">\n      <!-- 2 -->\n      <g transform=\"translate(185.781112 160.398438) scale(0.1 -0.1)\">\n       <use xlink:href=\"#DejaVuSans-32\"/>\n      </g>\n     </g>\n    </g>\n   </g>\n   <g id=\"matplotlib.axis_2\">\n    <g id=\"ytick_1\">\n     <g id=\"line2d_4\">\n      <defs>\n       <path id=\"m89111bc1df\" d=\"M 0 0 \nL -3.5 0 \n\" style=\"stroke: #000000; stroke-width: 0.8\"/>\n      </defs>\n      <g>\n       <use xlink:href=\"#m89111bc1df\" x=\"35.304688\" y=\"144.130364\" style=\"stroke: #000000; stroke-width: 0.8\"/>\n      </g>\n     </g>\n     <g id=\"text_4\">\n      <!-- −10 -->\n      <g transform=\"translate(7.2 147.929583) scale(0.1 -0.1)\">\n       <defs>\n        <path id=\"DejaVuSans-31\" d=\"M 794 531 \nL 1825 531 \nL 1825 4091 \nL 703 3866 \nL 703 4441 \nL 1819 4666 \nL 2450 4666 \nL 2450 531 \nL 3481 531 \nL 3481 0 \nL 794 0 \nL 794 531 \nz\n\" transform=\"scale(0.015625)\"/>\n       </defs>\n       <use xlink:href=\"#DejaVuSans-2212\"/>\n       <use xlink:href=\"#DejaVuSans-31\" x=\"83.789062\"/>\n       <use xlink:href=\"#DejaVuSans-30\" x=\"147.412109\"/>\n      </g>\n     </g>\n    </g>\n    <g id=\"ytick_2\">\n     <g id=\"line2d_5\">\n      <g>\n       <use xlink:href=\"#m89111bc1df\" x=\"35.304688\" y=\"119.027822\" style=\"stroke: #000000; stroke-width: 0.8\"/>\n      </g>\n     </g>\n     <g id=\"text_5\">\n      <!-- −5 -->\n      <g transform=\"translate(13.5625 122.827041) scale(0.1 -0.1)\">\n       <defs>\n        <path id=\"DejaVuSans-35\" d=\"M 691 4666 \nL 3169 4666 \nL 3169 4134 \nL 1269 4134 \nL 1269 2991 \nQ 1406 3038 1543 3061 \nQ 1681 3084 1819 3084 \nQ 2600 3084 3056 2656 \nQ 3513 2228 3513 1497 \nQ 3513 744 3044 326 \nQ 2575 -91 1722 -91 \nQ 1428 -91 1123 -41 \nQ 819 9 494 109 \nL 494 744 \nQ 775 591 1075 516 \nQ 1375 441 1709 441 \nQ 2250 441 2565 725 \nQ 2881 1009 2881 1497 \nQ 2881 1984 2565 2268 \nQ 2250 2553 1709 2553 \nQ 1456 2553 1204 2497 \nQ 953 2441 691 2322 \nL 691 4666 \nz\n\" transform=\"scale(0.015625)\"/>\n       </defs>\n       <use xlink:href=\"#DejaVuSans-2212\"/>\n       <use xlink:href=\"#DejaVuSans-35\" x=\"83.789062\"/>\n      </g>\n     </g>\n    </g>\n    <g id=\"ytick_3\">\n     <g id=\"line2d_6\">\n      <g>\n       <use xlink:href=\"#m89111bc1df\" x=\"35.304688\" y=\"93.92528\" style=\"stroke: #000000; stroke-width: 0.8\"/>\n      </g>\n     </g>\n     <g id=\"text_6\">\n      <!-- 0 -->\n      <g transform=\"translate(21.942187 97.724499) scale(0.1 -0.1)\">\n       <use xlink:href=\"#DejaVuSans-30\"/>\n      </g>\n     </g>\n    </g>\n    <g id=\"ytick_4\">\n     <g id=\"line2d_7\">\n      <g>\n       <use xlink:href=\"#m89111bc1df\" x=\"35.304688\" y=\"68.822739\" style=\"stroke: #000000; stroke-width: 0.8\"/>\n      </g>\n     </g>\n     <g id=\"text_7\">\n      <!-- 5 -->\n      <g transform=\"translate(21.942187 72.621958) scale(0.1 -0.1)\">\n       <use xlink:href=\"#DejaVuSans-35\"/>\n      </g>\n     </g>\n    </g>\n    <g id=\"ytick_5\">\n     <g id=\"line2d_8\">\n      <g>\n       <use xlink:href=\"#m89111bc1df\" x=\"35.304688\" y=\"43.720197\" style=\"stroke: #000000; stroke-width: 0.8\"/>\n      </g>\n     </g>\n     <g id=\"text_8\">\n      <!-- 10 -->\n      <g transform=\"translate(15.579687 47.519416) scale(0.1 -0.1)\">\n       <use xlink:href=\"#DejaVuSans-31\"/>\n       <use xlink:href=\"#DejaVuSans-30\" x=\"63.623047\"/>\n      </g>\n     </g>\n    </g>\n    <g id=\"ytick_6\">\n     <g id=\"line2d_9\">\n      <g>\n       <use xlink:href=\"#m89111bc1df\" x=\"35.304688\" y=\"18.617655\" style=\"stroke: #000000; stroke-width: 0.8\"/>\n      </g>\n     </g>\n     <g id=\"text_9\">\n      <!-- 15 -->\n      <g transform=\"translate(15.579687 22.416874) scale(0.1 -0.1)\">\n       <use xlink:href=\"#DejaVuSans-31\"/>\n       <use xlink:href=\"#DejaVuSans-35\" x=\"63.623047\"/>\n      </g>\n     </g>\n    </g>\n   </g>\n   <g id=\"patch_3\">\n    <path d=\"M 35.304688 145.8 \nL 35.304688 7.2 \n\" style=\"fill: none; stroke: #000000; stroke-width: 0.8; stroke-linejoin: miter; stroke-linecap: square\"/>\n   </g>\n   <g id=\"patch_4\">\n    <path d=\"M 230.604688 145.8 \nL 230.604688 7.2 \n\" style=\"fill: none; stroke: #000000; stroke-width: 0.8; stroke-linejoin: miter; stroke-linecap: square\"/>\n   </g>\n   <g id=\"patch_5\">\n    <path d=\"M 35.304688 145.8 \nL 230.604688 145.8 \n\" style=\"fill: none; stroke: #000000; stroke-width: 0.8; stroke-linejoin: miter; stroke-linecap: square\"/>\n   </g>\n   <g id=\"patch_6\">\n    <path d=\"M 35.304688 7.2 \nL 230.604688 7.2 \n\" style=\"fill: none; stroke: #000000; stroke-width: 0.8; stroke-linejoin: miter; stroke-linecap: square\"/>\n   </g>\n  </g>\n </g>\n <defs>\n  <clipPath id=\"p39b0d294f3\">\n   <rect x=\"35.304688\" y=\"7.2\" width=\"195.3\" height=\"138.6\"/>\n  </clipPath>\n </defs>\n</svg>\n"
     },
     "metadata": {},
     "output_type": "display_data"
    }
   ],
   "execution_count": 5
  },
  {
   "cell_type": "markdown",
   "id": "b032f500",
   "metadata": {
    "origin_pos": 13
   },
   "source": [
    "## 读取数据集\n",
    "\n",
    "回想一下，训练模型时要对数据集进行遍历，每次抽取一小批量样本，并使用它们来更新我们的模型。\n",
    "由于这个过程是训练机器学习算法的基础，所以有必要定义一个函数，\n",
    "该函数能打乱数据集中的样本并以小批量方式获取数据。\n",
    "\n",
    "在下面的代码中，我们[**定义一个`data_iter`函数，\n",
    "该函数接收批量大小、特征矩阵和标签向量作为输入，生成大小为`batch_size`的小批量**]。\n",
    "每个小批量包含一组特征和标签。\n"
   ]
  },
  {
   "cell_type": "code",
   "id": "3da34ac6",
   "metadata": {
    "execution": {
     "iopub.execute_input": "2023-08-18T07:02:04.839342Z",
     "iopub.status.busy": "2023-08-18T07:02:04.838682Z",
     "iopub.status.idle": "2023-08-18T07:02:04.846329Z",
     "shell.execute_reply": "2023-08-18T07:02:04.845247Z"
    },
    "origin_pos": 14,
    "tab": [
     "pytorch"
    ],
    "ExecuteTime": {
     "end_time": "2025-05-02T10:32:21.426245700Z",
     "start_time": "2025-04-28T10:34:11.165318Z"
    }
   },
   "source": [
    "\"\"\"\n",
    "从1000个样本中随机读取一个小批量，并输出features和labels\n",
    "\"\"\"\n",
    "def data_iter(batch_size, features, labels):\n",
    "    num_examples = len(features)\n",
    "    indices = list(range(num_examples))\n",
    "    # 这些样本是随机读取的，没有特定的顺序\n",
    "    random.shuffle(indices)\n",
    "    for i in range(0, num_examples, batch_size):\n",
    "        batch_indices = torch.tensor(indices[i: min(i + batch_size, num_examples)]) # 最后一个批量拉满\n",
    "        yield features[batch_indices], labels[batch_indices]\n",
    "        # python的generator，函数会返回当前批次的特征和标签，并\"暂停\"在那一行。当下一次请求数据时，函数会从暂停的地方继续执行，直到遇到下一个 yield 或函数结束。"
   ],
   "outputs": [],
   "execution_count": 6
  },
  {
   "cell_type": "markdown",
   "id": "52e08a78",
   "metadata": {
    "origin_pos": 16
   },
   "source": [
    "通常，我们利用GPU并行运算的优势，处理合理大小的“小批量”。\n",
    "每个样本都可以并行地进行模型计算，且每个样本损失函数的梯度也可以被并行计算。\n",
    "GPU可以在处理几百个样本时，所花费的时间不比处理一个样本时多太多。\n",
    "\n",
    "我们直观感受一下小批量运算：读取第一个小批量数据样本并打印。\n",
    "每个批量的特征维度显示批量大小和输入特征数。\n",
    "同样的，批量的标签形状与`batch_size`相等。\n"
   ]
  },
  {
   "cell_type": "code",
   "id": "1dce0726",
   "metadata": {
    "execution": {
     "iopub.execute_input": "2023-08-18T07:02:04.851066Z",
     "iopub.status.busy": "2023-08-18T07:02:04.850456Z",
     "iopub.status.idle": "2023-08-18T07:02:04.859860Z",
     "shell.execute_reply": "2023-08-18T07:02:04.858756Z"
    },
    "origin_pos": 17,
    "tab": [
     "pytorch"
    ],
    "ExecuteTime": {
     "end_time": "2025-05-02T10:32:21.426245700Z",
     "start_time": "2025-04-28T10:34:11.256842Z"
    }
   },
   "source": [
    "batch_size = 10\n",
    "\n",
    "for X, y in data_iter(batch_size, features, labels):\n",
    "    print(X, '\\n', y)\n",
    "    break"
   ],
   "outputs": [
    {
     "name": "stdout",
     "output_type": "stream",
     "text": [
      "tensor([[ 0.8170,  0.6881],\n",
      "        [ 0.2438, -0.7592],\n",
      "        [ 0.8176, -1.3409],\n",
      "        [ 1.2502,  0.4029],\n",
      "        [ 0.4046,  0.5818],\n",
      "        [ 0.7963, -1.3987],\n",
      "        [-0.9695, -1.3799],\n",
      "        [-0.4739,  0.7676],\n",
      "        [ 0.8859, -0.2747],\n",
      "        [ 1.4385, -1.2796]]) \n",
      " tensor([[ 3.5005],\n",
      "        [ 7.2643],\n",
      "        [10.4045],\n",
      "        [ 5.3327],\n",
      "        [ 3.0389],\n",
      "        [10.5429],\n",
      "        [ 6.9461],\n",
      "        [ 0.6496],\n",
      "        [ 6.9047],\n",
      "        [11.4248]])\n"
     ]
    }
   ],
   "execution_count": 7
  },
  {
   "cell_type": "markdown",
   "id": "d86e62d7",
   "metadata": {
    "origin_pos": 18
   },
   "source": [
    "当我们运行迭代时，我们会连续地获得不同的小批量，直至遍历完整个数据集。\n",
    "上面实现的迭代对教学来说很好，但它的执行效率很低，可能会在实际问题上陷入麻烦。\n",
    "例如，它要求我们将所有数据加载到内存中，并执行大量的随机内存访问。\n",
    "在深度学习框架中实现的内置迭代器效率要高得多，\n",
    "它可以处理存储在文件中的数据和数据流提供的数据。\n",
    "\n",
    "## 初始化模型参数\n",
    "\n",
    "[**在我们开始用小批量随机梯度下降优化我们的模型参数之前**]，\n",
    "(**我们需要先有一些参数**)。\n",
    "在下面的代码中，我们通过从均值为0、标准差为0.01的正态分布中采样随机数来初始化权重，\n",
    "并将偏置初始化为0。\n"
   ]
  },
  {
   "cell_type": "code",
   "id": "12c51289",
   "metadata": {
    "execution": {
     "iopub.execute_input": "2023-08-18T07:02:04.864457Z",
     "iopub.status.busy": "2023-08-18T07:02:04.863853Z",
     "iopub.status.idle": "2023-08-18T07:02:04.869983Z",
     "shell.execute_reply": "2023-08-18T07:02:04.868859Z"
    },
    "origin_pos": 20,
    "tab": [
     "pytorch"
    ],
    "ExecuteTime": {
     "end_time": "2025-05-02T10:32:21.427298500Z",
     "start_time": "2025-04-28T10:34:11.346881Z"
    }
   },
   "source": [
    "w = torch.normal(0, 0.01, size=(2,1), requires_grad=True)\n",
    "b = torch.zeros(1, requires_grad=True)\n",
    "print(w,b)"
   ],
   "outputs": [
    {
     "name": "stdout",
     "output_type": "stream",
     "text": [
      "tensor([[-0.0067],\n",
      "        [ 0.0022]], requires_grad=True) tensor([0.], requires_grad=True)\n"
     ]
    }
   ],
   "execution_count": 8
  },
  {
   "cell_type": "markdown",
   "id": "c59d5d68",
   "metadata": {
    "origin_pos": 23
   },
   "source": [
    "在初始化参数之后，我们的任务是更新这些参数，直到这些参数足够拟合我们的数据。\n",
    "每次更新都需要计算损失函数关于模型参数的梯度。\n",
    "有了这个梯度，我们就可以向减小损失的方向更新每个参数。\n",
    "因为手动计算梯度很枯燥而且容易出错，所以没有人会手动计算梯度。\n",
    "我们使用 :numref:`sec_autograd`中引入的自动微分来计算梯度。\n",
    "\n",
    "## 定义模型\n",
    "\n",
    "接下来，我们必须[**定义模型，将模型的输入和参数同模型的输出关联起来。**]\n",
    "回想一下，要计算线性模型的输出，\n",
    "我们只需计算输入特征$\\mathbf{X}$和模型权重$\\mathbf{w}$的矩阵-向量乘法后加上偏置$b$。\n",
    "注意，上面的$\\mathbf{Xw}$是一个向量，而$b$是一个标量。\n",
    "回想一下 :numref:`subsec_broadcasting`中描述的广播机制：\n",
    "当我们用一个向量加一个标量时，标量会被加到向量的每个分量上。\n"
   ]
  },
  {
   "cell_type": "code",
   "id": "b8b29b19",
   "metadata": {
    "execution": {
     "iopub.execute_input": "2023-08-18T07:02:04.874642Z",
     "iopub.status.busy": "2023-08-18T07:02:04.874004Z",
     "iopub.status.idle": "2023-08-18T07:02:04.879521Z",
     "shell.execute_reply": "2023-08-18T07:02:04.878471Z"
    },
    "origin_pos": 24,
    "tab": [
     "pytorch"
    ],
    "ExecuteTime": {
     "end_time": "2025-05-02T10:32:21.428531500Z",
     "start_time": "2025-04-28T10:34:11.408007Z"
    }
   },
   "source": [
    "def linreg(X, w, b):  #@save\n",
    "    \"\"\"线性回归模型\"\"\"\n",
    "    return torch.matmul(X, w) + b"
   ],
   "outputs": [],
   "execution_count": 9
  },
  {
   "cell_type": "markdown",
   "id": "6b7765ef",
   "metadata": {
    "origin_pos": 25
   },
   "source": [
    "## [**定义损失函数**]\n",
    "\n",
    "因为需要计算损失函数的梯度，所以我们应该先定义损失函数。\n",
    "这里我们使用 :numref:`sec_linear_regression`中描述的平方损失函数。\n",
    "在实现中，我们需要将真实值`y`的形状转换为和预测值`y_hat`的形状相同。\n"
   ]
  },
  {
   "cell_type": "code",
   "id": "3dda15c7",
   "metadata": {
    "execution": {
     "iopub.execute_input": "2023-08-18T07:02:04.884156Z",
     "iopub.status.busy": "2023-08-18T07:02:04.883559Z",
     "iopub.status.idle": "2023-08-18T07:02:04.889065Z",
     "shell.execute_reply": "2023-08-18T07:02:04.887964Z"
    },
    "origin_pos": 26,
    "tab": [
     "pytorch"
    ],
    "ExecuteTime": {
     "end_time": "2025-05-02T10:32:21.428531500Z",
     "start_time": "2025-04-28T10:34:11.454757Z"
    }
   },
   "source": [
    "def squared_loss(y_hat, y):  #@save\n",
    "    \"\"\"均方损失\"\"\"\n",
    "    return (y_hat - y.reshape(y_hat.shape)) ** 2 / 2\n",
    "# 损失函数应该就返回一个值"
   ],
   "outputs": [],
   "execution_count": 10
  },
  {
   "cell_type": "markdown",
   "id": "56969029",
   "metadata": {
    "origin_pos": 27
   },
   "source": [
    "## (**定义优化算法**)\n",
    "\n",
    "正如我们在 :numref:`sec_linear_regression`中讨论的，线性回归有解析解。\n",
    "尽管线性回归有解析解，但本书中的其他模型却没有。\n",
    "这里我们介绍小批量随机梯度下降。\n",
    "\n",
    "在每一步中，使用从数据集中随机抽取的一个小批量，然后根据参数计算损失的梯度。\n",
    "接下来，朝着减少损失的方向更新我们的参数。\n",
    "下面的函数实现小批量随机梯度下降更新。\n",
    "该函数接受模型参数集合、学习速率和批量大小作为输入。每\n",
    "一步更新的大小由学习速率`lr`决定。\n",
    "因为我们计算的损失是一个批量样本的总和，所以我们用批量大小（`batch_size`）\n",
    "来规范化步长，这样步长大小就不会取决于我们对批量大小的选择。\n"
   ]
  },
  {
   "cell_type": "code",
   "id": "8f92242d",
   "metadata": {
    "execution": {
     "iopub.execute_input": "2023-08-18T07:02:04.893665Z",
     "iopub.status.busy": "2023-08-18T07:02:04.892999Z",
     "iopub.status.idle": "2023-08-18T07:02:04.899100Z",
     "shell.execute_reply": "2023-08-18T07:02:04.898003Z"
    },
    "origin_pos": 29,
    "tab": [
     "pytorch"
    ],
    "ExecuteTime": {
     "end_time": "2025-05-02T10:32:21.430007800Z",
     "start_time": "2025-04-28T10:34:11.497968Z"
    }
   },
   "source": [
    "def sgd(params, lr, batch_size):  #@save\n",
    "    \"\"\"小批量随机梯度下降\"\"\"\n",
    "    with torch.no_grad():\n",
    "        for param in params:\n",
    "            param -= lr * param.grad / batch_size # 这里应该除以实际样本的个数\n",
    "            param.grad.zero_() # 手动清空梯度"
   ],
   "outputs": [],
   "execution_count": 11
  },
  {
   "cell_type": "markdown",
   "id": "89067f86",
   "metadata": {
    "origin_pos": 32
   },
   "source": [
    "## 训练\n",
    "\n",
    "现在我们已经准备好了模型训练所有需要的要素，可以实现主要的[**训练过程**]部分了。\n",
    "理解这段代码至关重要，因为从事深度学习后，\n",
    "相同的训练过程几乎一遍又一遍地出现。\n",
    "在每次迭代中，我们读取一小批量训练样本，并通过我们的模型来获得一组预测。\n",
    "计算完损失后，我们开始反向传播，存储每个参数的梯度。\n",
    "最后，我们调用优化算法`sgd`来更新模型参数。\n",
    "\n",
    "概括一下，我们将执行以下循环：\n",
    "\n",
    "* 初始化参数\n",
    "* 重复以下训练，直到完成\n",
    "    * 计算梯度$\\mathbf{g} \\leftarrow \\partial_{(\\mathbf{w},b)} \\frac{1}{|\\mathcal{B}|} \\sum_{i \\in \\mathcal{B}} l(\\mathbf{x}^{(i)}, y^{(i)}, \\mathbf{w}, b)$\n",
    "    * 更新参数$(\\mathbf{w}, b) \\leftarrow (\\mathbf{w}, b) - \\eta \\mathbf{g}$\n",
    "\n",
    "在每个*迭代周期*（epoch）中，我们使用`data_iter`函数遍历整个数据集，\n",
    "并将训练数据集中所有样本都使用一次（假设样本数能够被批量大小整除）。\n",
    "这里的迭代周期个数`num_epochs`和学习率`lr`都是超参数，分别设为3和0.03。\n",
    "设置超参数很棘手，需要通过反复试验进行调整。\n",
    "我们现在忽略这些细节，以后会在 :numref:`chap_optimization`中详细介绍。\n"
   ]
  },
  {
   "cell_type": "code",
   "id": "9163db58",
   "metadata": {
    "execution": {
     "iopub.execute_input": "2023-08-18T07:02:04.903791Z",
     "iopub.status.busy": "2023-08-18T07:02:04.903216Z",
     "iopub.status.idle": "2023-08-18T07:02:04.908499Z",
     "shell.execute_reply": "2023-08-18T07:02:04.907341Z"
    },
    "origin_pos": 33,
    "tab": [
     "pytorch"
    ],
    "ExecuteTime": {
     "end_time": "2025-05-02T10:32:21.430007800Z",
     "start_time": "2025-04-28T10:34:11.556047Z"
    }
   },
   "source": [
    "# lr = 10 # w和b会慢慢变大，知道loss变为nan\n",
    "lr = 0.03\n",
    "num_epochs = 3\n",
    "net = linreg # 意味着net现在引用了linreg函数对象，后在训练循环中通过net(X, w, b)来调用模型函数\n",
    "loss = squared_loss"
   ],
   "outputs": [],
   "execution_count": 12
  },
  {
   "cell_type": "code",
   "id": "ad5c2cd1",
   "metadata": {
    "execution": {
     "iopub.execute_input": "2023-08-18T07:02:04.913061Z",
     "iopub.status.busy": "2023-08-18T07:02:04.912436Z",
     "iopub.status.idle": "2023-08-18T07:02:05.067276Z",
     "shell.execute_reply": "2023-08-18T07:02:05.066107Z"
    },
    "origin_pos": 35,
    "tab": [
     "pytorch"
    ],
    "ExecuteTime": {
     "end_time": "2025-05-02T10:32:21.431006200Z",
     "start_time": "2025-04-28T10:34:11.601272Z"
    }
   },
   "source": [
    "for epoch in range(num_epochs):\n",
    "    for X, y in data_iter(batch_size, features, labels):\n",
    "        l = loss(net(X, w, b), y)  # X和y的小批量损失\n",
    "        # 因为l形状是(batch_size,1)，而不是一个标量。l中的所有元素被加到一起，\n",
    "        # 并以此计算关于[w,b]的梯度\n",
    "        l.sum().backward()\n",
    "        sgd([w, b], lr, batch_size)  # 使用参数的梯度更新参数，这里应该注意最后一次可能不到batch_size个\n",
    "    with torch.no_grad():\n",
    "        train_l = loss(net(features, w, b), labels)\n",
    "        print(f'epoch {epoch + 1}, loss {float(train_l.mean()):f}')"
   ],
   "outputs": [
    {
     "name": "stdout",
     "output_type": "stream",
     "text": [
      "epoch 1, loss 0.039323\n",
      "epoch 2, loss 0.000145\n",
      "epoch 3, loss 0.000049\n"
     ]
    }
   ],
   "execution_count": 13
  },
  {
   "cell_type": "markdown",
   "id": "427d8cda",
   "metadata": {
    "origin_pos": 38
   },
   "source": [
    "因为我们使用的是自己合成的数据集，所以我们知道真正的参数是什么。\n",
    "因此，我们可以通过[**比较真实参数和通过训练学到的参数来评估训练的成功程度**]。\n",
    "事实上，真实参数和通过训练学到的参数确实非常接近。\n"
   ]
  },
  {
   "cell_type": "code",
   "id": "a4c3d525",
   "metadata": {
    "execution": {
     "iopub.execute_input": "2023-08-18T07:02:05.072546Z",
     "iopub.status.busy": "2023-08-18T07:02:05.071769Z",
     "iopub.status.idle": "2023-08-18T07:02:05.079203Z",
     "shell.execute_reply": "2023-08-18T07:02:05.078107Z"
    },
    "origin_pos": 39,
    "tab": [
     "pytorch"
    ],
    "ExecuteTime": {
     "end_time": "2025-05-02T10:32:21.431006200Z",
     "start_time": "2025-04-28T10:34:11.734163Z"
    }
   },
   "source": [
    "print(f'w的估计误差: {true_w - w.reshape(true_w.shape)}')\n",
    "print(f'b的估计误差: {true_b - b}')"
   ],
   "outputs": [
    {
     "name": "stdout",
     "output_type": "stream",
     "text": [
      "w的估计误差: tensor([-0.0005, -0.0003], grad_fn=<SubBackward0>)\n",
      "b的估计误差: tensor([0.0005], grad_fn=<RsubBackward1>)\n"
     ]
    }
   ],
   "execution_count": 14
  },
  {
   "cell_type": "markdown",
   "id": "9f3d71ee",
   "metadata": {
    "origin_pos": 40
   },
   "source": [
    "注意，我们不应该想当然地认为我们能够完美地求解参数。\n",
    "在机器学习中，我们通常不太关心恢复真正的参数，而更关心如何高度准确预测参数。\n",
    "幸运的是，即使是在复杂的优化问题上，随机梯度下降通常也能找到非常好的解。\n",
    "其中一个原因是，在深度网络中存在许多参数组合能够实现高度精确的预测。\n",
    "\n",
    "## 小结\n",
    "\n",
    "* 我们学习了深度网络是如何实现和优化的。在这一过程中只使用张量和自动微分，不需要定义层或复杂的优化器。\n",
    "* 这一节只触及到了表面知识。在下面的部分中，我们将基于刚刚介绍的概念描述其他模型，并学习如何更简洁地实现其他模型。\n",
    "\n",
    "## 练习\n",
    "\n",
    "1. 如果我们将权重初始化为零，会发生什么。算法仍然有效吗？\n",
    "1. 假设试图为电压和电流的关系建立一个模型。自动微分可以用来学习模型的参数吗?\n",
    "1. 能基于[普朗克定律](https://en.wikipedia.org/wiki/Planck%27s_law)使用光谱能量密度来确定物体的温度吗？\n",
    "1. 计算二阶导数时可能会遇到什么问题？这些问题可以如何解决？\n",
    "1. 为什么在`squared_loss`函数中需要使用`reshape`函数？\n",
    "1. 尝试使用不同的学习率，观察损失函数值下降的快慢。\n",
    "1. 如果样本个数不能被批量大小整除，`data_iter`函数的行为会有什么变化？\n"
   ]
  },
  {
   "cell_type": "markdown",
   "id": "193224b1",
   "metadata": {
    "origin_pos": 42,
    "tab": [
     "pytorch"
    ]
   },
   "source": [
    "[Discussions](https://discuss.d2l.ai/t/1778)\n"
   ]
  }
 ],
 "metadata": {
  "language_info": {
   "name": "python"
  },
  "required_libs": []
 },
 "nbformat": 4,
 "nbformat_minor": 5
}
